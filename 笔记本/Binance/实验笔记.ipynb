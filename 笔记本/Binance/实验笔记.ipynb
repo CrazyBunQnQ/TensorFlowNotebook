{
 "cells": [
  {
   "cell_type": "code",
   "execution_count": 29,
   "metadata": {
    "id": "1rRo8oNqZ-Rj",
    "tags": []
   },
   "outputs": [
    {
     "name": "stdout",
     "output_type": "stream",
     "text": [
      "2.8.0\n"
     ]
    }
   ],
   "source": [
    "# 使用 seaborn 绘制矩阵图 (pairplot)\n",
    "# pip install -q seaborn\n",
    "import pathlib\n",
    "\n",
    "import matplotlib.pyplot as plt\n",
    "import pandas as pd\n",
    "import seaborn as sns\n",
    "import numpy as np\n",
    "import os\n",
    "import hashlib\n",
    "\n",
    "import tensorflow as tf\n",
    "\n",
    "from tensorflow import keras\n",
    "from tensorflow.keras import layers\n",
    "\n",
    "from enums import *\n",
    "from utility import download_file, get_all_symbols, get_parser, get_start_end_date_objects, convert_to_date_object, \\\n",
    "  get_path\n",
    "\n",
    "print(tf.__version__)"
   ]
  },
  {
   "cell_type": "markdown",
   "metadata": {
    "id": "gFh9ne3FZ-On"
   },
   "source": [
    "### 下载数据\n",
    "\n",
    "[币安公开数据](https://github.com/binance/binance-public-data.git)\n",
    "\n",
    "`H:\\MyPrograms\\CrazyProjects\\BinanceData\\python\\data\\spot\\monthly\\klines\\ETHUSDT\\1m\\*.zip`\n",
    "\n",
    "#### K 线数据\n",
    "\n",
    "数据格式: `Open time,Open,High,Low,Close,Volume,Close time,Quote asset volume,Number of trades,Taker buy base asset volume,Taker buy quote asset volume,Ignore`\n",
    "路径:\n",
    "\n",
    "```shell\n",
    "python download-kline.py --help\n",
    "# python download-kline.py -s BTCUSDT -i 1m -endDate 2021-12-31 -c 1\n",
    "python download-kline.py -s BTCUSDT ETHUSDT BNBUSDT SOLUSDT XRPUSDT ADAUSDT LUNAUSDT AVAXUSDT DOTUSDT DOGEUSDT SHIBUSDT NEARUSDT MATICUSDT CROUSDT ATOMUSDT LTCUSDT LINKUSDT UNIUSDT TRXUSDT BCHUSDT FTTUSDT LEOUSDT ETCUSDT ALGOUSDT XLMSDT VETUSDT MANAUSDT HBARUSDT FILUSDT ICPUSDT XMRUSDT EGLDUSDT THETAUSDT SANDUSDT FTMUSDT AXSUSDT APEUSDT RUNEUSDT WAVESUSDT KLAYUSDT XTZUSDT AAVEUSDT HNTUSDT ZECUSDT CAKEUSDT -i 1m -endDate 2021-12-31 -c 1\n",
    "python download-kline.py -s EOSUSDT FLOWUSDT IOTAUSDT MKRUSDT CVXUSDT XECUSDT GRTUSDT BTTUSDT BSVUSDT STXUSDT ONEUSDT CELOUSDT KCSUSDT NEOUSDT KSMUSDT ZILUSDT GALAUSDT MINAUSDT QNTUSDT ENJUSDT HTUSDT CHZUSDT NEXOUSDT LRCUSDT GMTUSDT DASHUSDT OKBUSDT CRVUSDT ARUSDT BATUSDT KDAUSDT AMPUSDT HOTUSDT TFUELUSDT XEMUSDT COMPUSDT ROSEUSDT SCRTUSDT KAVAUSDT GLMRUSDT ANCUSDT DCRUSDT ICXUSDT YFIUSDT IOTXUSDT -i 1m -endDate 2021-12-31 -c 1\n",
    "\n",
    "# 历史交易\n",
    "# trade Id,price,qty,quoteQty,time,isBuyerMaker,isBestMatch\n",
    "python download-trade.py --help\n",
    "# python download-trade.py -s BTCUSDT -startDate 2017-06-01 -endDate 2021-12-31 -c 1\n",
    "python download-trade.py -s BTCUSDT ETHUSDT BNBUSDT SOLUSDT XRPUSDT ADAUSDT LUNAUSDT AVAXUSDT DOTUSDT DOGEUSDT SHIBUSDT NEARUSDT MATICUSDT CROUSDT ATOMUSDT LTCUSDT LINKUSDT UNIUSDT TRXUSDT BCHUSDT FTTUSDT LEOUSDT ETCUSDT ALGOUSDT XLMSDT VETUSDT MANAUSDT HBARUSDT FILUSDT ICPUSDT XMRUSDT EGLDUSDT THETAUSDT SANDUSDT FTMUSDT AXSUSDT APEUSDT RUNEUSDT WAVESUSDT KLAYUSDT XTZUSDT AAVEUSDT HNTUSDT ZECUSDT CAKEUSDT -startDate 2017-06-01 -endDate 2021-12-31 -c 1\n",
    "python download-trade.py -s EOSUSDT FLOWUSDT IOTAUSDT MKRUSDT CVXUSDT XECUSDT GRTUSDT BTTUSDT BSVUSDT STXUSDT ONEUSDT CELOUSDT KCSUSDT NEOUSDT KSMUSDT ZILUSDT GALAUSDT MINAUSDT QNTUSDT ENJUSDT HTUSDT CHZUSDT NEXOUSDT LRCUSDT GMTUSDT DASHUSDT OKBUSDT CRVUSDT ARUSDT BATUSDT KDAUSDT AMPUSDT HOTUSDT TFUELUSDT XEMUSDT COMPUSDT ROSEUSDT SCRTUSDT KAVAUSDT GLMRUSDT ANCUSDT DCRUSDT ICXUSDT YFIUSDT IOTXUSDT -startDate 2017-06-01 -endDate 2021-12-31 -c 1\n",
    "\n",
    "# 聚合交易\n",
    "# Aggregate tradeId,Price,Quantity,First tradeId,Last tradeId,Timestamp,Was the buyer the maker,Was the trade the best price match\n",
    "python download-aggTrade.py --help\n",
    "# python download-aggTrade.py -s BTCUSDT -startDate 2017-06-01 -endDate 2021-12-31 -c 1\n",
    "python download-aggTrade.py -s BTCUSDT ETHUSDT BNBUSDT SOLUSDT XRPUSDT ADAUSDT LUNAUSDT AVAXUSDT DOTUSDT DOGEUSDT SHIBUSDT NEARUSDT MATICUSDT CROUSDT ATOMUSDT LTCUSDT LINKUSDT UNIUSDT TRXUSDT BCHUSDT FTTUSDT LEOUSDT ETCUSDT ALGOUSDT XLMSDT VETUSDT MANAUSDT HBARUSDT FILUSDT ICPUSDT XMRUSDT EGLDUSDT THETAUSDT SANDUSDT FTMUSDT AXSUSDT APEUSDT RUNEUSDT WAVESUSDT KLAYUSDT XTZUSDT AAVEUSDT HNTUSDT ZECUSDT CAKEUSDT -startDate 2017-06-01 -endDate 2021-12-31 -c 1\n",
    "python download-aggTrade.py -s EOSUSDT FLOWUSDT IOTAUSDT MKRUSDT CVXUSDT XECUSDT GRTUSDT BTTUSDT BSVUSDT STXUSDT ONEUSDT CELOUSDT KCSUSDT NEOUSDT KSMUSDT ZILUSDT GALAUSDT MINAUSDT QNTUSDT ENJUSDT HTUSDT CHZUSDT NEXOUSDT LRCUSDT GMTUSDT DASHUSDT OKBUSDT CRVUSDT ARUSDT BATUSDT KDAUSDT AMPUSDT HOTUSDT TFUELUSDT XEMUSDT COMPUSDT ROSEUSDT SCRTUSDT KAVAUSDT GLMRUSDT ANCUSDT DCRUSDT ICXUSDT YFIUSDT IOTXUSDT -startDate 2017-06-01 -endDate 2021-12-31 -c 1\n",
    "```\n",
    "\n",
    "### 数据完整性校验\n",
    "\n",
    "```shell\n",
    "# Linux\n",
    "sha256sum -c BNBUSDT-1m-2021-01.zip.CHECKSUM\n",
    "\n",
    "# From MacOS\n",
    "shasum -a 256 -c BNBUSDT-1m-2021-01.zip.CHECKSUM\n",
    "\n",
    "# Windows\n",
    "type BNBUSDT-1m-2021-01.zip\n",
    "certutil -hashfile BNBUSDT-1m-2021-01.zip SHA256\n",
    "```"
   ]
  },
  {
   "cell_type": "markdown",
   "metadata": {},
   "source": [
    "### 整理数据"
   ]
  },
  {
   "cell_type": "markdown",
   "metadata": {
    "id": "nslsRLh7Zss4"
   },
   "source": [
    "使用 pandas 导入数据集。"
   ]
  },
  {
   "cell_type": "markdown",
   "metadata": {},
   "source": [
    "#### 批量读取"
   ]
  },
  {
   "cell_type": "code",
   "execution_count": 37,
   "metadata": {},
   "outputs": [
    {
     "name": "stdout",
     "output_type": "stream",
     "text": [
      "H:\\MyPrograms\\CrazyProjects\\BinanceData\\python\\data\\spot\\monthly\\klines\\ETHUSDT\\1m\\\n"
     ]
    },
    {
     "data": {
      "text/html": [
       "<div>\n",
       "<style scoped>\n",
       "    .dataframe tbody tr th:only-of-type {\n",
       "        vertical-align: middle;\n",
       "    }\n",
       "\n",
       "    .dataframe tbody tr th {\n",
       "        vertical-align: top;\n",
       "    }\n",
       "\n",
       "    .dataframe thead th {\n",
       "        text-align: right;\n",
       "    }\n",
       "</style>\n",
       "<table border=\"1\" class=\"dataframe\">\n",
       "  <thead>\n",
       "    <tr style=\"text-align: right;\">\n",
       "      <th></th>\n",
       "      <th>Open time</th>\n",
       "      <th>Open</th>\n",
       "      <th>High</th>\n",
       "      <th>Low</th>\n",
       "      <th>Close</th>\n",
       "      <th>Volume</th>\n",
       "      <th>Close time</th>\n",
       "      <th>Quote asset volume</th>\n",
       "      <th>Number of trades</th>\n",
       "      <th>Taker buy base asset volume</th>\n",
       "      <th>Taker buy quote asset volume</th>\n",
       "      <th>Ignore</th>\n",
       "    </tr>\n",
       "  </thead>\n",
       "  <tbody>\n",
       "    <tr>\n",
       "      <th>2337033</th>\n",
       "      <td>1640994900000</td>\n",
       "      <td>3679.36</td>\n",
       "      <td>3679.36</td>\n",
       "      <td>3676.28</td>\n",
       "      <td>3676.65</td>\n",
       "      <td>86.3587</td>\n",
       "      <td>1640994959999</td>\n",
       "      <td>317575.910947</td>\n",
       "      <td>276.0</td>\n",
       "      <td>24.7184</td>\n",
       "      <td>90897.113392</td>\n",
       "      <td>0.0</td>\n",
       "    </tr>\n",
       "    <tr>\n",
       "      <th>2337034</th>\n",
       "      <td>1640994960000</td>\n",
       "      <td>3676.79</td>\n",
       "      <td>3678.54</td>\n",
       "      <td>3676.32</td>\n",
       "      <td>3676.94</td>\n",
       "      <td>64.5531</td>\n",
       "      <td>1640995019999</td>\n",
       "      <td>237389.917077</td>\n",
       "      <td>205.0</td>\n",
       "      <td>31.7050</td>\n",
       "      <td>116585.463673</td>\n",
       "      <td>0.0</td>\n",
       "    </tr>\n",
       "    <tr>\n",
       "      <th>2337035</th>\n",
       "      <td>1640995020000</td>\n",
       "      <td>3676.94</td>\n",
       "      <td>3679.01</td>\n",
       "      <td>3676.83</td>\n",
       "      <td>3677.60</td>\n",
       "      <td>95.8014</td>\n",
       "      <td>1640995079999</td>\n",
       "      <td>352361.427377</td>\n",
       "      <td>230.0</td>\n",
       "      <td>67.9442</td>\n",
       "      <td>249895.865098</td>\n",
       "      <td>0.0</td>\n",
       "    </tr>\n",
       "    <tr>\n",
       "      <th>2337036</th>\n",
       "      <td>1640995080000</td>\n",
       "      <td>3677.56</td>\n",
       "      <td>3677.97</td>\n",
       "      <td>3672.22</td>\n",
       "      <td>3675.10</td>\n",
       "      <td>129.7034</td>\n",
       "      <td>1640995139999</td>\n",
       "      <td>476610.500632</td>\n",
       "      <td>539.0</td>\n",
       "      <td>54.2683</td>\n",
       "      <td>199391.101067</td>\n",
       "      <td>0.0</td>\n",
       "    </tr>\n",
       "    <tr>\n",
       "      <th>2337037</th>\n",
       "      <td>1640995140000</td>\n",
       "      <td>3675.10</td>\n",
       "      <td>3678.63</td>\n",
       "      <td>3675.09</td>\n",
       "      <td>3676.23</td>\n",
       "      <td>128.7161</td>\n",
       "      <td>1640995199999</td>\n",
       "      <td>473269.517921</td>\n",
       "      <td>295.0</td>\n",
       "      <td>67.4695</td>\n",
       "      <td>248049.944840</td>\n",
       "      <td>0.0</td>\n",
       "    </tr>\n",
       "  </tbody>\n",
       "</table>\n",
       "</div>"
      ],
      "text/plain": [
       "             Open time     Open     High      Low    Close    Volume  \\\n",
       "2337033  1640994900000  3679.36  3679.36  3676.28  3676.65   86.3587   \n",
       "2337034  1640994960000  3676.79  3678.54  3676.32  3676.94   64.5531   \n",
       "2337035  1640995020000  3676.94  3679.01  3676.83  3677.60   95.8014   \n",
       "2337036  1640995080000  3677.56  3677.97  3672.22  3675.10  129.7034   \n",
       "2337037  1640995140000  3675.10  3678.63  3675.09  3676.23  128.7161   \n",
       "\n",
       "            Close time  Quote asset volume  Number of trades  \\\n",
       "2337033  1640994959999       317575.910947             276.0   \n",
       "2337034  1640995019999       237389.917077             205.0   \n",
       "2337035  1640995079999       352361.427377             230.0   \n",
       "2337036  1640995139999       476610.500632             539.0   \n",
       "2337037  1640995199999       473269.517921             295.0   \n",
       "\n",
       "         Taker buy base asset volume  Taker buy quote asset volume  Ignore  \n",
       "2337033                      24.7184                  90897.113392     0.0  \n",
       "2337034                      31.7050                 116585.463673     0.0  \n",
       "2337035                      67.9442                 249895.865098     0.0  \n",
       "2337036                      54.2683                 199391.101067     0.0  \n",
       "2337037                      67.4695                 248049.944840     0.0  "
      ]
     },
     "execution_count": 37,
     "metadata": {},
     "output_type": "execute_result"
    }
   ],
   "source": [
    "file_dir = \"H:\\\\MyPrograms\\\\CrazyProjects\\\\BinanceData\\\\python\\\\data\\\\spot\\\\monthly\\\\klines\\\\ETHUSDT\\\\1m\\\\\"\n",
    "print(file_dir)\n",
    "all_csv_list = os.listdir(file_dir)\n",
    "# 设置列名\n",
    "column_names = ['Open time','Open','High','Low','Close','Volume', 'Close time', 'Quote asset volume',\n",
    "                'Number of trades', 'Taker buy base asset volume', 'Taker buy quote asset volume', 'Ignore']\n",
    "for single_csv in all_csv_list:\n",
    "    # 读取 csv 文件, 分隔符为 \" \", tab 表示注释，会被忽略，跳过初始空格\n",
    "    single_data_frame = pd.read_csv(os.path.join(file_dir, single_csv), names=column_names,\n",
    "                                    # 指定列的指定值作为空值(NaN), `np.arange(0,100,1)` 表示 [0,1,2,3,...,99,100]\n",
    "                                    na_values = {'Volume': 0, 'Number of trades': np.arange(0,100,1)},\n",
    "                                    sep=\",\", skipinitialspace=True)\n",
    "    # print(single_data_frame.info())\n",
    "    if single_csv == all_csv_list[0]:\n",
    "        all_data_frame = single_data_frame\n",
    "    else:\n",
    "        # concatenate all csv to a single dataframe, ingore index\n",
    "        all_data_frame = pd.concat([all_data_frame, single_data_frame], ignore_index=True)\n",
    "dataset = all_data_frame.copy()\n",
    "dataset.tail()"
   ]
  },
  {
   "cell_type": "markdown",
   "metadata": {
    "id": "3MWuJTKEDM-f"
   },
   "source": [
    "### 数据清洗\n",
    "\n",
    "数据集中包括一些未知值。`汇总各个包含空值的字段`"
   ]
  },
  {
   "cell_type": "code",
   "execution_count": 38,
   "metadata": {
    "id": "JEJHhN65a2VV",
    "tags": []
   },
   "outputs": [
    {
     "data": {
      "text/plain": [
       "Open time                             0\n",
       "Open                                  0\n",
       "High                                  0\n",
       "Low                                   0\n",
       "Close                                 0\n",
       "Volume                            32165\n",
       "Close time                            0\n",
       "Quote asset volume                    0\n",
       "Number of trades                1091439\n",
       "Taker buy base asset volume           0\n",
       "Taker buy quote asset volume          0\n",
       "Ignore                                0\n",
       "dtype: int64"
      ]
     },
     "execution_count": 38,
     "metadata": {},
     "output_type": "execute_result"
    }
   ],
   "source": [
    "dataset.isna().sum()"
   ]
  },
  {
   "cell_type": "markdown",
   "metadata": {
    "id": "9UPN0KBHa_WI"
   },
   "source": [
    "为了保证这个初始示例的简单性，`删除这些包含空值的行`。"
   ]
  },
  {
   "cell_type": "code",
   "execution_count": 39,
   "metadata": {
    "id": "4ZUDosChC1UN",
    "tags": []
   },
   "outputs": [
    {
     "data": {
      "text/html": [
       "<div>\n",
       "<style scoped>\n",
       "    .dataframe tbody tr th:only-of-type {\n",
       "        vertical-align: middle;\n",
       "    }\n",
       "\n",
       "    .dataframe tbody tr th {\n",
       "        vertical-align: top;\n",
       "    }\n",
       "\n",
       "    .dataframe thead th {\n",
       "        text-align: right;\n",
       "    }\n",
       "</style>\n",
       "<table border=\"1\" class=\"dataframe\">\n",
       "  <thead>\n",
       "    <tr style=\"text-align: right;\">\n",
       "      <th></th>\n",
       "      <th>Open time</th>\n",
       "      <th>Open</th>\n",
       "      <th>High</th>\n",
       "      <th>Low</th>\n",
       "      <th>Close</th>\n",
       "      <th>Volume</th>\n",
       "      <th>Close time</th>\n",
       "      <th>Quote asset volume</th>\n",
       "      <th>Number of trades</th>\n",
       "      <th>Taker buy base asset volume</th>\n",
       "      <th>Taker buy quote asset volume</th>\n",
       "      <th>Ignore</th>\n",
       "    </tr>\n",
       "  </thead>\n",
       "  <tbody>\n",
       "    <tr>\n",
       "      <th>2337033</th>\n",
       "      <td>1640994900000</td>\n",
       "      <td>3679.36</td>\n",
       "      <td>3679.36</td>\n",
       "      <td>3676.28</td>\n",
       "      <td>3676.65</td>\n",
       "      <td>86.3587</td>\n",
       "      <td>1640994959999</td>\n",
       "      <td>317575.910947</td>\n",
       "      <td>276.0</td>\n",
       "      <td>24.7184</td>\n",
       "      <td>90897.113392</td>\n",
       "      <td>0.0</td>\n",
       "    </tr>\n",
       "    <tr>\n",
       "      <th>2337034</th>\n",
       "      <td>1640994960000</td>\n",
       "      <td>3676.79</td>\n",
       "      <td>3678.54</td>\n",
       "      <td>3676.32</td>\n",
       "      <td>3676.94</td>\n",
       "      <td>64.5531</td>\n",
       "      <td>1640995019999</td>\n",
       "      <td>237389.917077</td>\n",
       "      <td>205.0</td>\n",
       "      <td>31.7050</td>\n",
       "      <td>116585.463673</td>\n",
       "      <td>0.0</td>\n",
       "    </tr>\n",
       "    <tr>\n",
       "      <th>2337035</th>\n",
       "      <td>1640995020000</td>\n",
       "      <td>3676.94</td>\n",
       "      <td>3679.01</td>\n",
       "      <td>3676.83</td>\n",
       "      <td>3677.60</td>\n",
       "      <td>95.8014</td>\n",
       "      <td>1640995079999</td>\n",
       "      <td>352361.427377</td>\n",
       "      <td>230.0</td>\n",
       "      <td>67.9442</td>\n",
       "      <td>249895.865098</td>\n",
       "      <td>0.0</td>\n",
       "    </tr>\n",
       "    <tr>\n",
       "      <th>2337036</th>\n",
       "      <td>1640995080000</td>\n",
       "      <td>3677.56</td>\n",
       "      <td>3677.97</td>\n",
       "      <td>3672.22</td>\n",
       "      <td>3675.10</td>\n",
       "      <td>129.7034</td>\n",
       "      <td>1640995139999</td>\n",
       "      <td>476610.500632</td>\n",
       "      <td>539.0</td>\n",
       "      <td>54.2683</td>\n",
       "      <td>199391.101067</td>\n",
       "      <td>0.0</td>\n",
       "    </tr>\n",
       "    <tr>\n",
       "      <th>2337037</th>\n",
       "      <td>1640995140000</td>\n",
       "      <td>3675.10</td>\n",
       "      <td>3678.63</td>\n",
       "      <td>3675.09</td>\n",
       "      <td>3676.23</td>\n",
       "      <td>128.7161</td>\n",
       "      <td>1640995199999</td>\n",
       "      <td>473269.517921</td>\n",
       "      <td>295.0</td>\n",
       "      <td>67.4695</td>\n",
       "      <td>248049.944840</td>\n",
       "      <td>0.0</td>\n",
       "    </tr>\n",
       "  </tbody>\n",
       "</table>\n",
       "</div>"
      ],
      "text/plain": [
       "             Open time     Open     High      Low    Close    Volume  \\\n",
       "2337033  1640994900000  3679.36  3679.36  3676.28  3676.65   86.3587   \n",
       "2337034  1640994960000  3676.79  3678.54  3676.32  3676.94   64.5531   \n",
       "2337035  1640995020000  3676.94  3679.01  3676.83  3677.60   95.8014   \n",
       "2337036  1640995080000  3677.56  3677.97  3672.22  3675.10  129.7034   \n",
       "2337037  1640995140000  3675.10  3678.63  3675.09  3676.23  128.7161   \n",
       "\n",
       "            Close time  Quote asset volume  Number of trades  \\\n",
       "2337033  1640994959999       317575.910947             276.0   \n",
       "2337034  1640995019999       237389.917077             205.0   \n",
       "2337035  1640995079999       352361.427377             230.0   \n",
       "2337036  1640995139999       476610.500632             539.0   \n",
       "2337037  1640995199999       473269.517921             295.0   \n",
       "\n",
       "         Taker buy base asset volume  Taker buy quote asset volume  Ignore  \n",
       "2337033                      24.7184                  90897.113392     0.0  \n",
       "2337034                      31.7050                 116585.463673     0.0  \n",
       "2337035                      67.9442                 249895.865098     0.0  \n",
       "2337036                      54.2683                 199391.101067     0.0  \n",
       "2337037                      67.4695                 248049.944840     0.0  "
      ]
     },
     "execution_count": 39,
     "metadata": {},
     "output_type": "execute_result"
    }
   ],
   "source": [
    "dataset = dataset.dropna()\n",
    "dataset.tail()"
   ]
  },
  {
   "cell_type": "markdown",
   "metadata": {
    "id": "Cuym4yvk76vU"
   },
   "source": [
    "### 拆分训练数据集和测试数据集\n",
    "\n",
    "现在需要将数据集拆分为一个训练数据集和一个测试数据集。\n",
    "\n",
    "我们最后将使用测试数据集对模型进行评估。"
   ]
  },
  {
   "cell_type": "code",
   "execution_count": 76,
   "metadata": {
    "id": "qn-IGhUE7_1H",
    "tags": []
   },
   "outputs": [],
   "source": [
    "train_dataset = dataset.sample(frac=0.8,random_state=0)\n",
    "test_dataset = dataset.drop(train_dataset.index)"
   ]
  },
  {
   "cell_type": "markdown",
   "metadata": {
    "id": "J4ubs136WLNp"
   },
   "source": [
    "### 数据检查\n",
    "\n",
    "快速查看训练集中几对列的联合分布。"
   ]
  },
  {
   "cell_type": "code",
   "execution_count": 77,
   "metadata": {
    "id": "yi2FzC3T21jR",
    "tags": []
   },
   "outputs": [
    {
     "data": {
      "text/html": [
       "<div>\n",
       "<style scoped>\n",
       "    .dataframe tbody tr th:only-of-type {\n",
       "        vertical-align: middle;\n",
       "    }\n",
       "\n",
       "    .dataframe tbody tr th {\n",
       "        vertical-align: top;\n",
       "    }\n",
       "\n",
       "    .dataframe thead th {\n",
       "        text-align: right;\n",
       "    }\n",
       "</style>\n",
       "<table border=\"1\" class=\"dataframe\">\n",
       "  <thead>\n",
       "    <tr style=\"text-align: right;\">\n",
       "      <th></th>\n",
       "      <th>count</th>\n",
       "      <th>mean</th>\n",
       "      <th>std</th>\n",
       "      <th>min</th>\n",
       "      <th>25%</th>\n",
       "      <th>50%</th>\n",
       "      <th>75%</th>\n",
       "      <th>max</th>\n",
       "    </tr>\n",
       "  </thead>\n",
       "  <tbody>\n",
       "    <tr>\n",
       "      <th>Open</th>\n",
       "      <td>996479.0</td>\n",
       "      <td>1364.212683</td>\n",
       "      <td>1.382416e+03</td>\n",
       "      <td>82.020000</td>\n",
       "      <td>231.700000</td>\n",
       "      <td>592.370000</td>\n",
       "      <td>2302.245000</td>\n",
       "      <td>4.865220e+03</td>\n",
       "    </tr>\n",
       "    <tr>\n",
       "      <th>High</th>\n",
       "      <td>996479.0</td>\n",
       "      <td>1365.518785</td>\n",
       "      <td>1.383479e+03</td>\n",
       "      <td>82.090000</td>\n",
       "      <td>231.900000</td>\n",
       "      <td>592.870000</td>\n",
       "      <td>2305.000000</td>\n",
       "      <td>4.868000e+03</td>\n",
       "    </tr>\n",
       "    <tr>\n",
       "      <th>Low</th>\n",
       "      <td>996479.0</td>\n",
       "      <td>1362.891200</td>\n",
       "      <td>1.381358e+03</td>\n",
       "      <td>81.850000</td>\n",
       "      <td>231.480000</td>\n",
       "      <td>591.800000</td>\n",
       "      <td>2299.585000</td>\n",
       "      <td>4.854890e+03</td>\n",
       "    </tr>\n",
       "    <tr>\n",
       "      <th>Close</th>\n",
       "      <td>996479.0</td>\n",
       "      <td>1364.211460</td>\n",
       "      <td>1.382421e+03</td>\n",
       "      <td>82.030000</td>\n",
       "      <td>231.700000</td>\n",
       "      <td>592.350000</td>\n",
       "      <td>2302.295000</td>\n",
       "      <td>4.865220e+03</td>\n",
       "    </tr>\n",
       "    <tr>\n",
       "      <th>Volume</th>\n",
       "      <td>996479.0</td>\n",
       "      <td>633.978148</td>\n",
       "      <td>8.823848e+02</td>\n",
       "      <td>1.468530</td>\n",
       "      <td>212.169880</td>\n",
       "      <td>377.578460</td>\n",
       "      <td>708.384845</td>\n",
       "      <td>3.563260e+04</td>\n",
       "    </tr>\n",
       "    <tr>\n",
       "      <th>Quote asset volume</th>\n",
       "      <td>996479.0</td>\n",
       "      <td>731441.880557</td>\n",
       "      <td>1.435503e+06</td>\n",
       "      <td>312.597332</td>\n",
       "      <td>91836.241103</td>\n",
       "      <td>273684.559323</td>\n",
       "      <td>803054.323686</td>\n",
       "      <td>6.416325e+07</td>\n",
       "    </tr>\n",
       "    <tr>\n",
       "      <th>Number of trades</th>\n",
       "      <td>996479.0</td>\n",
       "      <td>539.437641</td>\n",
       "      <td>7.798055e+02</td>\n",
       "      <td>100.000000</td>\n",
       "      <td>160.000000</td>\n",
       "      <td>307.000000</td>\n",
       "      <td>615.000000</td>\n",
       "      <td>4.046900e+04</td>\n",
       "    </tr>\n",
       "    <tr>\n",
       "      <th>Taker buy base asset volume</th>\n",
       "      <td>996479.0</td>\n",
       "      <td>315.889180</td>\n",
       "      <td>4.626342e+02</td>\n",
       "      <td>0.000000</td>\n",
       "      <td>95.618010</td>\n",
       "      <td>180.877710</td>\n",
       "      <td>352.586740</td>\n",
       "      <td>2.221545e+04</td>\n",
       "    </tr>\n",
       "    <tr>\n",
       "      <th>Taker buy quote asset volume</th>\n",
       "      <td>996479.0</td>\n",
       "      <td>364190.580887</td>\n",
       "      <td>7.428089e+05</td>\n",
       "      <td>0.000000</td>\n",
       "      <td>42341.801895</td>\n",
       "      <td>131334.107818</td>\n",
       "      <td>391713.690709</td>\n",
       "      <td>4.231387e+07</td>\n",
       "    </tr>\n",
       "    <tr>\n",
       "      <th>Ignore</th>\n",
       "      <td>996479.0</td>\n",
       "      <td>124.836093</td>\n",
       "      <td>7.061699e+03</td>\n",
       "      <td>0.000000</td>\n",
       "      <td>0.000000</td>\n",
       "      <td>0.000000</td>\n",
       "      <td>0.000000</td>\n",
       "      <td>5.386358e+05</td>\n",
       "    </tr>\n",
       "  </tbody>\n",
       "</table>\n",
       "</div>"
      ],
      "text/plain": [
       "                                 count           mean           std  \\\n",
       "Open                          996479.0    1364.212683  1.382416e+03   \n",
       "High                          996479.0    1365.518785  1.383479e+03   \n",
       "Low                           996479.0    1362.891200  1.381358e+03   \n",
       "Close                         996479.0    1364.211460  1.382421e+03   \n",
       "Volume                        996479.0     633.978148  8.823848e+02   \n",
       "Quote asset volume            996479.0  731441.880557  1.435503e+06   \n",
       "Number of trades              996479.0     539.437641  7.798055e+02   \n",
       "Taker buy base asset volume   996479.0     315.889180  4.626342e+02   \n",
       "Taker buy quote asset volume  996479.0  364190.580887  7.428089e+05   \n",
       "Ignore                        996479.0     124.836093  7.061699e+03   \n",
       "\n",
       "                                     min           25%            50%  \\\n",
       "Open                           82.020000    231.700000     592.370000   \n",
       "High                           82.090000    231.900000     592.870000   \n",
       "Low                            81.850000    231.480000     591.800000   \n",
       "Close                          82.030000    231.700000     592.350000   \n",
       "Volume                          1.468530    212.169880     377.578460   \n",
       "Quote asset volume            312.597332  91836.241103  273684.559323   \n",
       "Number of trades              100.000000    160.000000     307.000000   \n",
       "Taker buy base asset volume     0.000000     95.618010     180.877710   \n",
       "Taker buy quote asset volume    0.000000  42341.801895  131334.107818   \n",
       "Ignore                          0.000000      0.000000       0.000000   \n",
       "\n",
       "                                        75%           max  \n",
       "Open                            2302.245000  4.865220e+03  \n",
       "High                            2305.000000  4.868000e+03  \n",
       "Low                             2299.585000  4.854890e+03  \n",
       "Close                           2302.295000  4.865220e+03  \n",
       "Volume                           708.384845  3.563260e+04  \n",
       "Quote asset volume            803054.323686  6.416325e+07  \n",
       "Number of trades                 615.000000  4.046900e+04  \n",
       "Taker buy base asset volume      352.586740  2.221545e+04  \n",
       "Taker buy quote asset volume  391713.690709  4.231387e+07  \n",
       "Ignore                             0.000000  5.386358e+05  "
      ]
     },
     "execution_count": 77,
     "metadata": {},
     "output_type": "execute_result"
    }
   ],
   "source": [
    "train_stats = train_dataset.describe()\n",
    "# 分离不需要的特征\n",
    "train_stats.pop(\"Open time\")\n",
    "train_stats.pop(\"Close time\")\n",
    "train_stats = train_stats.transpose()\n",
    "train_stats"
   ]
  },
  {
   "cell_type": "markdown",
   "metadata": {
    "id": "Db7Auq1yXUvh"
   },
   "source": [
    "### 从标签中分离特征\n",
    "\n",
    "将特征值从目标值或者\"标签\"中分离。 这个标签是你使用训练模型进行预测的值。"
   ]
  },
  {
   "cell_type": "code",
   "execution_count": 78,
   "metadata": {
    "id": "t2sluJdCW7jN",
    "tags": []
   },
   "outputs": [
    {
     "name": "stdout",
     "output_type": "stream",
     "text": [
      "            Open     High      Low    Close      Volume  Quote asset volume  \\\n",
      "2182268  3421.71  3426.59  3410.00  3417.04   906.05820        3.097817e+06   \n",
      "2247161  4318.60  4319.40  4316.48  4318.70   133.09740        5.747732e+05   \n",
      "1967801  2219.83  2221.42  2214.17  2214.66   708.62849        1.572316e+06   \n",
      "2162396  3546.80  3550.41  3546.34  3548.08   301.05460        1.068324e+06   \n",
      "2200204  2972.76  2974.25  2970.75  2974.25   169.46440        5.037656e+05   \n",
      "...          ...      ...      ...      ...         ...                 ...   \n",
      "936474    266.95   267.31   266.94   267.28   621.18279        1.658584e+05   \n",
      "1995656  3616.78  3627.71  3615.28  3619.55  1884.21939        6.824757e+06   \n",
      "1830773  1074.92  1075.29  1073.44  1074.05   273.79222        2.941632e+05   \n",
      "1710352   393.36   393.36   393.02   393.03   184.28585        7.244809e+04   \n",
      "2161486  3428.51  3442.34  3428.51  3440.80   903.37060        3.105749e+06   \n",
      "\n",
      "         Number of trades  Taker buy base asset volume  \\\n",
      "2182268            2043.0                    381.21460   \n",
      "2247161             462.0                     62.03080   \n",
      "1967801            1497.0                    374.78357   \n",
      "2162396             664.0                    181.34790   \n",
      "2200204             340.0                    124.77350   \n",
      "...                   ...                          ...   \n",
      "936474              127.0                    619.68284   \n",
      "1995656            3451.0                   1002.51568   \n",
      "1830773             264.0                     92.55121   \n",
      "1710352             129.0                    111.16788   \n",
      "2161486            1474.0                    425.01210   \n",
      "\n",
      "         Taker buy quote asset volume  Ignore  \n",
      "2182268                  1.303637e+06     0.0  \n",
      "2247161                  2.678732e+05     0.0  \n",
      "1967801                  8.317572e+05     0.0  \n",
      "2162396                  6.435222e+05     0.0  \n",
      "2200204                  3.709375e+05     0.0  \n",
      "...                               ...     ...  \n",
      "936474                   1.654579e+05     0.0  \n",
      "1995656                  3.631820e+06     0.0  \n",
      "1830773                  9.943059e+04     0.0  \n",
      "1710352                  4.370381e+04     0.0  \n",
      "2161486                  1.461268e+06     0.0  \n",
      "\n",
      "[996479 rows x 10 columns]\n"
     ]
    }
   ],
   "source": [
    "train_dataset.pop('Open time')\n",
    "train_dataset.pop('Close time')\n",
    "train_labels = train_dataset\n",
    "test_dataset.pop('Open time')\n",
    "test_dataset.pop('Close time')\n",
    "test_labels = test_dataset\n",
    "print(train_labels)"
   ]
  },
  {
   "cell_type": "markdown",
   "metadata": {
    "id": "mRklxK5s388r"
   },
   "source": [
    "### 数据规范化\n",
    "\n",
    "再次审视下上面的 `train_stats` 部分，并注意每个特征的范围有什么不同。"
   ]
  },
  {
   "cell_type": "markdown",
   "metadata": {
    "id": "-ywmerQ6dSox"
   },
   "source": [
    "使用不同的尺度和范围对特征归一化是好的实践。尽管模型*可能* 在没有特征归一化的情况下收敛，它会使得模型训练更加复杂，并会造成生成的模型依赖输入所使用的单位选择。\n",
    "\n",
    "注意：尽管我们仅仅从训练集中有意生成这些统计数据，但是这些统计信息也会用于归一化的测试数据集。我们需要这样做，将测试数据集放入到与已经训练过的模型相同的分布中。"
   ]
  },
  {
   "cell_type": "code",
   "execution_count": 79,
   "metadata": {
    "id": "JlC5ooJrgjQF",
    "tags": []
   },
   "outputs": [],
   "source": [
    "def norm(x):\n",
    "  return (x - train_stats['mean']) / train_stats['std']\n",
    "normed_train_data = norm(train_dataset)\n",
    "normed_test_data = norm(test_dataset)"
   ]
  },
  {
   "cell_type": "markdown",
   "metadata": {
    "id": "BuiClDk45eS4"
   },
   "source": [
    "我们将会使用这个已经归一化的数据来训练模型。\n",
    "\n",
    "警告: 用于归一化输入的数据统计（均值和标准差）需要反馈给模型从而应用于任何其他数据，以及我们之前所获得独热码。这些数据包含测试数据集以及生产环境中所使用的实时数据。"
   ]
  },
  {
   "cell_type": "markdown",
   "metadata": {
    "id": "SmjdzxKzEu1-"
   },
   "source": [
    "## 模型"
   ]
  },
  {
   "cell_type": "markdown",
   "metadata": {
    "id": "6SWtkIjhrZwa"
   },
   "source": [
    "### 构建模型\n",
    "\n",
    "让我们来构建我们自己的模型。这里，我们将会使用一个“顺序”模型，其中包含两个紧密相连的隐藏层，以及返回单个、连续值得输出层。模型的构建步骤包含于一个名叫 'build_model' 的函数中，稍后我们将会创建第二个模型。 两个密集连接的隐藏层。"
   ]
  },
  {
   "cell_type": "code",
   "execution_count": 80,
   "metadata": {
    "id": "c26juK7ZG8j-",
    "tags": []
   },
   "outputs": [],
   "source": [
    "def build_model():\n",
    "  # 顺序模型\n",
    "  model = keras.Sequential([\n",
    "    layers.Dense(64, activation='relu', input_shape=[len(train_dataset.keys())]),\n",
    "    layers.Dense(64, activation='relu'),\n",
    "    layers.Dense(1)\n",
    "  ])\n",
    "\n",
    "  optimizer = tf.keras.optimizers.RMSprop(0.001)\n",
    "\n",
    "  model.compile(loss='mse',\n",
    "                optimizer=optimizer,\n",
    "                metrics=['mae', 'mse'])\n",
    "  return model"
   ]
  },
  {
   "cell_type": "code",
   "execution_count": 81,
   "metadata": {
    "id": "cGbPb-PHGbhs",
    "tags": []
   },
   "outputs": [],
   "source": [
    "model = build_model()"
   ]
  },
  {
   "cell_type": "markdown",
   "metadata": {
    "id": "Sj49Og4YGULr"
   },
   "source": [
    "### 检查模型\n",
    "\n",
    "使用 `.summary` 方法来打印该模型的简单描述。"
   ]
  },
  {
   "cell_type": "code",
   "execution_count": 82,
   "metadata": {
    "id": "ReAD0n6MsFK-",
    "tags": []
   },
   "outputs": [
    {
     "name": "stdout",
     "output_type": "stream",
     "text": [
      "Model: \"sequential\"\n",
      "_________________________________________________________________\n",
      " Layer (type)                Output Shape              Param #   \n",
      "=================================================================\n",
      " dense (Dense)               (None, 64)                704       \n",
      "                                                                 \n",
      " dense_1 (Dense)             (None, 64)                4160      \n",
      "                                                                 \n",
      " dense_2 (Dense)             (None, 1)                 65        \n",
      "                                                                 \n",
      "=================================================================\n",
      "Total params: 4,929\n",
      "Trainable params: 4,929\n",
      "Non-trainable params: 0\n",
      "_________________________________________________________________\n"
     ]
    }
   ],
   "source": [
    "model.summary()"
   ]
  },
  {
   "cell_type": "markdown",
   "metadata": {
    "id": "Vt6W50qGsJAL"
   },
   "source": [
    "现在试用下这个模型。从训练数据中批量获取‘10’条例子并对这些例子调用 `model.predict` 。\n"
   ]
  },
  {
   "cell_type": "code",
   "execution_count": 83,
   "metadata": {
    "id": "-d-gBaVtGTSC",
    "tags": []
   },
   "outputs": [
    {
     "data": {
      "text/plain": [
       "array([[ 0.17758635],\n",
       "       [ 0.5715677 ],\n",
       "       [ 0.05148899],\n",
       "       [ 0.33929428],\n",
       "       [ 0.3320721 ],\n",
       "       [ 0.31274992],\n",
       "       [ 0.52525324],\n",
       "       [ 0.09876565],\n",
       "       [-0.01203823],\n",
       "       [ 0.07897506]], dtype=float32)"
      ]
     },
     "execution_count": 83,
     "metadata": {},
     "output_type": "execute_result"
    }
   ],
   "source": [
    "example_batch = normed_train_data[:10]\n",
    "example_result = model.predict(example_batch)\n",
    "example_result"
   ]
  },
  {
   "cell_type": "markdown",
   "metadata": {
    "id": "QlM8KrSOsaYo"
   },
   "source": [
    "它似乎在工作，并产生了预期的形状和类型的结果"
   ]
  },
  {
   "cell_type": "markdown",
   "metadata": {
    "id": "0-qWCsh6DlyH"
   },
   "source": [
    "### 训练模型\n",
    "\n",
    "对模型进行10个周期的训练，并在 `history` 对象中记录训练和验证的准确性。"
   ]
  },
  {
   "cell_type": "code",
   "execution_count": 84,
   "metadata": {
    "id": "sD7qHCmNIOY0",
    "tags": []
   },
   "outputs": [
    {
     "name": "stdout",
     "output_type": "stream",
     "text": [
      "\n",
      "..\n",
      "..\n",
      "..\n",
      "..\n",
      ".."
     ]
    }
   ],
   "source": [
    "# 通过为每个完成的时期打印一个点来显示训练进度\n",
    "class PrintDot(keras.callbacks.Callback):\n",
    "  def on_epoch_end(self, epoch, logs):\n",
    "    if epoch % 2 == 0: print('')\n",
    "    print('.', end='')\n",
    "\n",
    "EPOCHS = 1\n",
    "\n",
    "history = model.fit(\n",
    "  normed_train_data, train_labels,\n",
    "  epochs=EPOCHS, validation_split = 0.2, verbose=0,\n",
    "  callbacks=[PrintDot()])"
   ]
  },
  {
   "cell_type": "markdown",
   "metadata": {
    "id": "tQm3pc0FYPQB"
   },
   "source": [
    "使用 `history` 对象中存储的统计信息可视化模型的训练进度。"
   ]
  },
  {
   "cell_type": "code",
   "execution_count": 85,
   "metadata": {
    "id": "4Xj91b-dymEy",
    "tags": []
   },
   "outputs": [
    {
     "data": {
      "text/html": [
       "<div>\n",
       "<style scoped>\n",
       "    .dataframe tbody tr th:only-of-type {\n",
       "        vertical-align: middle;\n",
       "    }\n",
       "\n",
       "    .dataframe tbody tr th {\n",
       "        vertical-align: top;\n",
       "    }\n",
       "\n",
       "    .dataframe thead th {\n",
       "        text-align: right;\n",
       "    }\n",
       "</style>\n",
       "<table border=\"1\" class=\"dataframe\">\n",
       "  <thead>\n",
       "    <tr style=\"text-align: right;\">\n",
       "      <th></th>\n",
       "      <th>loss</th>\n",
       "      <th>mae</th>\n",
       "      <th>mse</th>\n",
       "      <th>val_loss</th>\n",
       "      <th>val_mae</th>\n",
       "      <th>val_mse</th>\n",
       "      <th>epoch</th>\n",
       "    </tr>\n",
       "  </thead>\n",
       "  <tbody>\n",
       "    <tr>\n",
       "      <th>5</th>\n",
       "      <td>2.699251e+11</td>\n",
       "      <td>175033.187500</td>\n",
       "      <td>2.699251e+11</td>\n",
       "      <td>2.671186e+11</td>\n",
       "      <td>175105.687500</td>\n",
       "      <td>2.671186e+11</td>\n",
       "      <td>5</td>\n",
       "    </tr>\n",
       "    <tr>\n",
       "      <th>6</th>\n",
       "      <td>2.699257e+11</td>\n",
       "      <td>175032.968750</td>\n",
       "      <td>2.699257e+11</td>\n",
       "      <td>2.671186e+11</td>\n",
       "      <td>175122.390625</td>\n",
       "      <td>2.671186e+11</td>\n",
       "      <td>6</td>\n",
       "    </tr>\n",
       "    <tr>\n",
       "      <th>7</th>\n",
       "      <td>2.699257e+11</td>\n",
       "      <td>175032.453125</td>\n",
       "      <td>2.699257e+11</td>\n",
       "      <td>2.671186e+11</td>\n",
       "      <td>175121.406250</td>\n",
       "      <td>2.671186e+11</td>\n",
       "      <td>7</td>\n",
       "    </tr>\n",
       "    <tr>\n",
       "      <th>8</th>\n",
       "      <td>2.699257e+11</td>\n",
       "      <td>175033.515625</td>\n",
       "      <td>2.699257e+11</td>\n",
       "      <td>2.671186e+11</td>\n",
       "      <td>175120.796875</td>\n",
       "      <td>2.671186e+11</td>\n",
       "      <td>8</td>\n",
       "    </tr>\n",
       "    <tr>\n",
       "      <th>9</th>\n",
       "      <td>2.699251e+11</td>\n",
       "      <td>175033.421875</td>\n",
       "      <td>2.699251e+11</td>\n",
       "      <td>2.671186e+11</td>\n",
       "      <td>175089.468750</td>\n",
       "      <td>2.671186e+11</td>\n",
       "      <td>9</td>\n",
       "    </tr>\n",
       "  </tbody>\n",
       "</table>\n",
       "</div>"
      ],
      "text/plain": [
       "           loss            mae           mse      val_loss        val_mae  \\\n",
       "5  2.699251e+11  175033.187500  2.699251e+11  2.671186e+11  175105.687500   \n",
       "6  2.699257e+11  175032.968750  2.699257e+11  2.671186e+11  175122.390625   \n",
       "7  2.699257e+11  175032.453125  2.699257e+11  2.671186e+11  175121.406250   \n",
       "8  2.699257e+11  175033.515625  2.699257e+11  2.671186e+11  175120.796875   \n",
       "9  2.699251e+11  175033.421875  2.699251e+11  2.671186e+11  175089.468750   \n",
       "\n",
       "        val_mse  epoch  \n",
       "5  2.671186e+11      5  \n",
       "6  2.671186e+11      6  \n",
       "7  2.671186e+11      7  \n",
       "8  2.671186e+11      8  \n",
       "9  2.671186e+11      9  "
      ]
     },
     "execution_count": 85,
     "metadata": {},
     "output_type": "execute_result"
    }
   ],
   "source": [
    "hist = pd.DataFrame(history.history)\n",
    "hist['epoch'] = history.epoch\n",
    "hist.tail()"
   ]
  },
  {
   "cell_type": "code",
   "execution_count": 86,
   "metadata": {
    "id": "B6XriGbVPh2t",
    "tags": []
   },
   "outputs": [
    {
     "data": {
      "image/png": "[encoded data removed]",
      "text/plain": [
       "<Figure size 432x288 with 1 Axes>"
      ]
     },
     "metadata": {
      "needs_background": "light"
     },
     "output_type": "display_data"
    },
    {
     "data": {
      "image/png": "[encoded data removed]",
      "text/plain": [
       "<Figure size 432x288 with 1 Axes>"
      ]
     },
     "metadata": {
      "needs_background": "light"
     },
     "output_type": "display_data"
    }
   ],
   "source": [
    "def plot_history(history):\n",
    "  hist = pd.DataFrame(history.history)\n",
    "  hist['epoch'] = history.epoch\n",
    "\n",
    "  plt.figure()\n",
    "  plt.xlabel('Epoch')\n",
    "  plt.ylabel('Mean Abs Error [MPG]')\n",
    "  plt.plot(hist['epoch'], hist['mae'],\n",
    "           label='Train Error')\n",
    "  plt.plot(hist['epoch'], hist['val_mae'],\n",
    "           label = 'Val Error')\n",
    "  plt.ylim([0,5])\n",
    "  plt.legend()\n",
    "\n",
    "  plt.figure()\n",
    "  plt.xlabel('Epoch')\n",
    "  plt.ylabel('Mean Square Error [$MPG^2$]')\n",
    "  plt.plot(hist['epoch'], hist['mse'],\n",
    "           label='Train Error')\n",
    "  plt.plot(hist['epoch'], hist['val_mse'],\n",
    "           label = 'Val Error')\n",
    "  plt.ylim([0,20])\n",
    "  plt.legend()\n",
    "  plt.show()\n",
    "\n",
    "\n",
    "plot_history(history)"
   ]
  },
  {
   "cell_type": "markdown",
   "metadata": {
    "id": "AqsuANc11FYv"
   },
   "source": [
    "该图表显示在约100个 epochs 之后误差非但没有改进，反而出现恶化。 让我们更新 `model.fit` 调用，当验证值没有提高上是自动停止训练。\n",
    "我们将使用一个 *EarlyStopping callback* 来测试每个 epoch 的训练条件。如果经过一定数量的 epochs 后没有改进，则自动停止训练。\n",
    "\n",
    "你可以从[这里](https://tensorflow.google.cn/versions/master/api_docs/python/tf/keras/callbacks/EarlyStopping)学习到更多的回调。"
   ]
  },
  {
   "cell_type": "code",
   "execution_count": 26,
   "metadata": {
    "id": "fdMZuhUgzMZ4",
    "tags": []
   },
   "outputs": [
    {
     "name": "stdout",
     "output_type": "stream",
     "text": [
      "\n",
      ".............................................................................................."
     ]
    },
    {
     "data": {
      "image/png": "[encoded data removed]",
      "text/plain": [
       "<Figure size 432x288 with 1 Axes>"
      ]
     },
     "metadata": {
      "needs_background": "light"
     },
     "output_type": "display_data"
    },
    {
     "data": {
      "image/png": "[encoded data removed]",
      "text/plain": [
       "<Figure size 432x288 with 1 Axes>"
      ]
     },
     "metadata": {
      "needs_background": "light"
     },
     "output_type": "display_data"
    }
   ],
   "source": [
    "model = build_model()\n",
    "\n",
    "# patience 值用来检查改进 epochs 的数量\n",
    "early_stop = keras.callbacks.EarlyStopping(monitor='val_loss', patience=10)\n",
    "\n",
    "history = model.fit(normed_train_data, train_labels, epochs=EPOCHS,\n",
    "                    validation_split = 0.2, verbose=0, callbacks=[early_stop, PrintDot()])\n",
    "\n",
    "plot_history(history)"
   ]
  },
  {
   "cell_type": "markdown",
   "metadata": {
    "id": "3St8-DmrX8P4"
   },
   "source": [
    "如图所示，验证集中的平均的误差通常在 +/- 2 MPG左右。 这个结果好么？ 我们将决定权留给你。\n",
    "\n",
    "让我们看看通过使用 **测试集** 来泛化模型的效果如何，我们在训练模型时没有使用测试集。这告诉我们，当我们在现实世界中使用这个模型时，我们可以期望它预测得有多好。"
   ]
  },
  {
   "cell_type": "code",
   "execution_count": 27,
   "metadata": {
    "id": "jl_yNr5n1kms",
    "tags": []
   },
   "outputs": [
    {
     "name": "stdout",
     "output_type": "stream",
     "text": [
      "3/3 - 0s - loss: 6.8613 - mae: 2.1281 - mse: 6.8613 - 19ms/epoch - 6ms/step\n",
      "Testing set Mean Abs Error:  2.13 MPG\n"
     ]
    }
   ],
   "source": [
    "loss, mae, mse = model.evaluate(normed_test_data, test_labels, verbose=2)\n",
    "\n",
    "print(\"Testing set Mean Abs Error: {:5.2f} MPG\".format(mae))"
   ]
  },
  {
   "cell_type": "markdown",
   "metadata": {
    "id": "ft603OzXuEZC"
   },
   "source": [
    "### 做预测\n",
    " \n",
    "最后，使用测试集中的数据预测 MPG 值:"
   ]
  },
  {
   "cell_type": "code",
   "execution_count": 28,
   "metadata": {
    "id": "Xe7RXH3N3CWU",
    "tags": []
   },
   "outputs": [
    {
     "data": {
      "image/png": "[encoded data removed]",
      "text/plain": [
       "<Figure size 432x288 with 1 Axes>"
      ]
     },
     "metadata": {
      "needs_background": "light"
     },
     "output_type": "display_data"
    }
   ],
   "source": [
    "test_predictions = model.predict(normed_test_data).flatten()\n",
    "\n",
    "plt.scatter(test_labels, test_predictions)\n",
    "plt.xlabel('True Values [MPG]')\n",
    "plt.ylabel('Predictions [MPG]')\n",
    "plt.axis('equal')\n",
    "plt.axis('square')\n",
    "plt.xlim([0,plt.xlim()[1]])\n",
    "plt.ylim([0,plt.ylim()[1]])\n",
    "_ = plt.plot([-100, 100], [-100, 100])\n",
    "# 展示图\n",
    "plt.show()"
   ]
  },
  {
   "cell_type": "markdown",
   "metadata": {
    "id": "19wyogbOSU5t"
   },
   "source": [
    "这看起来我们的模型预测得相当好。我们来看下误差分布。"
   ]
  },
  {
   "cell_type": "code",
   "execution_count": 29,
   "metadata": {
    "id": "f-OHX4DiXd8x",
    "tags": []
   },
   "outputs": [
    {
     "data": {
      "image/png": "[encoded data removed]",
      "text/plain": [
       "<Figure size 432x288 with 1 Axes>"
      ]
     },
     "metadata": {
      "needs_background": "light"
     },
     "output_type": "display_data"
    }
   ],
   "source": [
    "error = test_predictions - test_labels\n",
    "plt.hist(error, bins = 25)\n",
    "plt.xlabel(\"Prediction Error [MPG]\")\n",
    "_ = plt.ylabel(\"Count\")\n",
    "plt.show()"
   ]
  },
  {
   "cell_type": "markdown",
   "metadata": {
    "id": "m0CB5tBjSU5w"
   },
   "source": [
    "它不是完全的高斯分布，但我们可以推断出，这是因为样本的数量很小所导致的。"
   ]
  },
  {
   "cell_type": "markdown",
   "metadata": {
    "id": "vgGQuV-yqYZH"
   },
   "source": [
    "## 结论\n",
    "\n",
    "本笔记本 (notebook) 介绍了一些处理回归问题的技术。\n",
    "\n",
    "* 均方误差（MSE）是用于回归问题的常见损失函数（分类问题中使用不同的损失函数）。\n",
    "* 类似的，用于回归的评估指标与分类不同。 常见的回归指标是平均绝对误差（MAE）。\n",
    "* 当数字输入数据特征的值存在不同范围时，每个特征应独立缩放到相同范围。\n",
    "* 如果训练数据不多，一种方法是选择隐藏层较少的小网络，以避免过度拟合。\n",
    "* 早期停止是一种防止过度拟合的有效技术。"
   ]
  }
 ],
 "metadata": {
  "colab": {
   "collapsed_sections": [],
   "name": "regression.ipynb",
   "toc_visible": true
  },
  "kernelspec": {
   "display_name": "Python 3 (ipykernel)",
   "language": "python",
   "name": "python3"
  },
  "language_info": {
   "codemirror_mode": {
    "name": "ipython",
    "version": 3
   },
   "file_extension": ".py",
   "mimetype": "text/x-python",
   "name": "python",
   "nbconvert_exporter": "python",
   "pygments_lexer": "ipython3",
   "version": "3.9.7"
  }
 },
 "nbformat": 4,
 "nbformat_minor": 4
}
