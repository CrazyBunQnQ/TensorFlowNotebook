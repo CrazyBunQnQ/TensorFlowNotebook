{
 "cells": [
  {
   "cell_type": "code",
   "execution_count": 1,
   "metadata": {},
   "outputs": [],
   "source": [
    "import tensorflow as tf\n",
    "tf.compat.v1.disable_eager_execution()"
   ]
  },
  {
   "cell_type": "code",
   "execution_count": 2,
   "metadata": {},
   "outputs": [],
   "source": [
    "# 0阶张量\n",
    "mammal = tf.compat.v1.Variable(\"Elephant\", tf.compat.v1.string)\n",
    "ignition = tf.compat.v1.Variable(451, tf.compat.v1.int16)\n",
    "floating = tf.compat.v1.Variable(3.14159265359, tf.compat.v1.float64)\n",
    "its_complicated = tf.compat.v1.Variable(12.3 - 4.85j, tf.compat.v1.complex64)"
   ]
  },
  {
   "cell_type": "code",
   "execution_count": 3,
   "metadata": {},
   "outputs": [
    {
     "data": {
      "text/plain": [
       "[<tf.Variable 'Variable:0' shape=() dtype=string>,\n",
       " <tf.Variable 'Variable_1:0' shape=() dtype=int32>,\n",
       " <tf.Variable 'Variable_2:0' shape=() dtype=float32>,\n",
       " <tf.Variable 'Variable_3:0' shape=() dtype=complex128>]"
      ]
     },
     "execution_count": 3,
     "metadata": {},
     "output_type": "execute_result"
    }
   ],
   "source": [
    "[mammal, ignition, floating, its_complicated]"
   ]
  },
  {
   "cell_type": "code",
   "execution_count": 4,
   "metadata": {},
   "outputs": [],
   "source": [
    "# 1阶张量\n",
    "mystr = tf.compat.v1.Variable([\"Hello\", \"World\"], tf.compat.v1.string)\n",
    "cool_numbers  = tf.compat.v1.Variable([3.14159, 2.71828], tf.compat.v1.float32)\n",
    "first_primes = tf.compat.v1.Variable([2, 3, 5, 7, 11], tf.compat.v1.int32)\n",
    "its_very_complicated = tf.compat.v1.Variable([12.3 - 4.85j, 7.5 - 6.23j], tf.compat.v1.complex64)"
   ]
  },
  {
   "cell_type": "code",
   "execution_count": 5,
   "metadata": {},
   "outputs": [
    {
     "data": {
      "text/plain": [
       "[<tf.Variable 'Variable_4:0' shape=(2,) dtype=string>,\n",
       " <tf.Variable 'Variable_5:0' shape=(2,) dtype=float32>,\n",
       " <tf.Variable 'Variable_6:0' shape=(5,) dtype=int32>,\n",
       " <tf.Variable 'Variable_7:0' shape=(2,) dtype=complex128>]"
      ]
     },
     "execution_count": 5,
     "metadata": {},
     "output_type": "execute_result"
    }
   ],
   "source": [
    "[mystr, cool_numbers, first_primes, its_very_complicated]"
   ]
  },
  {
   "cell_type": "code",
   "execution_count": 6,
   "metadata": {},
   "outputs": [],
   "source": [
    "# 2阶张量\n",
    "mymat = tf.compat.v1.Variable([[7],[11]], tf.compat.v1.int16)\n",
    "myxor = tf.compat.v1.Variable([[False, True],[True, False]], tf.compat.v1.bool)\n",
    "linear_squares = tf.compat.v1.Variable([[4], [9], [16], [25]], tf.compat.v1.int32)\n",
    "squarish_squares = tf.compat.v1.Variable([ [4, 9], [16, 25] ], tf.compat.v1.int32)\n",
    "rank_of_squares = tf.compat.v1.rank(squarish_squares)\n",
    "mymatC = tf.compat.v1.Variable([[7],[11]], tf.compat.v1.int32)"
   ]
  },
  {
   "cell_type": "code",
   "execution_count": 7,
   "metadata": {},
   "outputs": [
    {
     "data": {
      "text/plain": [
       "[<tf.Variable 'Variable_8:0' shape=(2, 1) dtype=int32>,\n",
       " <tf.Variable 'Variable_9:0' shape=(2, 2) dtype=bool>,\n",
       " <tf.Variable 'Variable_10:0' shape=(4, 1) dtype=int32>,\n",
       " <tf.Variable 'Variable_11:0' shape=(2, 2) dtype=int32>,\n",
       " <tf.Tensor 'Rank:0' shape=() dtype=int32>,\n",
       " <tf.Variable 'Variable_12:0' shape=(2, 1) dtype=int32>]"
      ]
     },
     "execution_count": 7,
     "metadata": {},
     "output_type": "execute_result"
    }
   ],
   "source": [
    "[mymat, myxor, linear_squares, squarish_squares, rank_of_squares, mymatC]"
   ]
  },
  {
   "cell_type": "code",
   "execution_count": 8,
   "metadata": {},
   "outputs": [],
   "source": [
    "# 4阶张量\n",
    "my_image = tf.compat.v1.zeros([10, 299, 299, 3])  # batch x height x width x color"
   ]
  },
  {
   "cell_type": "code",
   "execution_count": 9,
   "metadata": {},
   "outputs": [
    {
     "data": {
      "text/plain": [
       "<tf.Tensor 'zeros:0' shape=(10, 299, 299, 3) dtype=float32>"
      ]
     },
     "execution_count": 9,
     "metadata": {},
     "output_type": "execute_result"
    }
   ],
   "source": [
    "my_image"
   ]
  }
 ],
 "metadata": {
  "kernelspec": {
   "display_name": "Python 3",
   "language": "python",
   "name": "python3"
  },
  "language_info": {
   "codemirror_mode": {
    "name": "ipython",
    "version": 3
   },
   "file_extension": ".py",
   "mimetype": "text/x-python",
   "name": "python",
   "nbconvert_exporter": "python",
   "pygments_lexer": "ipython3",
   "version": "3.8.10"
  }
 },
 "nbformat": 4,
 "nbformat_minor": 4
}
