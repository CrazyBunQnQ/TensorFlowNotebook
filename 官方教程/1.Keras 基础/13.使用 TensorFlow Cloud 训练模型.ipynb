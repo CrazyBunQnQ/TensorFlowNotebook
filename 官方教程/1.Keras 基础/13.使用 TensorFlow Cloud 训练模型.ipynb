{
 "cells": [
  {
   "cell_type": "markdown",
   "metadata": {
    "id": "c359f002e834"
   },
   "source": [
    "# Training Keras models with TensorFlow Cloud"
   ]
  },
  {
   "cell_type": "markdown",
   "metadata": {
    "id": "b1c0246f8536"
   },
   "source": [
    "## Introduction\n",
    "\n",
    "[TensorFlow Cloud](https://github.com/tensorflow/cloud) is a Python package that\n",
    "provides APIs for a seamless transition from local debugging to distributed training\n",
    "in Google Cloud. It simplifies the process of training TensorFlow models on the\n",
    "cloud into a single, simple function call, requiring minimal setup and no changes\n",
    "to your model. TensorFlow Cloud handles cloud-specific tasks such as creating VM\n",
    "instances and distribution strategies for your models automatically. This guide\n",
    "will demonstrate how to interface with Google Cloud through TensorFlow Cloud,\n",
    "and the wide range of functionality provided within TensorFlow Cloud. We'll start\n",
    "with the simplest use-case."
   ]
  },
  {
   "cell_type": "markdown",
   "metadata": {
    "id": "e015c75faba2"
   },
   "source": [
    "## Setup\n",
    "\n",
    "We'll get started by installing TensorFlow Cloud, and importing the packages we\n",
    "will need in this guide."
   ]
  },
  {
   "cell_type": "code",
   "execution_count": 2,
   "metadata": {
    "execution": {
     "iopub.execute_input": "2021-07-27T22:06:51.249662Z",
     "iopub.status.busy": "2021-07-27T22:06:51.246584Z",
     "iopub.status.idle": "2021-07-27T22:07:16.070285Z",
     "shell.execute_reply": "2021-07-27T22:07:16.070688Z"
    },
    "id": "99e5bc5e0ab8"
   },
   "outputs": [
    {
     "name": "stdout",
     "output_type": "stream",
     "text": [
      "\u001b[33mWARNING: You are using pip version 21.1.3; however, version 21.2.1 is available.\n",
      "You should consider upgrading via the '/tmpfs/src/tf_docs_env/bin/python -m pip install --upgrade pip' command.\u001b[0m\n"
     ]
    }
   ],
   "source": [
    "!pip install -q tensorflow_cloud"
   ]
  },
  {
   "cell_type": "code",
   "execution_count": 3,
   "metadata": {
    "execution": {
     "iopub.execute_input": "2021-07-27T22:07:16.075500Z",
     "iopub.status.busy": "2021-07-27T22:07:16.074908Z",
     "iopub.status.idle": "2021-07-27T22:07:18.811369Z",
     "shell.execute_reply": "2021-07-27T22:07:18.810811Z"
    },
    "id": "26113effabca"
   },
   "outputs": [
    {
     "name": "stderr",
     "output_type": "stream",
     "text": [
      "2021-07-27 22:07:16.348453: I tensorflow/stream_executor/platform/default/dso_loader.cc:53] Successfully opened dynamic library libcudart.so.11.0\n"
     ]
    }
   ],
   "source": [
    "import tensorflow as tf\n",
    "import tensorflow_cloud as tfc\n",
    "\n",
    "from tensorflow import keras\n",
    "from tensorflow.keras import layers"
   ]
  },
  {
   "cell_type": "markdown",
   "metadata": {
    "id": "e8568395c87b"
   },
   "source": [
    "## API overview: a first end-to-end example\n",
    "\n",
    "Let's begin with a Keras model training script, such as the following CNN:\n",
    "\n",
    "```python\n",
    "(x_train, y_train), (x_test, y_test) = keras.datasets.mnist.load_data()\n",
    "\n",
    "model = keras.Sequential(\n",
    "    [\n",
    "        keras.Input(shape=(28, 28)),\n",
    "        # Use a Rescaling layer to make sure input values are in the [0, 1] range.\n",
    "        layers.experimental.preprocessing.Rescaling(1.0 / 255),\n",
    "        # The original images have shape (28, 28), so we reshape them to (28, 28, 1)\n",
    "        layers.Reshape(target_shape=(28, 28, 1)),\n",
    "        # Follow-up with a classic small convnet\n",
    "        layers.Conv2D(32, 3, activation=\"relu\"),\n",
    "        layers.MaxPooling2D(2),\n",
    "        layers.Conv2D(32, 3, activation=\"relu\"),\n",
    "        layers.MaxPooling2D(2),\n",
    "        layers.Conv2D(32, 3, activation=\"relu\"),\n",
    "        layers.Flatten(),\n",
    "        layers.Dense(128, activation=\"relu\"),\n",
    "        layers.Dense(10),\n",
    "    ]\n",
    ")\n",
    "\n",
    "model.compile(\n",
    "    optimizer=keras.optimizers.Adam(),\n",
    "    loss=keras.losses.SparseCategoricalCrossentropy(from_logits=True),\n",
    "    metrics=keras.metrics.SparseCategoricalAccuracy(),\n",
    ")\n",
    "\n",
    "model.fit(x_train, y_train, epochs=20, batch_size=128, validation_split=0.1)\n",
    "```"
   ]
  },
  {
   "cell_type": "markdown",
   "metadata": {
    "id": "514f51a9a45d"
   },
   "source": [
    "To train this model on Google Cloud we just need to add a call to `run()` at\n",
    "the beginning of the script, before the imports:\n",
    "```python\n",
    "tfc.run()\n",
    "```"
   ]
  },
  {
   "cell_type": "markdown",
   "metadata": {
    "id": "6e38288bb617"
   },
   "source": [
    "You don't need to worry about cloud-specific tasks such as creating VM instances\n",
    "and distribution strategies when using TensorFlow Cloud.\n",
    "The API includes intelligent defaults for all the parameters -- everything is\n",
    "configurable, but many models can rely on these defaults.\n",
    "\n",
    "Upon calling `run()`, TensorFlow Cloud will:\n",
    "\n",
    "- Make your Python script or notebook distribution-ready.\n",
    "- Convert it into a Docker image with required dependencies.\n",
    "- Run the training job on a GCP GPU-powered VM.\n",
    "- Stream relevant logs and job information.\n",
    "\n",
    "The default VM configuration is 1 chief and 0 workers with 8 CPU cores and\n",
    "1 Tesla T4 GPU."
   ]
  },
  {
   "cell_type": "markdown",
   "metadata": {
    "id": "3ab860e037c9"
   },
   "source": [
    "## Google Cloud configuration\n",
    "\n",
    "In order to facilitate the proper pathways for Cloud training, you will need to\n",
    "do some first-time setup. If you're a new Google Cloud user, there are a few\n",
    "preliminary steps you will need to take:\n",
    "\n",
    "1. Create a GCP Project;\n",
    "2. Enable AI Platform Services;\n",
    "3. Create a Service Account;\n",
    "4. Download an authorization key;\n",
    "5. Create a Cloud Storage bucket.\n",
    "\n",
    "Detailed first-time setup instructions can be found in the\n",
    "[TensorFlow Cloud README](https://github.com/tensorflow/cloud#setup-instructions),\n",
    "and an additional setup example is shown on the\n",
    "[TensorFlow Blog](https://blog.tensorflow.org/2020/08/train-your-tensorflow-model-on-google.html).\n",
    "\n",
    "## Common workflows and Cloud storage\n",
    "\n",
    "In most cases, you'll want to retrieve your model after training on Google Cloud.\n",
    "For this, it's crucial to redirect saving and loading to Cloud Storage while\n",
    "training remotely. We can direct TensorFlow Cloud to our Cloud Storage bucket for\n",
    "a variety of tasks. The storage bucket can be used to save and load large training\n",
    "datasets, store callback logs or model weights, and save trained model files.\n",
    "To begin, let's configure `fit()` to save the model to a Cloud Storage, and set\n",
    "up TensorBoard monitoring to track training progress."
   ]
  },
  {
   "cell_type": "code",
   "execution_count": 4,
   "metadata": {
    "execution": {
     "iopub.execute_input": "2021-07-27T22:07:18.819103Z",
     "iopub.status.busy": "2021-07-27T22:07:18.818459Z",
     "iopub.status.idle": "2021-07-27T22:07:18.820361Z",
     "shell.execute_reply": "2021-07-27T22:07:18.820726Z"
    },
    "id": "af5077731187"
   },
   "outputs": [],
   "source": [
    "def create_model():\n",
    "    model = keras.Sequential(\n",
    "        [\n",
    "            keras.Input(shape=(28, 28)),\n",
    "            layers.experimental.preprocessing.Rescaling(1.0 / 255),\n",
    "            layers.Reshape(target_shape=(28, 28, 1)),\n",
    "            layers.Conv2D(32, 3, activation=\"relu\"),\n",
    "            layers.MaxPooling2D(2),\n",
    "            layers.Conv2D(32, 3, activation=\"relu\"),\n",
    "            layers.MaxPooling2D(2),\n",
    "            layers.Conv2D(32, 3, activation=\"relu\"),\n",
    "            layers.Flatten(),\n",
    "            layers.Dense(128, activation=\"relu\"),\n",
    "            layers.Dense(10),\n",
    "        ]\n",
    "    )\n",
    "\n",
    "    model.compile(\n",
    "        optimizer=keras.optimizers.Adam(),\n",
    "        loss=keras.losses.SparseCategoricalCrossentropy(from_logits=True),\n",
    "        metrics=keras.metrics.SparseCategoricalAccuracy(),\n",
    "    )\n",
    "    return model\n"
   ]
  },
  {
   "cell_type": "markdown",
   "metadata": {
    "id": "5f2e65d8f3a6"
   },
   "source": [
    "Let's save the TensorBoard logs and model checkpoints generated during training\n",
    "in our cloud storage bucket."
   ]
  },
  {
   "cell_type": "code",
   "execution_count": 5,
   "metadata": {
    "execution": {
     "iopub.execute_input": "2021-07-27T22:07:18.827035Z",
     "iopub.status.busy": "2021-07-27T22:07:18.826410Z",
     "iopub.status.idle": "2021-07-27T22:07:20.712218Z",
     "shell.execute_reply": "2021-07-27T22:07:20.712584Z"
    },
    "id": "fdc4f951281c"
   },
   "outputs": [
    {
     "name": "stderr",
     "output_type": "stream",
     "text": [
      "2021-07-27 22:07:18.825259: I tensorflow/core/profiler/lib/profiler_session.cc:126] Profiler session initializing.\n",
      "2021-07-27 22:07:18.825306: I tensorflow/core/profiler/lib/profiler_session.cc:141] Profiler session started.\n",
      "2021-07-27 22:07:18.826514: I tensorflow/stream_executor/platform/default/dso_loader.cc:53] Successfully opened dynamic library libcuda.so.1\n",
      "2021-07-27 22:07:19.524654: I tensorflow/core/profiler/internal/gpu/cupti_tracer.cc:1611] Profiler found 1 GPUs\n",
      "2021-07-27 22:07:19.569799: I tensorflow/stream_executor/platform/default/dso_loader.cc:53] Successfully opened dynamic library libcupti.so.11.2\n",
      "2021-07-27 22:07:19.574795: I tensorflow/core/profiler/lib/profiler_session.cc:159] Profiler session tear down.\n",
      "2021-07-27 22:07:19.574958: I tensorflow/core/profiler/internal/gpu/cupti_tracer.cc:1743] CUPTI activity buffer flushed\n",
      "2021-07-27 22:07:19.590994: I tensorflow/stream_executor/cuda/cuda_gpu_executor.cc:937] successful NUMA node read from SysFS had negative value (-1), but there must be at least one NUMA node, so returning NUMA node zero\n",
      "2021-07-27 22:07:19.592061: I tensorflow/core/common_runtime/gpu/gpu_device.cc:1733] Found device 0 with properties: \n",
      "pciBusID: 0000:00:05.0 name: Tesla V100-SXM2-16GB computeCapability: 7.0\n",
      "coreClock: 1.53GHz coreCount: 80 deviceMemorySize: 15.78GiB deviceMemoryBandwidth: 836.37GiB/s\n",
      "2021-07-27 22:07:19.592100: I tensorflow/stream_executor/platform/default/dso_loader.cc:53] Successfully opened dynamic library libcudart.so.11.0\n",
      "2021-07-27 22:07:19.595897: I tensorflow/stream_executor/platform/default/dso_loader.cc:53] Successfully opened dynamic library libcublas.so.11\n",
      "2021-07-27 22:07:19.595991: I tensorflow/stream_executor/platform/default/dso_loader.cc:53] Successfully opened dynamic library libcublasLt.so.11\n",
      "2021-07-27 22:07:19.597230: I tensorflow/stream_executor/platform/default/dso_loader.cc:53] Successfully opened dynamic library libcufft.so.10\n",
      "2021-07-27 22:07:19.597581: I tensorflow/stream_executor/platform/default/dso_loader.cc:53] Successfully opened dynamic library libcurand.so.10\n",
      "2021-07-27 22:07:19.598756: I tensorflow/stream_executor/platform/default/dso_loader.cc:53] Successfully opened dynamic library libcusolver.so.11\n",
      "2021-07-27 22:07:19.599746: I tensorflow/stream_executor/platform/default/dso_loader.cc:53] Successfully opened dynamic library libcusparse.so.11\n",
      "2021-07-27 22:07:19.599930: I tensorflow/stream_executor/platform/default/dso_loader.cc:53] Successfully opened dynamic library libcudnn.so.8\n",
      "2021-07-27 22:07:19.600043: I tensorflow/stream_executor/cuda/cuda_gpu_executor.cc:937] successful NUMA node read from SysFS had negative value (-1), but there must be at least one NUMA node, so returning NUMA node zero\n",
      "2021-07-27 22:07:19.601088: I tensorflow/stream_executor/cuda/cuda_gpu_executor.cc:937] successful NUMA node read from SysFS had negative value (-1), but there must be at least one NUMA node, so returning NUMA node zero\n",
      "2021-07-27 22:07:19.602037: I tensorflow/core/common_runtime/gpu/gpu_device.cc:1871] Adding visible gpu devices: 0\n",
      "2021-07-27 22:07:19.602416: I tensorflow/core/platform/cpu_feature_guard.cc:142] This TensorFlow binary is optimized with oneAPI Deep Neural Network Library (oneDNN) to use the following CPU instructions in performance-critical operations:  AVX2 AVX512F FMA\n",
      "To enable them in other operations, rebuild TensorFlow with the appropriate compiler flags.\n",
      "2021-07-27 22:07:19.603033: I tensorflow/stream_executor/cuda/cuda_gpu_executor.cc:937] successful NUMA node read from SysFS had negative value (-1), but there must be at least one NUMA node, so returning NUMA node zero\n",
      "2021-07-27 22:07:19.604024: I tensorflow/core/common_runtime/gpu/gpu_device.cc:1733] Found device 0 with properties: \n",
      "pciBusID: 0000:00:05.0 name: Tesla V100-SXM2-16GB computeCapability: 7.0\n",
      "coreClock: 1.53GHz coreCount: 80 deviceMemorySize: 15.78GiB deviceMemoryBandwidth: 836.37GiB/s\n",
      "2021-07-27 22:07:19.604096: I tensorflow/stream_executor/cuda/cuda_gpu_executor.cc:937] successful NUMA node read from SysFS had negative value (-1), but there must be at least one NUMA node, so returning NUMA node zero\n",
      "2021-07-27 22:07:19.605089: I tensorflow/stream_executor/cuda/cuda_gpu_executor.cc:937] successful NUMA node read from SysFS had negative value (-1), but there must be at least one NUMA node, so returning NUMA node zero\n",
      "2021-07-27 22:07:19.606005: I tensorflow/core/common_runtime/gpu/gpu_device.cc:1871] Adding visible gpu devices: 0\n",
      "2021-07-27 22:07:19.606052: I tensorflow/stream_executor/platform/default/dso_loader.cc:53] Successfully opened dynamic library libcudart.so.11.0\n",
      "2021-07-27 22:07:20.242028: I tensorflow/core/common_runtime/gpu/gpu_device.cc:1258] Device interconnect StreamExecutor with strength 1 edge matrix:\n",
      "2021-07-27 22:07:20.242067: I tensorflow/core/common_runtime/gpu/gpu_device.cc:1264]      0 \n",
      "2021-07-27 22:07:20.242076: I tensorflow/core/common_runtime/gpu/gpu_device.cc:1277] 0:   N \n",
      "2021-07-27 22:07:20.242317: I tensorflow/stream_executor/cuda/cuda_gpu_executor.cc:937] successful NUMA node read from SysFS had negative value (-1), but there must be at least one NUMA node, so returning NUMA node zero\n",
      "2021-07-27 22:07:20.243478: I tensorflow/stream_executor/cuda/cuda_gpu_executor.cc:937] successful NUMA node read from SysFS had negative value (-1), but there must be at least one NUMA node, so returning NUMA node zero\n",
      "2021-07-27 22:07:20.244412: I tensorflow/stream_executor/cuda/cuda_gpu_executor.cc:937] successful NUMA node read from SysFS had negative value (-1), but there must be at least one NUMA node, so returning NUMA node zero\n",
      "2021-07-27 22:07:20.245277: I tensorflow/core/common_runtime/gpu/gpu_device.cc:1418] Created TensorFlow device (/job:localhost/replica:0/task:0/device:GPU:0 with 14646 MB memory) -> physical GPU (device: 0, name: Tesla V100-SXM2-16GB, pci bus id: 0000:00:05.0, compute capability: 7.0)\n"
     ]
    },
    {
     "name": "stdout",
     "output_type": "stream",
     "text": [
      "WARNING:tensorflow:Please add `keras.layers.InputLayer` instead of `keras.Input` to Sequential model. `keras.Input` is intended to be used by Functional model.\n"
     ]
    },
    {
     "name": "stderr",
     "output_type": "stream",
     "text": [
      "WARNING:tensorflow:Please add `keras.layers.InputLayer` instead of `keras.Input` to Sequential model. `keras.Input` is intended to be used by Functional model.\n"
     ]
    }
   ],
   "source": [
    "import datetime\n",
    "import os\n",
    "\n",
    "# Note: Please change the gcp_bucket to your bucket name.\n",
    "gcp_bucket = \"keras-examples\"\n",
    "\n",
    "checkpoint_path = os.path.join(\"gs://\", gcp_bucket, \"mnist_example\", \"save_at_{epoch}\")\n",
    "\n",
    "tensorboard_path = os.path.join(  # Timestamp included to enable timeseries graphs\n",
    "    \"gs://\", gcp_bucket, \"logs\", datetime.datetime.now().strftime(\"%Y%m%d-%H%M%S\")\n",
    ")\n",
    "\n",
    "callbacks = [\n",
    "    # TensorBoard will store logs for each epoch and graph performance for us.\n",
    "    keras.callbacks.TensorBoard(log_dir=tensorboard_path, histogram_freq=1),\n",
    "    # ModelCheckpoint will save models after each epoch for retrieval later.\n",
    "    keras.callbacks.ModelCheckpoint(checkpoint_path),\n",
    "    # EarlyStopping will terminate training when val_loss ceases to improve.\n",
    "    keras.callbacks.EarlyStopping(monitor=\"val_loss\", patience=3),\n",
    "]\n",
    "\n",
    "model = create_model()"
   ]
  },
  {
   "cell_type": "markdown",
   "metadata": {
    "id": "45d6210176e6"
   },
   "source": [
    "Here, we will load our data from Keras directly. In general, it's best practice\n",
    "to store your dataset in your Cloud Storage bucket, however TensorFlow Cloud can\n",
    "also accomodate datasets stored locally. That's covered in the Multi-file section\n",
    "of this guide."
   ]
  },
  {
   "cell_type": "code",
   "execution_count": 6,
   "metadata": {
    "execution": {
     "iopub.execute_input": "2021-07-27T22:07:20.718241Z",
     "iopub.status.busy": "2021-07-27T22:07:20.717274Z",
     "iopub.status.idle": "2021-07-27T22:07:21.023310Z",
     "shell.execute_reply": "2021-07-27T22:07:21.023734Z"
    },
    "id": "bd4ef6ffa611"
   },
   "outputs": [],
   "source": [
    "(x_train, y_train), (x_test, y_test) = keras.datasets.mnist.load_data()"
   ]
  },
  {
   "cell_type": "markdown",
   "metadata": {
    "id": "b1d2a2688887"
   },
   "source": [
    "The [TensorFlow Cloud](https://github.com/tensorflow/cloud) API provides the\n",
    "`remote()` function to determine whether code is being executed locally or on\n",
    "the cloud. This allows for the separate designation of `fit()` parameters for\n",
    "local and remote execution, and provides means for easy debugging without overloading\n",
    "your local machine."
   ]
  },
  {
   "cell_type": "code",
   "execution_count": 7,
   "metadata": {
    "execution": {
     "iopub.execute_input": "2021-07-27T22:07:21.029760Z",
     "iopub.status.busy": "2021-07-27T22:07:21.028996Z",
     "iopub.status.idle": "2021-07-27T22:07:44.982070Z",
     "shell.execute_reply": "2021-07-27T22:07:44.981658Z"
    },
    "id": "cfab9ff41fd5"
   },
   "outputs": [
    {
     "name": "stderr",
     "output_type": "stream",
     "text": [
      "2021-07-27 22:07:21.458608: I tensorflow/compiler/mlir/mlir_graph_optimization_pass.cc:176] None of the MLIR Optimization Passes are enabled (registered 2)\n",
      "2021-07-27 22:07:21.459072: I tensorflow/core/platform/profile_utils/cpu_utils.cc:114] CPU Frequency: 2000170000 Hz\n"
     ]
    },
    {
     "name": "stdout",
     "output_type": "stream",
     "text": [
      "Epoch 1/5\n"
     ]
    },
    {
     "name": "stderr",
     "output_type": "stream",
     "text": [
      "2021-07-27 22:07:21.885085: I tensorflow/stream_executor/platform/default/dso_loader.cc:53] Successfully opened dynamic library libcudnn.so.8\n",
      "2021-07-27 22:07:23.986122: I tensorflow/stream_executor/cuda/cuda_dnn.cc:359] Loaded cuDNN version 8100\n",
      "2021-07-27 22:07:29.307903: I tensorflow/stream_executor/platform/default/dso_loader.cc:53] Successfully opened dynamic library libcublas.so.11\n",
      "2021-07-27 22:07:29.684317: I tensorflow/stream_executor/platform/default/dso_loader.cc:53] Successfully opened dynamic library libcublasLt.so.11\n"
     ]
    },
    {
     "name": "stdout",
     "output_type": "stream",
     "text": [
      "938/938 [==============================] - 12s 3ms/step - loss: 0.2065 - sparse_categorical_accuracy: 0.9374\n",
      "Epoch 2/5\n",
      "938/938 [==============================] - 3s 3ms/step - loss: 0.0577 - sparse_categorical_accuracy: 0.9822\n",
      "Epoch 3/5\n",
      "938/938 [==============================] - 3s 3ms/step - loss: 0.0415 - sparse_categorical_accuracy: 0.9868\n",
      "Epoch 4/5\n",
      "938/938 [==============================] - 3s 3ms/step - loss: 0.0332 - sparse_categorical_accuracy: 0.9893\n",
      "Epoch 5/5\n",
      "938/938 [==============================] - 3s 3ms/step - loss: 0.0275 - sparse_categorical_accuracy: 0.9915\n"
     ]
    },
    {
     "data": {
      "text/plain": [
       "<tensorflow.python.keras.callbacks.History at 0x7f7b0c66a390>"
      ]
     },
     "execution_count": 7,
     "metadata": {},
     "output_type": "execute_result"
    }
   ],
   "source": [
    "if tfc.remote():\n",
    "    epochs = 100\n",
    "    callbacks = callbacks\n",
    "    batch_size = 128\n",
    "else:\n",
    "    epochs = 5\n",
    "    batch_size = 64\n",
    "    callbacks = None\n",
    "\n",
    "model.fit(x_train, y_train, epochs=epochs, callbacks=callbacks, batch_size=batch_size)"
   ]
  },
  {
   "cell_type": "markdown",
   "metadata": {
    "id": "9b27c0b3b7db"
   },
   "source": [
    "Let's save the model in GCS after the training is complete."
   ]
  },
  {
   "cell_type": "code",
   "execution_count": 8,
   "metadata": {
    "execution": {
     "iopub.execute_input": "2021-07-27T22:07:44.986626Z",
     "iopub.status.busy": "2021-07-27T22:07:44.986049Z",
     "iopub.status.idle": "2021-07-27T22:07:44.988180Z",
     "shell.execute_reply": "2021-07-27T22:07:44.988522Z"
    },
    "id": "b00451dcfeab"
   },
   "outputs": [],
   "source": [
    "save_path = os.path.join(\"gs://\", gcp_bucket, \"mnist_example\")\n",
    "\n",
    "if tfc.remote():\n",
    "    model.save(save_path)"
   ]
  },
  {
   "cell_type": "markdown",
   "metadata": {
    "id": "0dceb5b7a173"
   },
   "source": [
    "We can also use this storage bucket for Docker image building, instead of your local\n",
    "Docker instance. For this, just add your bucket to the `docker_image_bucket_name` parameter."
   ]
  },
  {
   "cell_type": "code",
   "execution_count": null,
   "metadata": {
    "id": "13200523ed93"
   },
   "outputs": [],
   "source": [
    "# docs_infra: no_execute\n",
    "tfc.run(docker_image_bucket_name=gcp_bucket)"
   ]
  },
  {
   "cell_type": "markdown",
   "metadata": {
    "id": "060a2112c34e"
   },
   "source": [
    "After training the model, we can load the saved model and view our TensorBoard logs\n",
    "to monitor performance."
   ]
  },
  {
   "cell_type": "code",
   "execution_count": null,
   "metadata": {
    "id": "b8d773e2cfb7"
   },
   "outputs": [],
   "source": [
    "# docs_infra: no_execute\n",
    "model = keras.models.load_model(save_path)"
   ]
  },
  {
   "cell_type": "code",
   "execution_count": null,
   "metadata": {
    "id": "05d1d68bae5a"
   },
   "outputs": [],
   "source": [
    "!#docs_infra: no_execute\n",
    "!tensorboard dev upload --logdir \"gs://keras-examples-jonah/logs/fit\" --name \"Guide MNIST\""
   ]
  },
  {
   "cell_type": "markdown",
   "metadata": {
    "id": "3785ece03a8f"
   },
   "source": [
    "## Large-scale projects\n",
    "\n",
    "In many cases, your project containing a Keras model may encompass more than one\n",
    "Python script, or may involve external data or specific dependencies. TensorFlow\n",
    "Cloud is entirely flexible for large-scale deployment, and provides a number of\n",
    "intelligent functionalities to aid your projects.\n",
    "\n",
    "### Entry points: support for Python scripts and Jupyter notebooks\n",
    "\n",
    "Your call to the `run()` API won't always be contained inside the same Python script\n",
    "as your model training code. For this purpose, we provide an `entry_point` parameter.\n",
    "The `entry_point` parameter can be used to specify the Python script or notebook in\n",
    "which your model training code lives. When calling `run()` from the same script as\n",
    "your model, use the `entry_point` default of `None`.\n",
    "\n",
    "### `pip` dependencies\n",
    "\n",
    "If your project calls on additional `pip` dependencies, it's possible to specify\n",
    "the additional required libraries by including a `requirements.txt` file. In this\n",
    "file, simply put a list of all the required dependencies and TensorFlow Cloud will\n",
    "handle integrating these into your cloud build.\n",
    "\n",
    "### Python notebooks\n",
    "\n",
    "TensorFlow Cloud is also runnable from Python notebooks. Additionally, your specified\n",
    "`entry_point` can be a notebook if needed. There are two key differences to keep\n",
    "in mind between TensorFlow Cloud on notebooks compared to scripts:\n",
    "\n",
    "- When calling `run()` from within a notebook, a Cloud Storage bucket must be specified\n",
    "for building and storing your Docker image.\n",
    "- GCloud authentication happens entirely through your authentication key, without\n",
    "project specification. An example workflow using TensorFlow Cloud from a notebook\n",
    "is provided in the \"Putting it all together\" section of this guide.\n",
    "\n",
    "### Multi-file projects\n",
    "\n",
    "If your model depends on additional files, you only need to ensure that these files\n",
    "live in the same directory (or subdirectory) of the specified entry point. Every file\n",
    "that is stored in the same directory as the specified `entry_point` will be included\n",
    "in the Docker image, as well as any files stored in subdirectories adjacent to the\n",
    "`entry_point`. This is also true for dependencies you may need which can't be acquired\n",
    "through `pip`\n",
    "\n",
    "For an example of a custom entry-point and multi-file project with additional pip\n",
    "dependencies, take a look at this multi-file example on the\n",
    "[TensorFlow Cloud Repository](https://github.com/tensorflow/cloud/tree/master/src/python/tensorflow_cloud/core/tests/examples/multi_file_example).\n",
    "For brevity, we'll just include the example's `run()` call:\n",
    "\n",
    "```python\n",
    "tfc.run(\n",
    "    docker_image_bucket_name=gcp_bucket,\n",
    "    entry_point=\"train_model.py\",\n",
    "    requirements=\"requirements.txt\"\n",
    ")\n",
    "```"
   ]
  },
  {
   "cell_type": "markdown",
   "metadata": {
    "id": "997e3f89c734"
   },
   "source": [
    "## Machine configuration and distributed training\n",
    "\n",
    "Model training may require a wide range of different resources, depending on the\n",
    "size of the model or the dataset. When accounting for configurations with multiple\n",
    "GPUs, it becomes critical to choose a fitting\n",
    "[distribution strategy](https://www.tensorflow.org/guide/distributed_training).\n",
    "Here, we outline a few possible configurations:\n",
    "\n",
    "### Multi-worker distribution\n",
    "Here, we can use `COMMON_MACHINE_CONFIGS` to designate 1 chief CPU and 4 worker GPUs.\n",
    "\n",
    "```python\n",
    "tfc.run(\n",
    "    docker_image_bucket_name=gcp_bucket,\n",
    "    chief_config=tfc.COMMON_MACHINE_CONFIGS['CPU'],\n",
    "    worker_count=2,\n",
    "    worker_config=tfc.COMMON_MACHINE_CONFIGS['T4_4X']\n",
    ")\n",
    "```\n",
    "By default, TensorFlow Cloud chooses the best distribution strategy for your machine\n",
    "configuration with a simple formula using the `chief_config`, `worker_config` and\n",
    "`worker_count` parameters provided.\n",
    "\n",
    "- If the number of GPUs specified is greater than zero, `tf.distribute.MirroredStrategy` will be chosen.\n",
    "- If the number of workers is greater than zero, `tf.distribute.experimental.MultiWorkerMirroredStrategy` or `tf.distribute.experimental.TPUStrategy` will be chosen based on the accelerator type.\n",
    "- Otherwise, `tf.distribute.OneDeviceStrategy` will be chosen."
   ]
  },
  {
   "cell_type": "markdown",
   "metadata": {
    "id": "e0d938efab72"
   },
   "source": [
    "### TPU distribution\n",
    "Let's train the same model on TPU, as shown:\n",
    "```python\n",
    "tfc.run(\n",
    "    docker_image_bucket_name=gcp_bucket,\n",
    "    chief_config=tfc.COMMON_MACHINE_CONFIGS[\"CPU\"],\n",
    "    worker_count=1,\n",
    "    worker_config=tfc.COMMON_MACHINE_CONFIGS[\"TPU\"]\n",
    ")\n",
    "```"
   ]
  },
  {
   "cell_type": "markdown",
   "metadata": {
    "id": "d1dec83a0b19"
   },
   "source": [
    "### Custom distribution strategy\n",
    "To specify a custom distribution strategy, format your code normally as you would\n",
    "according to the\n",
    "[distributed training guide](https://www.tensorflow.org/guide/distributed_training)\n",
    "and set `distribution_strategy` to `None`. Below, we'll specify our own distribution\n",
    "strategy for the same MNIST model.\n",
    "```python\n",
    "(x_train, y_train), (x_test, y_test) = keras.datasets.mnist.load_data()\n",
    "\n",
    "mirrored_strategy = tf.distribute.MirroredStrategy()\n",
    "with mirrored_strategy.scope():\n",
    "  model = create_model()\n",
    "\n",
    "if tfc.remote():\n",
    "    epochs = 100\n",
    "    batch_size = 128\n",
    "else:\n",
    "    epochs = 10\n",
    "    batch_size = 64\n",
    "    callbacks = None\n",
    "\n",
    "model.fit(\n",
    "    x_train, y_train, epochs=epochs, callbacks=callbacks, batch_size=batch_size\n",
    ")\n",
    "\n",
    "tfc.run(\n",
    "    docker_image_bucket_name=gcp_bucket,\n",
    "    chief_config=tfc.COMMON_MACHINE_CONFIGS['CPU'],\n",
    "    worker_count=2,\n",
    "    worker_config=tfc.COMMON_MACHINE_CONFIGS['T4_4X'],\n",
    "    distribution_strategy=None\n",
    ")\n",
    "```"
   ]
  },
  {
   "cell_type": "markdown",
   "metadata": {
    "id": "0a50b62bf672"
   },
   "source": [
    "## Custom Docker images\n",
    "\n",
    "By default, TensorFlow Cloud uses a\n",
    "[Docker base image](https://hub.docker.com/r/tensorflow/tensorflow/)\n",
    "supplied by Google and corresponding to your current TensorFlow version. However,\n",
    "you can also specify a custom Docker image to fit your build requirements, if necessary.\n",
    "For this example, we will specify the Docker image from an older version of TensorFlow:\n",
    "```python\n",
    "tfc.run(\n",
    "    docker_image_bucket_name=gcp_bucket,\n",
    "    base_docker_image=\"tensorflow/tensorflow:2.1.0-gpu\"\n",
    ")\n",
    "```"
   ]
  },
  {
   "cell_type": "markdown",
   "metadata": {
    "id": "bb659015ffad"
   },
   "source": [
    "## Additional metrics\n",
    "\n",
    "You may find it useful to tag your Cloud jobs with specific labels, or to stream\n",
    "your model's logs during Cloud training.\n",
    "It's good practice to maintain proper labeling on all Cloud jobs, for record-keeping.\n",
    "For this purpose, `run()` accepts a dictionary of labels up to 64 key-value pairs,\n",
    "which are visible from the Cloud build logs. Logs such as epoch performance and model\n",
    "saving internals can be accessed using the link provided by executing `tfc.run` or\n",
    "printed to your local terminal using the `stream_logs` flag.\n",
    "```python\n",
    "job_labels = {\"job\": \"mnist-example\", \"team\": \"keras-io\", \"user\": \"jonah\"}\n",
    "\n",
    "tfc.run(\n",
    "    docker_image_bucket_name=gcp_bucket,\n",
    "    job_labels=job_labels,\n",
    "    stream_logs=True\n",
    ")\n",
    "```"
   ]
  },
  {
   "cell_type": "markdown",
   "metadata": {
    "id": "b34a2e8e09c3"
   },
   "source": [
    "## Putting it all together\n",
    "\n",
    "For an in-depth Colab which uses many of the features described in this guide,\n",
    "follow along\n",
    "[this example](https://github.com/tensorflow/cloud/blob/master/src/python/tensorflow_cloud/core/tests/examples/dogs_classification.ipynb)\n",
    "to train a state-of-the-art model to recognize dog breeds from photos using feature\n",
    "extraction."
   ]
  }
 ],
 "metadata": {
  "colab": {
   "collapsed_sections": [],
   "name": "training_keras_models_on_cloud.ipynb",
   "toc_visible": true
  },
  "kernelspec": {
   "display_name": "Python 3 (ipykernel)",
   "language": "python",
   "name": "python3"
  },
  "language_info": {
   "codemirror_mode": {
    "name": "ipython",
    "version": 3
   },
   "file_extension": ".py",
   "mimetype": "text/x-python",
   "name": "python",
   "nbconvert_exporter": "python",
   "pygments_lexer": "ipython3",
   "version": "3.9.7"
  }
 },
 "nbformat": 4,
 "nbformat_minor": 4
}
