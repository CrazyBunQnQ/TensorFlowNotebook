{
 "cells": [
  {
   "cell_type": "markdown",
   "metadata": {},
   "source": [
    "# Ragged tensors"
   ]
  },
  {
   "cell_type": "markdown",
   "metadata": {
    "id": "5DP8XNP-6zlu"
   },
   "source": [
    "**API Documentation:** [`tf.RaggedTensor`](https://www.tensorflow.org/api_docs/python/tf/RaggedTensor) [`tf.ragged`](https://www.tensorflow.org/api_docs/python/tf/ragged)"
   ]
  },
  {
   "cell_type": "markdown",
   "metadata": {
    "id": "cDIUjj07-rQg"
   },
   "source": [
    "## Setup"
   ]
  },
  {
   "cell_type": "code",
   "execution_count": 2,
   "metadata": {
    "execution": {
     "iopub.execute_input": "2021-09-22T20:36:43.974056Z",
     "iopub.status.busy": "2021-09-22T20:36:43.973283Z",
     "iopub.status.idle": "2021-09-22T20:36:45.708129Z",
     "shell.execute_reply": "2021-09-22T20:36:45.708702Z"
    },
    "id": "KKvdSorS-pDD"
   },
   "outputs": [],
   "source": [
    "import math\n",
    "import tensorflow as tf"
   ]
  },
  {
   "cell_type": "markdown",
   "metadata": {
    "id": "pxi0m_yf-te5"
   },
   "source": [
    "## Overview\n",
    "\n",
    "Your data comes in many shapes; your tensors should too. *Ragged tensors* are the TensorFlow equivalent of nested variable-length lists. They make it easy to store and process data with non-uniform shapes, including:\n",
    "\n",
    "- Variable-length features, such as the set of actors in a movie.\n",
    "- Batches of variable-length sequential inputs, such as sentences or video clips.\n",
    "- Hierarchical inputs, such as text documents that are subdivided into sections, paragraphs, sentences, and words.\n",
    "- Individual fields in structured inputs, such as protocol buffers.\n"
   ]
  },
  {
   "cell_type": "markdown",
   "metadata": {
    "id": "1mhU_qY3_mla"
   },
   "source": [
    "### What you can do with a ragged tensor\n",
    "\n",
    "Ragged tensors are supported by more than a hundred TensorFlow operations, including math operations (such as `tf.add` and `tf.reduce_mean`), array operations (such as `tf.concat` and `tf.tile`), string manipulation ops (such as `tf.substr`), control flow operations (such as `tf.while_loop` and `tf.map_fn`), and many others:"
   ]
  },
  {
   "cell_type": "code",
   "execution_count": 3,
   "metadata": {
    "execution": {
     "iopub.execute_input": "2021-09-22T20:36:47.387311Z",
     "iopub.status.busy": "2021-09-22T20:36:47.386488Z",
     "iopub.status.idle": "2021-09-22T20:36:47.434640Z",
     "shell.execute_reply": "2021-09-22T20:36:47.435114Z"
    },
    "id": "vGmJGSf_-PVB"
   },
   "outputs": [
    {
     "name": "stdout",
     "output_type": "stream",
     "text": [
      "<tf.RaggedTensor [[6, 4, 7, 4], [], [8, 12, 5], [9], []]>\n",
      "tf.Tensor([2.25              nan 5.33333333 6.                nan], shape=(5,), dtype=float64)\n",
      "<tf.RaggedTensor [[3, 1, 4, 1], [], [5, 9, 2], [6], [], [5, 3]]>\n",
      "<tf.RaggedTensor [[3, 1, 4, 1, 3, 1, 4, 1], [], [5, 9, 2, 5, 9, 2], [6, 6], []]>\n",
      "<tf.RaggedTensor [[b'So', b'lo'], [b'th', b'fo', b'al', b'th', b'fi']]>\n",
      "<tf.RaggedTensor [[9, 1, 16, 1], [], [25, 81, 4], [36], []]>\n"
     ]
    }
   ],
   "source": [
    "digits = tf.ragged.constant([[3, 1, 4, 1], [], [5, 9, 2], [6], []])\n",
    "words = tf.ragged.constant([[\"So\", \"long\"], [\"thanks\", \"for\", \"all\", \"the\", \"fish\"]])\n",
    "print(tf.add(digits, 3))\n",
    "print(tf.reduce_mean(digits, axis=1))\n",
    "print(tf.concat([digits, [[5, 3]]], axis=0))\n",
    "print(tf.tile(digits, [1, 2]))\n",
    "print(tf.strings.substr(words, 0, 2))\n",
    "print(tf.map_fn(tf.math.square, digits))"
   ]
  },
  {
   "cell_type": "markdown",
   "metadata": {
    "id": "Pt-5OIc8-PVG"
   },
   "source": [
    "There are also a number of methods and operations that are\n",
    "specific to ragged tensors, including factory methods, conversion methods,\n",
    "and value-mapping operations.\n",
    "For a list of supported ops, see the **`tf.ragged` package\n",
    "documentation**."
   ]
  },
  {
   "cell_type": "markdown",
   "metadata": {
    "id": "r8fjGgf3B_6z"
   },
   "source": [
    "Ragged tensors are supported by many TensorFlow APIs, including [Keras](https://www.tensorflow.org/guide/keras), [Datasets](https://www.tensorflow.org/guide/data), [tf.function](https://www.tensorflow.org/guide/function), [SavedModels](https://www.tensorflow.org/guide/saved_model), and [tf.Example](https://www.tensorflow.org/tutorials/load_data/tfrecord).  For more information, check the section on **TensorFlow APIs** below."
   ]
  },
  {
   "cell_type": "markdown",
   "metadata": {
    "id": "aTXLjQlcHP8a"
   },
   "source": [
    "As with normal tensors, you can use Python-style indexing to access specific slices of a ragged tensor. For more information, refer to the section on **Indexing** below."
   ]
  },
  {
   "cell_type": "code",
   "execution_count": 4,
   "metadata": {
    "execution": {
     "iopub.execute_input": "2021-09-22T20:36:47.441131Z",
     "iopub.status.busy": "2021-09-22T20:36:47.440270Z",
     "iopub.status.idle": "2021-09-22T20:36:47.444886Z",
     "shell.execute_reply": "2021-09-22T20:36:47.445362Z"
    },
    "id": "n8YMKXpI-PVH"
   },
   "outputs": [
    {
     "name": "stdout",
     "output_type": "stream",
     "text": [
      "tf.Tensor([3 1 4 1], shape=(4,), dtype=int32)\n"
     ]
    }
   ],
   "source": [
    "print(digits[0])       # First row"
   ]
  },
  {
   "cell_type": "code",
   "execution_count": 5,
   "metadata": {
    "execution": {
     "iopub.execute_input": "2021-09-22T20:36:47.451068Z",
     "iopub.status.busy": "2021-09-22T20:36:47.450217Z",
     "iopub.status.idle": "2021-09-22T20:36:47.454495Z",
     "shell.execute_reply": "2021-09-22T20:36:47.454901Z"
    },
    "id": "Awi8i9q5_DuX"
   },
   "outputs": [
    {
     "name": "stdout",
     "output_type": "stream",
     "text": [
      "<tf.RaggedTensor [[3, 1], [], [5, 9], [6], []]>\n"
     ]
    }
   ],
   "source": [
    "print(digits[:, :2])   # First two values in each row."
   ]
  },
  {
   "cell_type": "code",
   "execution_count": 6,
   "metadata": {
    "execution": {
     "iopub.execute_input": "2021-09-22T20:36:47.460334Z",
     "iopub.status.busy": "2021-09-22T20:36:47.459488Z",
     "iopub.status.idle": "2021-09-22T20:36:47.463617Z",
     "shell.execute_reply": "2021-09-22T20:36:47.464044Z"
    },
    "id": "sXgQtTcgHHMR"
   },
   "outputs": [
    {
     "name": "stdout",
     "output_type": "stream",
     "text": [
      "<tf.RaggedTensor [[4, 1], [], [9, 2], [6], []]>\n"
     ]
    }
   ],
   "source": [
    "print(digits[:, -2:])  # Last two values in each row."
   ]
  },
  {
   "cell_type": "markdown",
   "metadata": {
    "id": "6FU5T_-8-PVK"
   },
   "source": [
    "And just like normal tensors, you can use Python arithmetic and comparison operators to perform elementwise operations. For more information, check the section on **Overloaded operators** below."
   ]
  },
  {
   "cell_type": "code",
   "execution_count": 7,
   "metadata": {
    "execution": {
     "iopub.execute_input": "2021-09-22T20:36:47.469068Z",
     "iopub.status.busy": "2021-09-22T20:36:47.468337Z",
     "iopub.status.idle": "2021-09-22T20:36:47.471668Z",
     "shell.execute_reply": "2021-09-22T20:36:47.471188Z"
    },
    "id": "2tdUEtb7-PVL"
   },
   "outputs": [
    {
     "name": "stdout",
     "output_type": "stream",
     "text": [
      "<tf.RaggedTensor [[6, 4, 7, 4], [], [8, 12, 5], [9], []]>\n"
     ]
    }
   ],
   "source": [
    "print(digits + 3)"
   ]
  },
  {
   "cell_type": "code",
   "execution_count": 8,
   "metadata": {
    "execution": {
     "iopub.execute_input": "2021-09-22T20:36:47.477631Z",
     "iopub.status.busy": "2021-09-22T20:36:47.476994Z",
     "iopub.status.idle": "2021-09-22T20:36:47.494377Z",
     "shell.execute_reply": "2021-09-22T20:36:47.494778Z"
    },
    "id": "X-bxG0nc_Nmf"
   },
   "outputs": [
    {
     "name": "stdout",
     "output_type": "stream",
     "text": [
      "<tf.RaggedTensor [[4, 3, 7, 5], [], [10, 15, 9], [14], []]>\n"
     ]
    }
   ],
   "source": [
    "print(digits + tf.ragged.constant([[1, 2, 3, 4], [], [5, 6, 7], [8], []]))"
   ]
  },
  {
   "cell_type": "markdown",
   "metadata": {
    "id": "2tsw8mN0ESIT"
   },
   "source": [
    "If you need to perform an elementwise transformation to the values of a `RaggedTensor`, you can use `tf.ragged.map_flat_values`, which takes a function plus one or more arguments, and applies the function to transform the `RaggedTensor`'s values."
   ]
  },
  {
   "cell_type": "code",
   "execution_count": 9,
   "metadata": {
    "execution": {
     "iopub.execute_input": "2021-09-22T20:36:47.499807Z",
     "iopub.status.busy": "2021-09-22T20:36:47.499122Z",
     "iopub.status.idle": "2021-09-22T20:36:47.502220Z",
     "shell.execute_reply": "2021-09-22T20:36:47.502619Z"
    },
    "id": "pvt5URbdEt-D"
   },
   "outputs": [
    {
     "name": "stdout",
     "output_type": "stream",
     "text": [
      "<tf.RaggedTensor [[7, 3, 9, 3], [], [11, 19, 5], [13], []]>\n"
     ]
    }
   ],
   "source": [
    "times_two_plus_one = lambda x: x * 2 + 1\n",
    "print(tf.ragged.map_flat_values(times_two_plus_one, digits))"
   ]
  },
  {
   "cell_type": "markdown",
   "metadata": {
    "id": "HNxF6_QKAzkl"
   },
   "source": [
    "Ragged tensors can be converted to nested Python `list`s and NumPy `array`s:"
   ]
  },
  {
   "cell_type": "code",
   "execution_count": 10,
   "metadata": {
    "execution": {
     "iopub.execute_input": "2021-09-22T20:36:47.513441Z",
     "iopub.status.busy": "2021-09-22T20:36:47.512732Z",
     "iopub.status.idle": "2021-09-22T20:36:47.515663Z",
     "shell.execute_reply": "2021-09-22T20:36:47.516099Z"
    },
    "id": "A5NHb8ViA9dt"
   },
   "outputs": [
    {
     "data": {
      "text/plain": [
       "[[3, 1, 4, 1], [], [5, 9, 2], [6], []]"
      ]
     },
     "execution_count": 10,
     "metadata": {},
     "output_type": "execute_result"
    }
   ],
   "source": [
    "digits.to_list()"
   ]
  },
  {
   "cell_type": "code",
   "execution_count": 11,
   "metadata": {
    "execution": {
     "iopub.execute_input": "2021-09-22T20:36:47.521843Z",
     "iopub.status.busy": "2021-09-22T20:36:47.521188Z",
     "iopub.status.idle": "2021-09-22T20:36:47.524215Z",
     "shell.execute_reply": "2021-09-22T20:36:47.524645Z"
    },
    "id": "2o1wogVyA6Yp"
   },
   "outputs": [
    {
     "name": "stderr",
     "output_type": "stream",
     "text": [
      "/tmpfs/src/tf_docs_env/lib/python3.7/site-packages/tensorflow/python/ops/ragged/ragged_tensor.py:2063: VisibleDeprecationWarning: Creating an ndarray from ragged nested sequences (which is a list-or-tuple of lists-or-tuples-or ndarrays with different lengths or shapes) is deprecated. If you meant to do this, you must specify 'dtype=object' when creating the ndarray\n",
      "  return np.array(rows)\n"
     ]
    },
    {
     "data": {
      "text/plain": [
       "array([array([3, 1, 4, 1], dtype=int32), array([], dtype=int32),\n",
       "       array([5, 9, 2], dtype=int32), array([6], dtype=int32),\n",
       "       array([], dtype=int32)], dtype=object)"
      ]
     },
     "execution_count": 11,
     "metadata": {},
     "output_type": "execute_result"
    }
   ],
   "source": [
    "digits.numpy()"
   ]
  },
  {
   "cell_type": "markdown",
   "metadata": {
    "id": "7M5RHOgp-PVN"
   },
   "source": [
    "### Constructing a ragged tensor\n",
    "\n",
    "The simplest way to construct a ragged tensor is using `tf.ragged.constant`, which builds the `RaggedTensor` corresponding to a given nested Python `list` or NumPy `array`:"
   ]
  },
  {
   "cell_type": "code",
   "execution_count": 12,
   "metadata": {
    "execution": {
     "iopub.execute_input": "2021-09-22T20:36:47.530537Z",
     "iopub.status.busy": "2021-09-22T20:36:47.529862Z",
     "iopub.status.idle": "2021-09-22T20:36:47.532930Z",
     "shell.execute_reply": "2021-09-22T20:36:47.532365Z"
    },
    "id": "yhgKMozw-PVP"
   },
   "outputs": [
    {
     "name": "stdout",
     "output_type": "stream",
     "text": [
      "<tf.RaggedTensor [[b\"Let's\", b'build', b'some', b'ragged', b'tensors', b'!'], [b'We', b'can', b'use', b'tf.ragged.constant', b'.']]>\n"
     ]
    }
   ],
   "source": [
    "sentences = tf.ragged.constant([\n",
    "    [\"Let's\", \"build\", \"some\", \"ragged\", \"tensors\", \"!\"],\n",
    "    [\"We\", \"can\", \"use\", \"tf.ragged.constant\", \".\"]])\n",
    "print(sentences)"
   ]
  },
  {
   "cell_type": "code",
   "execution_count": 13,
   "metadata": {
    "execution": {
     "iopub.execute_input": "2021-09-22T20:36:47.539192Z",
     "iopub.status.busy": "2021-09-22T20:36:47.538530Z",
     "iopub.status.idle": "2021-09-22T20:36:47.541303Z",
     "shell.execute_reply": "2021-09-22T20:36:47.541704Z"
    },
    "id": "TW1g7eE2ee8M"
   },
   "outputs": [
    {
     "name": "stdout",
     "output_type": "stream",
     "text": [
      "<tf.RaggedTensor [[[b'I', b'have', b'a', b'cat'], [b'His', b'name', b'is', b'Mat']], [[b'Do', b'you', b'want', b'to', b'come', b'visit'], [b\"I'm\", b'free', b'tomorrow']]]>\n"
     ]
    }
   ],
   "source": [
    "paragraphs = tf.ragged.constant([\n",
    "    [['I', 'have', 'a', 'cat'], ['His', 'name', 'is', 'Mat']],\n",
    "    [['Do', 'you', 'want', 'to', 'come', 'visit'], [\"I'm\", 'free', 'tomorrow']],\n",
    "])\n",
    "print(paragraphs)"
   ]
  },
  {
   "cell_type": "markdown",
   "metadata": {
    "id": "SPLn5xHn-PVR"
   },
   "source": [
    "Ragged tensors can also be constructed by pairing flat *values* tensors with *row-partitioning* tensors indicating how those values should be divided into rows, using factory classmethods such as `tf.RaggedTensor.from_value_rowids`, `tf.RaggedTensor.from_row_lengths`, and `tf.RaggedTensor.from_row_splits`.\n",
    "\n",
    "#### `tf.RaggedTensor.from_value_rowids`\n",
    "\n",
    "If you know which row each value belongs to, then you can build a `RaggedTensor` using a `value_rowids` row-partitioning tensor:\n",
    "\n",
    "![value_rowids row-partitioning tensor](https://www.tensorflow.org/images/ragged_tensors/value_rowids.png)"
   ]
  },
  {
   "cell_type": "code",
   "execution_count": 14,
   "metadata": {
    "execution": {
     "iopub.execute_input": "2021-09-22T20:36:47.546909Z",
     "iopub.status.busy": "2021-09-22T20:36:47.546224Z",
     "iopub.status.idle": "2021-09-22T20:36:47.555653Z",
     "shell.execute_reply": "2021-09-22T20:36:47.556085Z"
    },
    "id": "SEvcPUcl-PVS"
   },
   "outputs": [
    {
     "name": "stdout",
     "output_type": "stream",
     "text": [
      "<tf.RaggedTensor [[3, 1, 4, 1], [], [5, 9], [2]]>\n"
     ]
    }
   ],
   "source": [
    "print(tf.RaggedTensor.from_value_rowids(\n",
    "    values=[3, 1, 4, 1, 5, 9, 2],\n",
    "    value_rowids=[0, 0, 0, 0, 2, 2, 3]))"
   ]
  },
  {
   "cell_type": "markdown",
   "metadata": {
    "id": "RBQh8sYc-PVV"
   },
   "source": [
    "#### `tf.RaggedTensor.from_row_lengths`\n",
    "\n",
    "If you know how long each row is, then you can use a `row_lengths` row-partitioning tensor:\n",
    "\n",
    "![row_lengths row-partitioning tensor](https://www.tensorflow.org/images/ragged_tensors/row_lengths.png)"
   ]
  },
  {
   "cell_type": "code",
   "execution_count": 15,
   "metadata": {
    "execution": {
     "iopub.execute_input": "2021-09-22T20:36:47.561743Z",
     "iopub.status.busy": "2021-09-22T20:36:47.561025Z",
     "iopub.status.idle": "2021-09-22T20:36:47.566308Z",
     "shell.execute_reply": "2021-09-22T20:36:47.565724Z"
    },
    "id": "LBY81WXl-PVW"
   },
   "outputs": [
    {
     "name": "stdout",
     "output_type": "stream",
     "text": [
      "<tf.RaggedTensor [[3, 1, 4, 1], [], [5, 9], [2]]>\n"
     ]
    }
   ],
   "source": [
    "print(tf.RaggedTensor.from_row_lengths(\n",
    "    values=[3, 1, 4, 1, 5, 9, 2],\n",
    "    row_lengths=[4, 0, 2, 1]))"
   ]
  },
  {
   "cell_type": "markdown",
   "metadata": {
    "id": "8p5V8_Iu-PVa"
   },
   "source": [
    "#### `tf.RaggedTensor.from_row_splits`\n",
    "\n",
    "If you know the index where each row starts and ends, then you can use a `row_splits` row-partitioning tensor:\n",
    "\n",
    "![row_splits row-partitioning tensor](https://www.tensorflow.org/images/ragged_tensors/row_splits.png)"
   ]
  },
  {
   "cell_type": "code",
   "execution_count": 16,
   "metadata": {
    "execution": {
     "iopub.execute_input": "2021-09-22T20:36:47.572229Z",
     "iopub.status.busy": "2021-09-22T20:36:47.571492Z",
     "iopub.status.idle": "2021-09-22T20:36:47.577429Z",
     "shell.execute_reply": "2021-09-22T20:36:47.577876Z"
    },
    "id": "FwizuqZI-PVb"
   },
   "outputs": [
    {
     "name": "stdout",
     "output_type": "stream",
     "text": [
      "<tf.RaggedTensor [[3, 1, 4, 1], [], [5, 9], [2]]>\n"
     ]
    }
   ],
   "source": [
    "print(tf.RaggedTensor.from_row_splits(\n",
    "    values=[3, 1, 4, 1, 5, 9, 2],\n",
    "    row_splits=[0, 4, 4, 6, 7]))"
   ]
  },
  {
   "cell_type": "markdown",
   "metadata": {
    "id": "E-9imo8DhwuA"
   },
   "source": [
    "See the `tf.RaggedTensor` class documentation for a full list of factory methods.\n",
    "\n",
    "Note: By default, these factory methods add assertions that the row partition tensor is well-formed and consistent with the number of values.  The `validate=False` parameter can be used to skip these checks if you can guarantee that the inputs are well-formed and consistent."
   ]
  },
  {
   "cell_type": "markdown",
   "metadata": {
    "id": "YQAOsT1_-PVg"
   },
   "source": [
    "### What you can store in a ragged tensor\n",
    "\n",
    "As with normal `Tensor`s, the values in a `RaggedTensor` must all have the same\n",
    "type; and the values must all be at the same nesting depth (the *rank* of the\n",
    "tensor):"
   ]
  },
  {
   "cell_type": "code",
   "execution_count": 17,
   "metadata": {
    "execution": {
     "iopub.execute_input": "2021-09-22T20:36:47.584370Z",
     "iopub.status.busy": "2021-09-22T20:36:47.583460Z",
     "iopub.status.idle": "2021-09-22T20:36:47.586147Z",
     "shell.execute_reply": "2021-09-22T20:36:47.586574Z"
    },
    "id": "SqbPBd_w-PVi"
   },
   "outputs": [
    {
     "name": "stdout",
     "output_type": "stream",
     "text": [
      "<tf.RaggedTensor [[b'Hi'], [b'How', b'are', b'you']]>\n"
     ]
    }
   ],
   "source": [
    "print(tf.ragged.constant([[\"Hi\"], [\"How\", \"are\", \"you\"]]))  # ok: type=string, rank=2"
   ]
  },
  {
   "cell_type": "code",
   "execution_count": 18,
   "metadata": {
    "execution": {
     "iopub.execute_input": "2021-09-22T20:36:47.592475Z",
     "iopub.status.busy": "2021-09-22T20:36:47.591646Z",
     "iopub.status.idle": "2021-09-22T20:36:47.595229Z",
     "shell.execute_reply": "2021-09-22T20:36:47.594768Z"
    },
    "id": "83ZCSJnQAWAf"
   },
   "outputs": [
    {
     "name": "stdout",
     "output_type": "stream",
     "text": [
      "<tf.RaggedTensor [[[1, 2], [3]], [[4, 5]]]>\n"
     ]
    }
   ],
   "source": [
    "print(tf.ragged.constant([[[1, 2], [3]], [[4, 5]]]))        # ok: type=int32, rank=3"
   ]
  },
  {
   "cell_type": "code",
   "execution_count": 19,
   "metadata": {
    "execution": {
     "iopub.execute_input": "2021-09-22T20:36:47.600418Z",
     "iopub.status.busy": "2021-09-22T20:36:47.599688Z",
     "iopub.status.idle": "2021-09-22T20:36:47.602150Z",
     "shell.execute_reply": "2021-09-22T20:36:47.602624Z"
    },
    "id": "ewA3cISdDfmP"
   },
   "outputs": [
    {
     "name": "stdout",
     "output_type": "stream",
     "text": [
      "Can't convert Python sequence with mixed types to Tensor.\n"
     ]
    }
   ],
   "source": [
    "try:\n",
    "  tf.ragged.constant([[\"one\", \"two\"], [3, 4]])              # bad: multiple types\n",
    "except ValueError as exception:\n",
    "  print(exception)"
   ]
  },
  {
   "cell_type": "code",
   "execution_count": 20,
   "metadata": {
    "execution": {
     "iopub.execute_input": "2021-09-22T20:36:47.607658Z",
     "iopub.status.busy": "2021-09-22T20:36:47.606910Z",
     "iopub.status.idle": "2021-09-22T20:36:47.609462Z",
     "shell.execute_reply": "2021-09-22T20:36:47.609872Z"
    },
    "id": "EOWIlVidDl-n"
   },
   "outputs": [
    {
     "name": "stdout",
     "output_type": "stream",
     "text": [
      "all scalar values must have the same nesting depth\n"
     ]
    }
   ],
   "source": [
    "try:\n",
    "  tf.ragged.constant([\"A\", [\"B\", \"C\"]])                     # bad: multiple nesting depths\n",
    "except ValueError as exception:\n",
    "  print(exception)"
   ]
  },
  {
   "cell_type": "markdown",
   "metadata": {
    "id": "nhHMFhSp-PVq"
   },
   "source": [
    "## Example use case\n",
    "\n",
    "The following example demonstrates how `RaggedTensor`s can be used to construct and combine unigram and bigram embeddings for a batch of variable-length queries, using special markers for the beginning and end of each sentence. For more details on the ops used in this example, check the `tf.ragged` package documentation."
   ]
  },
  {
   "cell_type": "code",
   "execution_count": 21,
   "metadata": {
    "execution": {
     "iopub.execute_input": "2021-09-22T20:36:47.621021Z",
     "iopub.status.busy": "2021-09-22T20:36:47.619819Z",
     "iopub.status.idle": "2021-09-22T20:36:47.653264Z",
     "shell.execute_reply": "2021-09-22T20:36:47.652560Z"
    },
    "id": "ZBs_V7e--PVr"
   },
   "outputs": [
    {
     "name": "stdout",
     "output_type": "stream",
     "text": [
      "tf.Tensor(\n",
      "[[-0.14285272  0.02908629 -0.16327512 -0.14529026]\n",
      " [-0.4479212  -0.35615516  0.17110227  0.2522229 ]\n",
      " [-0.1987868  -0.13152348 -0.0325102   0.02125177]], shape=(3, 4), dtype=float32)\n"
     ]
    }
   ],
   "source": [
    "queries = tf.ragged.constant([['Who', 'is', 'Dan', 'Smith'],\n",
    "                              ['Pause'],\n",
    "                              ['Will', 'it', 'rain', 'later', 'today']])\n",
    "\n",
    "# Create an embedding table.\n",
    "num_buckets = 1024\n",
    "embedding_size = 4\n",
    "embedding_table = tf.Variable(\n",
    "    tf.random.truncated_normal([num_buckets, embedding_size],\n",
    "                       stddev=1.0 / math.sqrt(embedding_size)))\n",
    "\n",
    "# Look up the embedding for each word.\n",
    "word_buckets = tf.strings.to_hash_bucket_fast(queries, num_buckets)\n",
    "word_embeddings = tf.nn.embedding_lookup(embedding_table, word_buckets)     # ①\n",
    "\n",
    "# Add markers to the beginning and end of each sentence.\n",
    "marker = tf.fill([queries.nrows(), 1], '#')\n",
    "padded = tf.concat([marker, queries, marker], axis=1)                       # ②\n",
    "\n",
    "# Build word bigrams and look up embeddings.\n",
    "bigrams = tf.strings.join([padded[:, :-1], padded[:, 1:]], separator='+')   # ③\n",
    "\n",
    "bigram_buckets = tf.strings.to_hash_bucket_fast(bigrams, num_buckets)\n",
    "bigram_embeddings = tf.nn.embedding_lookup(embedding_table, bigram_buckets) # ④\n",
    "\n",
    "# Find the average embedding for each sentence\n",
    "all_embeddings = tf.concat([word_embeddings, bigram_embeddings], axis=1)    # ⑤\n",
    "avg_embedding = tf.reduce_mean(all_embeddings, axis=1)                      # ⑥\n",
    "print(avg_embedding)"
   ]
  },
  {
   "cell_type": "markdown",
   "metadata": {
    "id": "Y_lE_LAVcWQH"
   },
   "source": [
    "![Ragged tensor example](https://www.tensorflow.org/images/ragged_tensors/ragged_example.png)"
   ]
  },
  {
   "cell_type": "markdown",
   "metadata": {
    "id": "An_k0pX1-PVt"
   },
   "source": [
    "## Ragged and uniform dimensions\n",
    "\n",
    "A ***ragged dimension*** is a dimension whose slices may have different lengths. For example, the inner (column) dimension of `rt=[[3, 1, 4, 1], [], [5, 9, 2], [6], []]` is ragged, since the column slices (`rt[0, :]`, ..., `rt[4, :]`) have different lengths. Dimensions whose slices all have the same length are called *uniform dimensions*.\n",
    "\n",
    "The outermost dimension of a ragged tensor is always uniform, since it consists of a single slice (and, therefore, there is no possibility for differing slice lengths). The remaining dimensions may be either ragged or uniform. For example, you may store the word embeddings for each word in a batch of sentences using a ragged tensor with shape `[num_sentences, (num_words), embedding_size]`, where the parentheses around `(num_words)` indicate that the dimension is ragged.\n",
    "\n",
    "![Word embeddings using a ragged tensor](https://www.tensorflow.org/images/ragged_tensors/sent_word_embed.png)\n",
    "\n",
    "Ragged tensors may have multiple ragged dimensions. For example, you could store a batch of structured text documents using a tensor with shape `[num_documents, (num_paragraphs), (num_sentences), (num_words)]` (where again parentheses are used to indicate ragged dimensions).\n",
    "\n",
    "As with `tf.Tensor`, the ***rank*** of a ragged tensor is its total number of dimensions (including both ragged and uniform dimensions). A ***potentially ragged tensor*** is a value that might be either a `tf.Tensor` or a `tf.RaggedTensor`.\n",
    "\n",
    "When describing the shape of a RaggedTensor, ragged dimensions are conventionally indicated by enclosing them in parentheses. For example, as you saw above, the shape of a 3D RaggedTensor that stores word embeddings for each word in a batch of sentences can be written as `[num_sentences, (num_words), embedding_size]`.\n",
    "\n",
    "The `RaggedTensor.shape` attribute returns a `tf.TensorShape` for a ragged tensor where ragged dimensions have size `None`:"
   ]
  },
  {
   "cell_type": "code",
   "execution_count": 22,
   "metadata": {
    "execution": {
     "iopub.execute_input": "2021-09-22T20:36:47.660350Z",
     "iopub.status.busy": "2021-09-22T20:36:47.659392Z",
     "iopub.status.idle": "2021-09-22T20:36:47.662767Z",
     "shell.execute_reply": "2021-09-22T20:36:47.663252Z"
    },
    "id": "M2Wzx4JEIvmb"
   },
   "outputs": [
    {
     "data": {
      "text/plain": [
       "TensorShape([2, None])"
      ]
     },
     "execution_count": 22,
     "metadata": {},
     "output_type": "execute_result"
    }
   ],
   "source": [
    "tf.ragged.constant([[\"Hi\"], [\"How\", \"are\", \"you\"]]).shape"
   ]
  },
  {
   "cell_type": "markdown",
   "metadata": {
    "id": "G9tfJOeFlijE"
   },
   "source": [
    "The method `tf.RaggedTensor.bounding_shape` can be used to find a tight\n",
    "bounding shape for a given `RaggedTensor`:"
   ]
  },
  {
   "cell_type": "code",
   "execution_count": 23,
   "metadata": {
    "execution": {
     "iopub.execute_input": "2021-09-22T20:36:47.670432Z",
     "iopub.status.busy": "2021-09-22T20:36:47.666863Z",
     "iopub.status.idle": "2021-09-22T20:36:47.675411Z",
     "shell.execute_reply": "2021-09-22T20:36:47.675862Z"
    },
    "id": "5DHaqXHxlWi0"
   },
   "outputs": [
    {
     "name": "stdout",
     "output_type": "stream",
     "text": [
      "tf.Tensor([2 3], shape=(2,), dtype=int64)\n"
     ]
    }
   ],
   "source": [
    "print(tf.ragged.constant([[\"Hi\"], [\"How\", \"are\", \"you\"]]).bounding_shape())"
   ]
  },
  {
   "cell_type": "markdown",
   "metadata": {
    "id": "V8e7x95UcLS6"
   },
   "source": [
    "## Ragged vs sparse\n",
    "\n",
    "A ragged tensor should *not* be thought of as a type of sparse tensor. In particular, sparse tensors are *efficient encodings for `tf.Tensor`* that model the same data in a compact format; but ragged tensor is an *extension to `tf.Tensor`* that models an expanded class of data. This difference is crucial when defining operations:\n",
    "\n",
    "- Applying an op to a sparse or dense tensor should always give the same result.\n",
    "- Applying an op to a ragged or sparse tensor may give different results.\n",
    "\n",
    "As an illustrative example, consider how array operations such as `concat`, `stack`, and `tile` are defined for ragged vs. sparse tensors. Concatenating ragged tensors joins each row to form a single row with the combined length:\n",
    "\n",
    "![Concatenating ragged tensors](https://www.tensorflow.org/images/ragged_tensors/ragged_concat.png)\n"
   ]
  },
  {
   "cell_type": "code",
   "execution_count": 24,
   "metadata": {
    "execution": {
     "iopub.execute_input": "2021-09-22T20:36:47.684431Z",
     "iopub.status.busy": "2021-09-22T20:36:47.683192Z",
     "iopub.status.idle": "2021-09-22T20:36:47.690211Z",
     "shell.execute_reply": "2021-09-22T20:36:47.690633Z"
    },
    "id": "ush7IGUWLXIn"
   },
   "outputs": [
    {
     "name": "stdout",
     "output_type": "stream",
     "text": [
      "<tf.RaggedTensor [[b'John', b'fell', b'asleep'], [b'a', b'big', b'dog', b'barked'], [b'my', b'cat', b'is', b'fuzzy']]>\n"
     ]
    }
   ],
   "source": [
    "ragged_x = tf.ragged.constant([[\"John\"], [\"a\", \"big\", \"dog\"], [\"my\", \"cat\"]])\n",
    "ragged_y = tf.ragged.constant([[\"fell\", \"asleep\"], [\"barked\"], [\"is\", \"fuzzy\"]])\n",
    "print(tf.concat([ragged_x, ragged_y], axis=1))"
   ]
  },
  {
   "cell_type": "markdown",
   "metadata": {
    "id": "pvQzZG8zMoWa"
   },
   "source": [
    "However, concatenating sparse tensors is equivalent to concatenating the corresponding dense tensors, as illustrated by the following example (where Ø indicates missing values):\n",
    "\n",
    "![Concatenating sparse tensors](https://www.tensorflow.org/images/ragged_tensors/sparse_concat.png)\n"
   ]
  },
  {
   "cell_type": "code",
   "execution_count": 25,
   "metadata": {
    "execution": {
     "iopub.execute_input": "2021-09-22T20:36:47.697148Z",
     "iopub.status.busy": "2021-09-22T20:36:47.695996Z",
     "iopub.status.idle": "2021-09-22T20:36:47.701160Z",
     "shell.execute_reply": "2021-09-22T20:36:47.701577Z"
    },
    "id": "eTIhGayQL0gI"
   },
   "outputs": [
    {
     "name": "stdout",
     "output_type": "stream",
     "text": [
      "tf.Tensor(\n",
      "[[b'John' b'' b'' b'fell' b'asleep']\n",
      " [b'a' b'big' b'dog' b'barked' b'']\n",
      " [b'my' b'cat' b'' b'is' b'fuzzy']], shape=(3, 5), dtype=string)\n"
     ]
    }
   ],
   "source": [
    "sparse_x = ragged_x.to_sparse()\n",
    "sparse_y = ragged_y.to_sparse()\n",
    "sparse_result = tf.sparse.concat(sp_inputs=[sparse_x, sparse_y], axis=1)\n",
    "print(tf.sparse.to_dense(sparse_result, ''))"
   ]
  },
  {
   "cell_type": "markdown",
   "metadata": {
    "id": "Vl8eQN8pMuYx"
   },
   "source": [
    "For another example of why this distinction is important, consider the\n",
    "definition of “the mean value of each row” for an op such as `tf.reduce_mean`.\n",
    "For a ragged tensor, the mean value for a row is the sum of the\n",
    "row’s values divided by the row’s width.\n",
    "But for a sparse tensor, the mean value for a row is the sum of the\n",
    "row’s values divided by the sparse tensor’s overall width (which is\n",
    "greater than or equal to the width of the longest row).\n"
   ]
  },
  {
   "cell_type": "markdown",
   "metadata": {
    "id": "u4yjxcK7IPXc"
   },
   "source": [
    "## TensorFlow APIs"
   ]
  },
  {
   "cell_type": "markdown",
   "metadata": {
    "id": "VoZGwFQjIYU5"
   },
   "source": [
    "### Keras\n",
    "\n",
    "[tf.keras](https://www.tensorflow.org/guide/keras) is TensorFlow's high-level API for building and training deep learning models. Ragged tensors may be passed as inputs to a Keras model by setting `ragged=True` on `tf.keras.Input` or `tf.keras.layers.InputLayer`.  Ragged tensors may also be passed between Keras layers, and returned by Keras models.  The following example shows a toy LSTM model that is trained using ragged tensors."
   ]
  },
  {
   "cell_type": "code",
   "execution_count": 26,
   "metadata": {
    "execution": {
     "iopub.execute_input": "2021-09-22T20:36:47.711502Z",
     "iopub.status.busy": "2021-09-22T20:36:47.710806Z",
     "iopub.status.idle": "2021-09-22T20:36:50.711109Z",
     "shell.execute_reply": "2021-09-22T20:36:50.711515Z"
    },
    "id": "pHls7hQVJlk5"
   },
   "outputs": [
    {
     "name": "stdout",
     "output_type": "stream",
     "text": [
      "WARNING:tensorflow:Layer lstm will not use cuDNN kernels since it doesn't meet the criteria. It will use a generic GPU kernel as fallback when running on GPU.\n",
      "Epoch 1/5\n"
     ]
    },
    {
     "name": "stderr",
     "output_type": "stream",
     "text": [
      "/tmpfs/src/tf_docs_env/lib/python3.7/site-packages/tensorflow/python/framework/indexed_slices.py:449: UserWarning: Converting sparse IndexedSlices(IndexedSlices(indices=Tensor(\"gradient_tape/sequential/lstm/RaggedToTensor/boolean_mask_1/GatherV2:0\", shape=(None,), dtype=int32), values=Tensor(\"gradient_tape/sequential/lstm/RaggedToTensor/boolean_mask/GatherV2:0\", shape=(None, 16), dtype=float32), dense_shape=Tensor(\"gradient_tape/sequential/lstm/RaggedToTensor/Shape:0\", shape=(2,), dtype=int32))) to a dense Tensor of unknown shape. This may consume a large amount of memory.\n",
      "  \"shape. This may consume a large amount of memory.\" % value)\n"
     ]
    },
    {
     "name": "stdout",
     "output_type": "stream",
     "text": [
      "1/1 [==============================] - 2s 2s/step - loss: 3.1269\n",
      "Epoch 2/5\n",
      "1/1 [==============================] - 0s 18ms/step - loss: 2.1197\n",
      "Epoch 3/5\n",
      "1/1 [==============================] - 0s 19ms/step - loss: 2.0196\n",
      "Epoch 4/5\n",
      "1/1 [==============================] - 0s 20ms/step - loss: 1.9371\n",
      "Epoch 5/5\n",
      "1/1 [==============================] - 0s 18ms/step - loss: 1.8857\n",
      "[[0.02800461]\n",
      " [0.00945962]\n",
      " [0.02283431]\n",
      " [0.00252927]]\n"
     ]
    }
   ],
   "source": [
    "# Task: predict whether each sentence is a question or not.\n",
    "sentences = tf.constant(\n",
    "    ['What makes you think she is a witch?',\n",
    "     'She turned me into a newt.',\n",
    "     'A newt?',\n",
    "     'Well, I got better.'])\n",
    "is_question = tf.constant([True, False, True, False])\n",
    "\n",
    "# Preprocess the input strings.\n",
    "hash_buckets = 1000\n",
    "words = tf.strings.split(sentences, ' ')\n",
    "hashed_words = tf.strings.to_hash_bucket_fast(words, hash_buckets)\n",
    "\n",
    "# Build the Keras model.\n",
    "keras_model = tf.keras.Sequential([\n",
    "    tf.keras.layers.Input(shape=[None], dtype=tf.int64, ragged=True),\n",
    "    tf.keras.layers.Embedding(hash_buckets, 16),\n",
    "    tf.keras.layers.LSTM(32, use_bias=False),\n",
    "    tf.keras.layers.Dense(32),\n",
    "    tf.keras.layers.Activation(tf.nn.relu),\n",
    "    tf.keras.layers.Dense(1)\n",
    "])\n",
    "\n",
    "keras_model.compile(loss='binary_crossentropy', optimizer='rmsprop')\n",
    "keras_model.fit(hashed_words, is_question, epochs=5)\n",
    "print(keras_model.predict(hashed_words))"
   ]
  },
  {
   "cell_type": "markdown",
   "metadata": {
    "id": "8B_sdlt6Ij61"
   },
   "source": [
    "### tf.Example\n",
    "\n",
    "[tf.Example](https://www.tensorflow.org/tutorials/load_data/tfrecord) is a standard [protobuf](https://developers.google.com/protocol-buffers/) encoding for TensorFlow data.  Data encoded with `tf.Example`s often includes variable-length features.  For example, the following code defines a batch of four `tf.Example` messages with different feature lengths:"
   ]
  },
  {
   "cell_type": "code",
   "execution_count": 27,
   "metadata": {
    "execution": {
     "iopub.execute_input": "2021-09-22T20:36:50.719247Z",
     "iopub.status.busy": "2021-09-22T20:36:50.718582Z",
     "iopub.status.idle": "2021-09-22T20:36:50.720443Z",
     "shell.execute_reply": "2021-09-22T20:36:50.720858Z"
    },
    "id": "xsiglYM7TXGr"
   },
   "outputs": [],
   "source": [
    "import google.protobuf.text_format as pbtext\n",
    "\n",
    "def build_tf_example(s):\n",
    "  return pbtext.Merge(s, tf.train.Example()).SerializeToString()\n",
    "\n",
    "example_batch = [\n",
    "  build_tf_example(r'''\n",
    "    features {\n",
    "      feature {key: \"colors\" value {bytes_list {value: [\"red\", \"blue\"]} } }\n",
    "      feature {key: \"lengths\" value {int64_list {value: [7]} } } }'''),\n",
    "  build_tf_example(r'''\n",
    "    features {\n",
    "      feature {key: \"colors\" value {bytes_list {value: [\"orange\"]} } }\n",
    "      feature {key: \"lengths\" value {int64_list {value: []} } } }'''),\n",
    "  build_tf_example(r'''\n",
    "    features {\n",
    "      feature {key: \"colors\" value {bytes_list {value: [\"black\", \"yellow\"]} } }\n",
    "      feature {key: \"lengths\" value {int64_list {value: [1, 3]} } } }'''),\n",
    "  build_tf_example(r'''\n",
    "    features {\n",
    "      feature {key: \"colors\" value {bytes_list {value: [\"green\"]} } }\n",
    "      feature {key: \"lengths\" value {int64_list {value: [3, 5, 2]} } } }''')]"
   ]
  },
  {
   "cell_type": "markdown",
   "metadata": {
    "id": "szUuXFvtUL2o"
   },
   "source": [
    "You can parse this encoded data using `tf.io.parse_example`, which takes a tensor of serialized strings and a feature specification dictionary, and returns a dictionary mapping feature names to tensors. To read the variable-length features into ragged tensors, you simply use `tf.io.RaggedFeature` in the feature specification dictionary:"
   ]
  },
  {
   "cell_type": "code",
   "execution_count": 28,
   "metadata": {
    "execution": {
     "iopub.execute_input": "2021-09-22T20:36:50.728041Z",
     "iopub.status.busy": "2021-09-22T20:36:50.727357Z",
     "iopub.status.idle": "2021-09-22T20:36:50.729794Z",
     "shell.execute_reply": "2021-09-22T20:36:50.730203Z"
    },
    "id": "xcdaIbYVT4mo"
   },
   "outputs": [
    {
     "name": "stdout",
     "output_type": "stream",
     "text": [
      "colors=<tf.RaggedTensor [[b'red', b'blue'], [b'orange'], [b'black', b'yellow'], [b'green']]>\n",
      "lengths=<tf.RaggedTensor [[7], [], [1, 3], [3, 5, 2]]>\n"
     ]
    }
   ],
   "source": [
    "feature_specification = {\n",
    "    'colors': tf.io.RaggedFeature(tf.string),\n",
    "    'lengths': tf.io.RaggedFeature(tf.int64),\n",
    "}\n",
    "feature_tensors = tf.io.parse_example(example_batch, feature_specification)\n",
    "for name, value in feature_tensors.items():\n",
    "  print(\"{}={}\".format(name, value))"
   ]
  },
  {
   "cell_type": "markdown",
   "metadata": {
    "id": "IK9X_8rXVr8h"
   },
   "source": [
    "`tf.io.RaggedFeature` can also be used to read features with multiple ragged dimensions. For details, refer to the [API documentation](https://www.tensorflow.org/api_docs/python/tf/io/RaggedFeature)."
   ]
  },
  {
   "cell_type": "markdown",
   "metadata": {
    "id": "UJowRhlxIX0R"
   },
   "source": [
    "### Datasets\n",
    "\n",
    "[tf.data](https://www.tensorflow.org/guide/data) is an API that enables you to build complex input pipelines from simple, reusable pieces.  Its core data structure is `tf.data.Dataset`, which represents a sequence of elements, in which each element consists of one or more components. "
   ]
  },
  {
   "cell_type": "code",
   "execution_count": 29,
   "metadata": {
    "execution": {
     "iopub.execute_input": "2021-09-22T20:36:50.735562Z",
     "iopub.status.busy": "2021-09-22T20:36:50.734947Z",
     "iopub.status.idle": "2021-09-22T20:36:50.737178Z",
     "shell.execute_reply": "2021-09-22T20:36:50.736675Z"
    },
    "id": "fBml1m2G2vO9"
   },
   "outputs": [],
   "source": [
    "# Helper function used to print datasets in the examples below.\n",
    "def print_dictionary_dataset(dataset):\n",
    "  for i, element in enumerate(dataset):\n",
    "    print(\"Element {}:\".format(i))\n",
    "    for (feature_name, feature_value) in element.items():\n",
    "      print('{:>14} = {}'.format(feature_name, feature_value))"
   ]
  },
  {
   "cell_type": "markdown",
   "metadata": {
    "id": "gEu_H1Sp2jz1"
   },
   "source": [
    "#### Building Datasets with ragged tensors\n",
    "\n",
    "Datasets can be built from ragged tensors using the same methods that are used to build them from `tf.Tensor`s or NumPy `array`s, such as `Dataset.from_tensor_slices`:"
   ]
  },
  {
   "cell_type": "code",
   "execution_count": 30,
   "metadata": {
    "execution": {
     "iopub.execute_input": "2021-09-22T20:36:50.741993Z",
     "iopub.status.busy": "2021-09-22T20:36:50.741354Z",
     "iopub.status.idle": "2021-09-22T20:36:50.751478Z",
     "shell.execute_reply": "2021-09-22T20:36:50.751931Z"
    },
    "id": "BuelF_y2mEq9"
   },
   "outputs": [
    {
     "name": "stdout",
     "output_type": "stream",
     "text": [
      "Element 0:\n",
      "        colors = [b'red' b'blue']\n",
      "       lengths = [7]\n",
      "Element 1:\n",
      "        colors = [b'orange']\n",
      "       lengths = []\n",
      "Element 2:\n",
      "        colors = [b'black' b'yellow']\n",
      "       lengths = [1 3]\n",
      "Element 3:\n",
      "        colors = [b'green']\n",
      "       lengths = [3 5 2]\n"
     ]
    }
   ],
   "source": [
    "dataset = tf.data.Dataset.from_tensor_slices(feature_tensors)\n",
    "print_dictionary_dataset(dataset)"
   ]
  },
  {
   "cell_type": "markdown",
   "metadata": {
    "id": "mC-QNkJc56De"
   },
   "source": [
    "Note: `Dataset.from_generator` does not support ragged tensors yet, but support will be added soon."
   ]
  },
  {
   "cell_type": "markdown",
   "metadata": {
    "id": "K0UKvBLf1VMu"
   },
   "source": [
    "#### Batching and unbatching Datasets with ragged tensors\n",
    "\n",
    "Datasets with ragged tensors can be batched (which combines *n* consecutive elements into a single elements) using the `Dataset.batch` method."
   ]
  },
  {
   "cell_type": "code",
   "execution_count": 31,
   "metadata": {
    "execution": {
     "iopub.execute_input": "2021-09-22T20:36:50.757345Z",
     "iopub.status.busy": "2021-09-22T20:36:50.756621Z",
     "iopub.status.idle": "2021-09-22T20:36:50.765901Z",
     "shell.execute_reply": "2021-09-22T20:36:50.765349Z"
    },
    "id": "lk62aRz63IZn"
   },
   "outputs": [
    {
     "name": "stdout",
     "output_type": "stream",
     "text": [
      "Element 0:\n",
      "        colors = <tf.RaggedTensor [[b'red', b'blue'], [b'orange']]>\n",
      "       lengths = <tf.RaggedTensor [[7], []]>\n",
      "Element 1:\n",
      "        colors = <tf.RaggedTensor [[b'black', b'yellow'], [b'green']]>\n",
      "       lengths = <tf.RaggedTensor [[1, 3], [3, 5, 2]]>\n"
     ]
    }
   ],
   "source": [
    "batched_dataset = dataset.batch(2)\n",
    "print_dictionary_dataset(batched_dataset)"
   ]
  },
  {
   "cell_type": "markdown",
   "metadata": {
    "id": "NLSGiYEQ5A8N"
   },
   "source": [
    "Conversely, a batched dataset can be transformed into a flat dataset using `Dataset.unbatch`."
   ]
  },
  {
   "cell_type": "code",
   "execution_count": 32,
   "metadata": {
    "execution": {
     "iopub.execute_input": "2021-09-22T20:36:50.772786Z",
     "iopub.status.busy": "2021-09-22T20:36:50.771631Z",
     "iopub.status.idle": "2021-09-22T20:36:50.797390Z",
     "shell.execute_reply": "2021-09-22T20:36:50.797861Z"
    },
    "id": "CxLlaPw_5Je4"
   },
   "outputs": [
    {
     "name": "stdout",
     "output_type": "stream",
     "text": [
      "Element 0:\n",
      "        colors = [b'red' b'blue']\n",
      "       lengths = [7]\n",
      "Element 1:\n",
      "        colors = [b'orange']\n",
      "       lengths = []\n",
      "Element 2:\n",
      "        colors = [b'black' b'yellow']\n",
      "       lengths = [1 3]\n",
      "Element 3:\n",
      "        colors = [b'green']\n",
      "       lengths = [3 5 2]\n"
     ]
    }
   ],
   "source": [
    "unbatched_dataset = batched_dataset.unbatch()\n",
    "print_dictionary_dataset(unbatched_dataset)"
   ]
  },
  {
   "cell_type": "markdown",
   "metadata": {
    "id": "YzpLQFh33q0N"
   },
   "source": [
    "#### Batching Datasets with variable-length non-ragged tensors\n",
    "\n",
    "If you have a Dataset that contains non-ragged tensors, and tensor lengths vary across elements, then you can batch those non-ragged tensors into ragged tensors by applying the `dense_to_ragged_batch` transformation:"
   ]
  },
  {
   "cell_type": "code",
   "execution_count": 33,
   "metadata": {
    "execution": {
     "iopub.execute_input": "2021-09-22T20:36:50.803388Z",
     "iopub.status.busy": "2021-09-22T20:36:50.802702Z",
     "iopub.status.idle": "2021-09-22T20:36:50.829482Z",
     "shell.execute_reply": "2021-09-22T20:36:50.829936Z"
    },
    "id": "PYnhERwh3_mf"
   },
   "outputs": [
    {
     "name": "stdout",
     "output_type": "stream",
     "text": [
      "<tf.RaggedTensor [[0], [0, 1, 2, 3, 4]]>\n",
      "<tf.RaggedTensor [[0, 1, 2], [0, 1]]>\n",
      "<tf.RaggedTensor [[0, 1, 2, 3, 4, 5, 6, 7]]>\n"
     ]
    }
   ],
   "source": [
    "non_ragged_dataset = tf.data.Dataset.from_tensor_slices([1, 5, 3, 2, 8])\n",
    "non_ragged_dataset = non_ragged_dataset.map(tf.range)\n",
    "batched_non_ragged_dataset = non_ragged_dataset.apply(\n",
    "    tf.data.experimental.dense_to_ragged_batch(2))\n",
    "for element in batched_non_ragged_dataset:\n",
    "  print(element)"
   ]
  },
  {
   "cell_type": "markdown",
   "metadata": {
    "id": "nXFPeE-CzJ-s"
   },
   "source": [
    "#### Transforming Datasets with ragged tensors\n",
    "\n",
    "You can also create or transform ragged tensors in Datasets using `Dataset.map`:"
   ]
  },
  {
   "cell_type": "code",
   "execution_count": 34,
   "metadata": {
    "execution": {
     "iopub.execute_input": "2021-09-22T20:36:50.837367Z",
     "iopub.status.busy": "2021-09-22T20:36:50.835618Z",
     "iopub.status.idle": "2021-09-22T20:36:50.893972Z",
     "shell.execute_reply": "2021-09-22T20:36:50.894434Z"
    },
    "id": "Ios1GuG-pf9U"
   },
   "outputs": [
    {
     "name": "stdout",
     "output_type": "stream",
     "text": [
      "Element 0:\n",
      "   mean_length = 7\n",
      " length_ranges = <tf.RaggedTensor [[0, 1, 2, 3, 4, 5, 6]]>\n",
      "Element 1:\n",
      "   mean_length = 0\n",
      " length_ranges = <tf.RaggedTensor []>\n",
      "Element 2:\n",
      "   mean_length = 2\n",
      " length_ranges = <tf.RaggedTensor [[0], [0, 1, 2]]>\n",
      "Element 3:\n",
      "   mean_length = 3\n",
      " length_ranges = <tf.RaggedTensor [[0, 1, 2], [0, 1, 2, 3, 4], [0, 1]]>\n"
     ]
    }
   ],
   "source": [
    "def transform_lengths(features):\n",
    "  return {\n",
    "      'mean_length': tf.math.reduce_mean(features['lengths']),\n",
    "      'length_ranges': tf.ragged.range(features['lengths'])}\n",
    "transformed_dataset = dataset.map(transform_lengths)\n",
    "print_dictionary_dataset(transformed_dataset)"
   ]
  },
  {
   "cell_type": "markdown",
   "metadata": {
    "id": "WD2lWw3fIXrg"
   },
   "source": [
    "### tf.function\n",
    "\n",
    "[tf.function](https://www.tensorflow.org/guide/function) is a decorator that precomputes TensorFlow graphs for Python functions, which can substantially improve the performance of your TensorFlow code.  Ragged tensors can be used transparently with `@tf.function`-decorated functions. For example, the following function works with both ragged and non-ragged tensors:"
   ]
  },
  {
   "cell_type": "code",
   "execution_count": 35,
   "metadata": {
    "execution": {
     "iopub.execute_input": "2021-09-22T20:36:50.899743Z",
     "iopub.status.busy": "2021-09-22T20:36:50.899177Z",
     "iopub.status.idle": "2021-09-22T20:36:50.901122Z",
     "shell.execute_reply": "2021-09-22T20:36:50.901468Z"
    },
    "id": "PfyxgVaj_8tl"
   },
   "outputs": [],
   "source": [
    "@tf.function\n",
    "def make_palindrome(x, axis):\n",
    "  return tf.concat([x, tf.reverse(x, [axis])], axis)"
   ]
  },
  {
   "cell_type": "code",
   "execution_count": 36,
   "metadata": {
    "execution": {
     "iopub.execute_input": "2021-09-22T20:36:50.906601Z",
     "iopub.status.busy": "2021-09-22T20:36:50.906006Z",
     "iopub.status.idle": "2021-09-22T20:36:50.949851Z",
     "shell.execute_reply": "2021-09-22T20:36:50.950268Z"
    },
    "id": "vcZdzvEnDEt0"
   },
   "outputs": [
    {
     "data": {
      "text/plain": [
       "<tf.Tensor: shape=(3, 4), dtype=int32, numpy=\n",
       "array([[1, 2, 2, 1],\n",
       "       [3, 4, 4, 3],\n",
       "       [5, 6, 6, 5]], dtype=int32)>"
      ]
     },
     "execution_count": 36,
     "metadata": {},
     "output_type": "execute_result"
    }
   ],
   "source": [
    "make_palindrome(tf.constant([[1, 2], [3, 4], [5, 6]]), axis=1)"
   ]
  },
  {
   "cell_type": "code",
   "execution_count": 37,
   "metadata": {
    "execution": {
     "iopub.execute_input": "2021-09-22T20:36:50.955974Z",
     "iopub.status.busy": "2021-09-22T20:36:50.955300Z",
     "iopub.status.idle": "2021-09-22T20:36:51.047189Z",
     "shell.execute_reply": "2021-09-22T20:36:51.046680Z"
    },
    "id": "4WfCMIgdDMxj"
   },
   "outputs": [
    {
     "name": "stderr",
     "output_type": "stream",
     "text": [
      "2021-09-22 20:36:51.018367: W tensorflow/core/grappler/optimizers/loop_optimizer.cc:907] Skipping loop optimization for Merge node with control input: RaggedConcat/assert_equal_1/Assert/AssertGuard/branch_executed/_9\n"
     ]
    },
    {
     "data": {
      "text/plain": [
       "<tf.RaggedTensor [[1, 2, 2, 1], [3, 3], [4, 5, 6, 6, 5, 4]]>"
      ]
     },
     "execution_count": 37,
     "metadata": {},
     "output_type": "execute_result"
    }
   ],
   "source": [
    "make_palindrome(tf.ragged.constant([[1, 2], [3], [4, 5, 6]]), axis=1)"
   ]
  },
  {
   "cell_type": "markdown",
   "metadata": {
    "id": "X2p69YPOBUz8"
   },
   "source": [
    "If you wish to explicitly specify the `input_signature` for the `tf.function`, then you can do so using `tf.RaggedTensorSpec`."
   ]
  },
  {
   "cell_type": "code",
   "execution_count": 38,
   "metadata": {
    "execution": {
     "iopub.execute_input": "2021-09-22T20:36:51.055885Z",
     "iopub.status.busy": "2021-09-22T20:36:51.054444Z",
     "iopub.status.idle": "2021-09-22T20:36:51.208640Z",
     "shell.execute_reply": "2021-09-22T20:36:51.207964Z"
    },
    "id": "k6-hkhdDBk6G"
   },
   "outputs": [
    {
     "data": {
      "text/plain": [
       "(<tf.Tensor: shape=(3,), dtype=int32, numpy=array([2, 3, 6], dtype=int32)>,\n",
       " <tf.Tensor: shape=(3,), dtype=int32, numpy=array([1, 3, 4], dtype=int32)>)"
      ]
     },
     "execution_count": 38,
     "metadata": {},
     "output_type": "execute_result"
    }
   ],
   "source": [
    "@tf.function(\n",
    "    input_signature=[tf.RaggedTensorSpec(shape=[None, None], dtype=tf.int32)])\n",
    "def max_and_min(rt):\n",
    "  return (tf.math.reduce_max(rt, axis=-1), tf.math.reduce_min(rt, axis=-1))\n",
    "\n",
    "max_and_min(tf.ragged.constant([[1, 2], [3], [4, 5, 6]]))"
   ]
  },
  {
   "cell_type": "markdown",
   "metadata": {
    "id": "fSs-7E0VD85q"
   },
   "source": [
    "#### Concrete functions\n",
    "\n",
    "[Concrete functions](https://www.tensorflow.org/guide/function#obtaining_concrete_functions) encapsulate individual traced graphs that are built by `tf.function`. Ragged tensors can be used transparently with concrete functions.\n"
   ]
  },
  {
   "cell_type": "code",
   "execution_count": 39,
   "metadata": {
    "execution": {
     "iopub.execute_input": "2021-09-22T20:36:51.216140Z",
     "iopub.status.busy": "2021-09-22T20:36:51.214977Z",
     "iopub.status.idle": "2021-09-22T20:36:51.251812Z",
     "shell.execute_reply": "2021-09-22T20:36:51.251130Z"
    },
    "id": "yyJeXJ4wFWox"
   },
   "outputs": [
    {
     "name": "stdout",
     "output_type": "stream",
     "text": [
      "<tf.RaggedTensor [[2, 3], [4], [5, 6, 7]]>\n"
     ]
    }
   ],
   "source": [
    "@tf.function\n",
    "def increment(x):\n",
    "  return x + 1\n",
    "\n",
    "rt = tf.ragged.constant([[1, 2], [3], [4, 5, 6]])\n",
    "cf = increment.get_concrete_function(rt)\n",
    "print(cf(rt))\n"
   ]
  },
  {
   "cell_type": "markdown",
   "metadata": {
    "id": "iYLyPlatIXhh"
   },
   "source": [
    "### SavedModels\n",
    "\n",
    "A [SavedModel](https://www.tensorflow.org/guide/saved_model) is a serialized TensorFlow program, including both weights and computation.  It can be built from a Keras model or from a custom model.  In either case, ragged tensors can be used transparently with the functions and methods defined by a SavedModel.\n"
   ]
  },
  {
   "cell_type": "markdown",
   "metadata": {
    "id": "98VpBSdOgWqL"
   },
   "source": [
    "#### Example: saving a Keras model"
   ]
  },
  {
   "cell_type": "code",
   "execution_count": 40,
   "metadata": {
    "execution": {
     "iopub.execute_input": "2021-09-22T20:36:51.258878Z",
     "iopub.status.busy": "2021-09-22T20:36:51.257869Z",
     "iopub.status.idle": "2021-09-22T20:36:53.697053Z",
     "shell.execute_reply": "2021-09-22T20:36:53.697510Z"
    },
    "id": "D-Dg9w7Je5pU"
   },
   "outputs": [
    {
     "name": "stderr",
     "output_type": "stream",
     "text": [
      "2021-09-22 20:36:52.069689: W tensorflow/python/util/util.cc:348] Sets are not currently considered sequences, but this may change in the future, so consider avoiding using them.\n",
      "WARNING:absl:Function `_wrapped_model` contains input name(s) args_0 with unsupported characters which will be renamed to args_0_1 in the SavedModel.\n"
     ]
    },
    {
     "name": "stdout",
     "output_type": "stream",
     "text": [
      "INFO:tensorflow:Assets written to: /tmp/tmp114axtt7/assets\n"
     ]
    },
    {
     "name": "stderr",
     "output_type": "stream",
     "text": [
      "INFO:tensorflow:Assets written to: /tmp/tmp114axtt7/assets\n"
     ]
    },
    {
     "data": {
      "text/plain": [
       "<tf.Tensor: shape=(4, 1), dtype=float32, numpy=\n",
       "array([[0.02800461],\n",
       "       [0.00945962],\n",
       "       [0.02283431],\n",
       "       [0.00252927]], dtype=float32)>"
      ]
     },
     "execution_count": 40,
     "metadata": {},
     "output_type": "execute_result"
    }
   ],
   "source": [
    "import tempfile\n",
    "\n",
    "keras_module_path = tempfile.mkdtemp()\n",
    "tf.saved_model.save(keras_model, keras_module_path)\n",
    "imported_model = tf.saved_model.load(keras_module_path)\n",
    "imported_model(hashed_words)"
   ]
  },
  {
   "cell_type": "markdown",
   "metadata": {
    "id": "9-7k-E92gaoR"
   },
   "source": [
    "#### Example: saving a custom model\n"
   ]
  },
  {
   "cell_type": "code",
   "execution_count": 41,
   "metadata": {
    "execution": {
     "iopub.execute_input": "2021-09-22T20:36:53.706529Z",
     "iopub.status.busy": "2021-09-22T20:36:53.705416Z",
     "iopub.status.idle": "2021-09-22T20:36:53.841278Z",
     "shell.execute_reply": "2021-09-22T20:36:53.840755Z"
    },
    "id": "Sfem1ESrdGzX"
   },
   "outputs": [
    {
     "name": "stdout",
     "output_type": "stream",
     "text": [
      "INFO:tensorflow:Assets written to: /tmp/tmpnn4u8dy5/assets\n"
     ]
    },
    {
     "name": "stderr",
     "output_type": "stream",
     "text": [
      "INFO:tensorflow:Assets written to: /tmp/tmpnn4u8dy5/assets\n"
     ]
    },
    {
     "data": {
      "text/plain": [
       "<tf.RaggedTensor [[100.0, 400.0, 300.0], [200.0]]>"
      ]
     },
     "execution_count": 41,
     "metadata": {},
     "output_type": "execute_result"
    }
   ],
   "source": [
    "class CustomModule(tf.Module):\n",
    "  def __init__(self, variable_value):\n",
    "    super(CustomModule, self).__init__()\n",
    "    self.v = tf.Variable(variable_value)\n",
    "\n",
    "  @tf.function\n",
    "  def grow(self, x):\n",
    "    return x * self.v\n",
    "\n",
    "module = CustomModule(100.0)\n",
    "\n",
    "# Before saving a custom model, you must ensure that concrete functions are\n",
    "# built for each input signature that you will need.\n",
    "module.grow.get_concrete_function(tf.RaggedTensorSpec(shape=[None, None],\n",
    "                                                      dtype=tf.float32))\n",
    "\n",
    "custom_module_path = tempfile.mkdtemp()\n",
    "tf.saved_model.save(module, custom_module_path)\n",
    "imported_model = tf.saved_model.load(custom_module_path)\n",
    "imported_model.grow(tf.ragged.constant([[1.0, 4.0, 3.0], [2.0]]))"
   ]
  },
  {
   "cell_type": "markdown",
   "metadata": {
    "id": "SAxis5KBhrBN"
   },
   "source": [
    "Note: SavedModel [signatures](https://www.tensorflow.org/guide/saved_model#specifying_signatures_during_export) are concrete functions.  As discussed in the section on Concrete Functions above, ragged tensors are only handled correctly by concrete functions starting with TensorFlow 2.3. If you need to use SavedModel signatures in a previous version of TensorFlow, then it's recommended that you decompose the ragged tensor into its component tensors."
   ]
  },
  {
   "cell_type": "markdown",
   "metadata": {
    "id": "cRcHzS6pcHYC"
   },
   "source": [
    "## Overloaded operators\n",
    "\n",
    "The `RaggedTensor` class overloads the standard Python arithmetic and comparison operators, making it easy to perform basic elementwise math:"
   ]
  },
  {
   "cell_type": "code",
   "execution_count": 42,
   "metadata": {
    "execution": {
     "iopub.execute_input": "2021-09-22T20:36:53.848658Z",
     "iopub.status.busy": "2021-09-22T20:36:53.847910Z",
     "iopub.status.idle": "2021-09-22T20:36:53.866507Z",
     "shell.execute_reply": "2021-09-22T20:36:53.865974Z"
    },
    "id": "skScd37P-PVu"
   },
   "outputs": [
    {
     "name": "stdout",
     "output_type": "stream",
     "text": [
      "<tf.RaggedTensor [[2, 3], [5], [7, 8, 9]]>\n"
     ]
    }
   ],
   "source": [
    "x = tf.ragged.constant([[1, 2], [3], [4, 5, 6]])\n",
    "y = tf.ragged.constant([[1, 1], [2], [3, 3, 3]])\n",
    "print(x + y)"
   ]
  },
  {
   "cell_type": "markdown",
   "metadata": {
    "id": "XEGgbZHV-PVw"
   },
   "source": [
    "Since the overloaded operators perform elementwise computations, the inputs to all binary operations must have the same shape or be broadcastable to the same shape. In the simplest broadcasting case, a single scalar is combined elementwise with each value in a ragged tensor:"
   ]
  },
  {
   "cell_type": "code",
   "execution_count": 43,
   "metadata": {
    "execution": {
     "iopub.execute_input": "2021-09-22T20:36:53.873148Z",
     "iopub.status.busy": "2021-09-22T20:36:53.872248Z",
     "iopub.status.idle": "2021-09-22T20:36:53.875216Z",
     "shell.execute_reply": "2021-09-22T20:36:53.875612Z"
    },
    "id": "IYybEEWc-PVx"
   },
   "outputs": [
    {
     "name": "stdout",
     "output_type": "stream",
     "text": [
      "<tf.RaggedTensor [[4, 5], [6], [7, 8, 9]]>\n"
     ]
    }
   ],
   "source": [
    "x = tf.ragged.constant([[1, 2], [3], [4, 5, 6]])\n",
    "print(x + 3)"
   ]
  },
  {
   "cell_type": "markdown",
   "metadata": {
    "id": "okGb9dIi-PVz"
   },
   "source": [
    "For a discussion of more advanced cases, check the section on **Broadcasting**.\n",
    "\n",
    "Ragged tensors overload the same set of operators as normal `Tensor`s: the unary operators `-`, `~`, and `abs()`; and the binary operators `+`, `-`, `*`, `/`, `//`, `%`, `**`, `&`, `|`, `^`, `==`, `<`, `<=`, `>`, and `>=`.\n"
   ]
  },
  {
   "cell_type": "markdown",
   "metadata": {
    "id": "f2anbs6ZnFtl"
   },
   "source": [
    "## Indexing\n",
    "\n",
    "Ragged tensors support Python-style indexing, including multidimensional indexing and slicing. The following examples demonstrate ragged tensor indexing with a 2D and a 3D ragged tensor."
   ]
  },
  {
   "cell_type": "markdown",
   "metadata": {
    "id": "XuEwmC3t_ITL"
   },
   "source": [
    "### Indexing examples: 2D ragged tensor"
   ]
  },
  {
   "cell_type": "code",
   "execution_count": 44,
   "metadata": {
    "execution": {
     "iopub.execute_input": "2021-09-22T20:36:53.881790Z",
     "iopub.status.busy": "2021-09-22T20:36:53.881129Z",
     "iopub.status.idle": "2021-09-22T20:36:53.883564Z",
     "shell.execute_reply": "2021-09-22T20:36:53.883057Z"
    },
    "id": "MbSRZRDz-PV1"
   },
   "outputs": [],
   "source": [
    "queries = tf.ragged.constant(\n",
    "    [['Who', 'is', 'George', 'Washington'],\n",
    "     ['What', 'is', 'the', 'weather', 'tomorrow'],\n",
    "     ['Goodnight']])"
   ]
  },
  {
   "cell_type": "code",
   "execution_count": 45,
   "metadata": {
    "execution": {
     "iopub.execute_input": "2021-09-22T20:36:53.888186Z",
     "iopub.status.busy": "2021-09-22T20:36:53.887500Z",
     "iopub.status.idle": "2021-09-22T20:36:53.892283Z",
     "shell.execute_reply": "2021-09-22T20:36:53.892696Z"
    },
    "id": "2HRs2xhh-vZE"
   },
   "outputs": [
    {
     "name": "stdout",
     "output_type": "stream",
     "text": [
      "tf.Tensor([b'What' b'is' b'the' b'weather' b'tomorrow'], shape=(5,), dtype=string)\n"
     ]
    }
   ],
   "source": [
    "print(queries[1])                   # A single query"
   ]
  },
  {
   "cell_type": "code",
   "execution_count": 46,
   "metadata": {
    "execution": {
     "iopub.execute_input": "2021-09-22T20:36:53.897476Z",
     "iopub.status.busy": "2021-09-22T20:36:53.896832Z",
     "iopub.status.idle": "2021-09-22T20:36:53.901030Z",
     "shell.execute_reply": "2021-09-22T20:36:53.901378Z"
    },
    "id": "EFfjZV7YA3UH"
   },
   "outputs": [
    {
     "name": "stdout",
     "output_type": "stream",
     "text": [
      "tf.Tensor(b'the', shape=(), dtype=string)\n"
     ]
    }
   ],
   "source": [
    "print(queries[1, 2])                # A single word"
   ]
  },
  {
   "cell_type": "code",
   "execution_count": 47,
   "metadata": {
    "execution": {
     "iopub.execute_input": "2021-09-22T20:36:53.906076Z",
     "iopub.status.busy": "2021-09-22T20:36:53.905481Z",
     "iopub.status.idle": "2021-09-22T20:36:53.910605Z",
     "shell.execute_reply": "2021-09-22T20:36:53.910999Z"
    },
    "id": "VISRPQSdA3xn"
   },
   "outputs": [
    {
     "name": "stdout",
     "output_type": "stream",
     "text": [
      "<tf.RaggedTensor [[b'What', b'is', b'the', b'weather', b'tomorrow'], [b'Goodnight']]>\n"
     ]
    }
   ],
   "source": [
    "print(queries[1:])                  # Everything but the first row"
   ]
  },
  {
   "cell_type": "code",
   "execution_count": 48,
   "metadata": {
    "execution": {
     "iopub.execute_input": "2021-09-22T20:36:53.915656Z",
     "iopub.status.busy": "2021-09-22T20:36:53.915047Z",
     "iopub.status.idle": "2021-09-22T20:36:53.919112Z",
     "shell.execute_reply": "2021-09-22T20:36:53.919464Z"
    },
    "id": "J1PpSyKQBMng"
   },
   "outputs": [
    {
     "name": "stdout",
     "output_type": "stream",
     "text": [
      "<tf.RaggedTensor [[b'Who', b'is', b'George'], [b'What', b'is', b'the'], [b'Goodnight']]>\n"
     ]
    }
   ],
   "source": [
    "print(queries[:, :3])               # The first 3 words of each query"
   ]
  },
  {
   "cell_type": "code",
   "execution_count": 49,
   "metadata": {
    "execution": {
     "iopub.execute_input": "2021-09-22T20:36:53.924754Z",
     "iopub.status.busy": "2021-09-22T20:36:53.924080Z",
     "iopub.status.idle": "2021-09-22T20:36:53.927787Z",
     "shell.execute_reply": "2021-09-22T20:36:53.928187Z"
    },
    "id": "ixrhHmJBeidy"
   },
   "outputs": [
    {
     "name": "stdout",
     "output_type": "stream",
     "text": [
      "<tf.RaggedTensor [[b'George', b'Washington'], [b'weather', b'tomorrow'], [b'Goodnight']]>\n"
     ]
    }
   ],
   "source": [
    "print(queries[:, -2:])              # The last 2 words of each query"
   ]
  },
  {
   "cell_type": "markdown",
   "metadata": {
    "id": "cnOP6Vza-PV4"
   },
   "source": [
    "### Indexing examples: 3D ragged tensor"
   ]
  },
  {
   "cell_type": "code",
   "execution_count": 50,
   "metadata": {
    "execution": {
     "iopub.execute_input": "2021-09-22T20:36:53.934028Z",
     "iopub.status.busy": "2021-09-22T20:36:53.933402Z",
     "iopub.status.idle": "2021-09-22T20:36:53.935315Z",
     "shell.execute_reply": "2021-09-22T20:36:53.935716Z"
    },
    "id": "8VbqbKcE-PV6"
   },
   "outputs": [],
   "source": [
    "rt = tf.ragged.constant([[[1, 2, 3], [4]],\n",
    "                         [[5], [], [6]],\n",
    "                         [[7]],\n",
    "                         [[8, 9], [10]]])"
   ]
  },
  {
   "cell_type": "code",
   "execution_count": 51,
   "metadata": {
    "execution": {
     "iopub.execute_input": "2021-09-22T20:36:53.940323Z",
     "iopub.status.busy": "2021-09-22T20:36:53.939696Z",
     "iopub.status.idle": "2021-09-22T20:36:53.946782Z",
     "shell.execute_reply": "2021-09-22T20:36:53.947196Z"
    },
    "id": "f9WPVWf4grVp"
   },
   "outputs": [
    {
     "name": "stdout",
     "output_type": "stream",
     "text": [
      "<tf.RaggedTensor [[5], [], [6]]>\n"
     ]
    }
   ],
   "source": [
    "print(rt[1])                        # Second row (2D RaggedTensor)"
   ]
  },
  {
   "cell_type": "code",
   "execution_count": 52,
   "metadata": {
    "execution": {
     "iopub.execute_input": "2021-09-22T20:36:53.952687Z",
     "iopub.status.busy": "2021-09-22T20:36:53.952009Z",
     "iopub.status.idle": "2021-09-22T20:36:53.960112Z",
     "shell.execute_reply": "2021-09-22T20:36:53.960554Z"
    },
    "id": "ad8FGJoABjQH"
   },
   "outputs": [
    {
     "name": "stdout",
     "output_type": "stream",
     "text": [
      "tf.Tensor([8 9], shape=(2,), dtype=int32)\n"
     ]
    }
   ],
   "source": [
    "print(rt[3, 0])                     # First element of fourth row (1D Tensor)"
   ]
  },
  {
   "cell_type": "code",
   "execution_count": 53,
   "metadata": {
    "execution": {
     "iopub.execute_input": "2021-09-22T20:36:53.965829Z",
     "iopub.status.busy": "2021-09-22T20:36:53.965128Z",
     "iopub.status.idle": "2021-09-22T20:36:53.970021Z",
     "shell.execute_reply": "2021-09-22T20:36:53.970420Z"
    },
    "id": "MPPr-a-bBjFE"
   },
   "outputs": [
    {
     "name": "stdout",
     "output_type": "stream",
     "text": [
      "<tf.RaggedTensor [[[4]], [[], [6]], [], [[10]]]>\n"
     ]
    }
   ],
   "source": [
    "print(rt[:, 1:3])                   # Items 1-3 of each row (3D RaggedTensor)"
   ]
  },
  {
   "cell_type": "code",
   "execution_count": 54,
   "metadata": {
    "execution": {
     "iopub.execute_input": "2021-09-22T20:36:53.975501Z",
     "iopub.status.busy": "2021-09-22T20:36:53.974860Z",
     "iopub.status.idle": "2021-09-22T20:36:53.979585Z",
     "shell.execute_reply": "2021-09-22T20:36:53.979092Z"
    },
    "id": "6SIDeoIUBi4z"
   },
   "outputs": [
    {
     "name": "stdout",
     "output_type": "stream",
     "text": [
      "<tf.RaggedTensor [[[4]], [[6]], [[7]], [[10]]]>\n"
     ]
    }
   ],
   "source": [
    "print(rt[:, -1:])                   # Last item of each row (3D RaggedTensor)"
   ]
  },
  {
   "cell_type": "markdown",
   "metadata": {
    "id": "_d3nBh1GnWvU"
   },
   "source": [
    "`RaggedTensor`s support multidimensional indexing and slicing with one restriction: indexing into a ragged dimension is not allowed. This case is problematic because the indicated value may exist in some rows but not others. In such cases, it's not obvious whether you should (1) raise an `IndexError`; (2) use a default value; or (3) skip that value and return a tensor with fewer rows than you started with. Following the [guiding principles of Python](https://www.python.org/dev/peps/pep-0020/) (\"In the face of ambiguity, refuse the temptation to guess\"), this operation is currently disallowed."
   ]
  },
  {
   "cell_type": "markdown",
   "metadata": {
    "id": "IsWKETULAJbN"
   },
   "source": [
    "## Tensor type conversion\n",
    "\n",
    "The `RaggedTensor` class defines methods that can be used to convert\n",
    "between `RaggedTensor`s and `tf.Tensor`s or `tf.SparseTensors`:"
   ]
  },
  {
   "cell_type": "code",
   "execution_count": 55,
   "metadata": {
    "execution": {
     "iopub.execute_input": "2021-09-22T20:36:53.984880Z",
     "iopub.status.busy": "2021-09-22T20:36:53.984269Z",
     "iopub.status.idle": "2021-09-22T20:36:53.986258Z",
     "shell.execute_reply": "2021-09-22T20:36:53.986629Z"
    },
    "id": "INnfmZGcBoU_"
   },
   "outputs": [],
   "source": [
    "ragged_sentences = tf.ragged.constant([\n",
    "    ['Hi'], ['Welcome', 'to', 'the', 'fair'], ['Have', 'fun']])"
   ]
  },
  {
   "cell_type": "code",
   "execution_count": 56,
   "metadata": {
    "execution": {
     "iopub.execute_input": "2021-09-22T20:36:53.991353Z",
     "iopub.status.busy": "2021-09-22T20:36:53.990738Z",
     "iopub.status.idle": "2021-09-22T20:36:53.993768Z",
     "shell.execute_reply": "2021-09-22T20:36:53.994153Z"
    },
    "id": "__iJ4iXtkGOx"
   },
   "outputs": [
    {
     "name": "stdout",
     "output_type": "stream",
     "text": [
      "tf.Tensor(\n",
      "[[b'Hi' b'' b'' b'' b'' b'' b'' b'' b'' b'']\n",
      " [b'Welcome' b'to' b'the' b'fair' b'' b'' b'' b'' b'' b'']\n",
      " [b'Have' b'fun' b'' b'' b'' b'' b'' b'' b'' b'']], shape=(3, 10), dtype=string)\n"
     ]
    }
   ],
   "source": [
    "# RaggedTensor -> Tensor\n",
    "print(ragged_sentences.to_tensor(default_value='', shape=[None, 10]))"
   ]
  },
  {
   "cell_type": "code",
   "execution_count": 57,
   "metadata": {
    "execution": {
     "iopub.execute_input": "2021-09-22T20:36:53.999398Z",
     "iopub.status.busy": "2021-09-22T20:36:53.998766Z",
     "iopub.status.idle": "2021-09-22T20:36:54.006440Z",
     "shell.execute_reply": "2021-09-22T20:36:54.006810Z"
    },
    "id": "-rfiyYqne8QN"
   },
   "outputs": [
    {
     "name": "stdout",
     "output_type": "stream",
     "text": [
      "<tf.RaggedTensor [[1, 3], [2], [4, 5, 8, 9]]>\n"
     ]
    }
   ],
   "source": [
    "# Tensor -> RaggedTensor\n",
    "x = [[1, 3, -1, -1], [2, -1, -1, -1], [4, 5, 8, 9]]\n",
    "print(tf.RaggedTensor.from_tensor(x, padding=-1))"
   ]
  },
  {
   "cell_type": "code",
   "execution_count": 58,
   "metadata": {
    "execution": {
     "iopub.execute_input": "2021-09-22T20:36:54.011416Z",
     "iopub.status.busy": "2021-09-22T20:36:54.010498Z",
     "iopub.status.idle": "2021-09-22T20:36:54.013830Z",
     "shell.execute_reply": "2021-09-22T20:36:54.014206Z"
    },
    "id": "41WAZLXNnbwH"
   },
   "outputs": [
    {
     "name": "stdout",
     "output_type": "stream",
     "text": [
      "SparseTensor(indices=tf.Tensor(\n",
      "[[0 0]\n",
      " [1 0]\n",
      " [1 1]\n",
      " [1 2]\n",
      " [1 3]\n",
      " [2 0]\n",
      " [2 1]], shape=(7, 2), dtype=int64), values=tf.Tensor([b'Hi' b'Welcome' b'to' b'the' b'fair' b'Have' b'fun'], shape=(7,), dtype=string), dense_shape=tf.Tensor([3 4], shape=(2,), dtype=int64))\n"
     ]
    }
   ],
   "source": [
    "#RaggedTensor -> SparseTensor\n",
    "print(ragged_sentences.to_sparse())"
   ]
  },
  {
   "cell_type": "code",
   "execution_count": 59,
   "metadata": {
    "execution": {
     "iopub.execute_input": "2021-09-22T20:36:54.020397Z",
     "iopub.status.busy": "2021-09-22T20:36:54.019750Z",
     "iopub.status.idle": "2021-09-22T20:36:54.027950Z",
     "shell.execute_reply": "2021-09-22T20:36:54.028340Z"
    },
    "id": "S8MkYo2hfVhj"
   },
   "outputs": [
    {
     "name": "stdout",
     "output_type": "stream",
     "text": [
      "<tf.RaggedTensor [[b'a'], [], [b'b', b'c']]>\n"
     ]
    }
   ],
   "source": [
    "# SparseTensor -> RaggedTensor\n",
    "st = tf.SparseTensor(indices=[[0, 0], [2, 0], [2, 1]],\n",
    "                     values=['a', 'b', 'c'],\n",
    "                     dense_shape=[3, 3])\n",
    "print(tf.RaggedTensor.from_sparse(st))"
   ]
  },
  {
   "cell_type": "markdown",
   "metadata": {
    "id": "qx025sNMkAHH"
   },
   "source": [
    "## Evaluating ragged tensors\n",
    "\n",
    "To access the values in a ragged tensor, you can:\n",
    "\n",
    "1.  Use `tf.RaggedTensor.to_list` to convert the ragged tensor to a nested Python list.\n",
    "2.  Use `tf.RaggedTensor.numpy` to convert the ragged tensor to a NumPy array whose values are nested NumPy arrays.\n",
    "3.  Decompose the ragged tensor into its components, using the `tf.RaggedTensor.values` and `tf.RaggedTensor.row_splits` properties, or row-paritioning methods such as `tf.RaggedTensor.row_lengths` and `tf.RaggedTensor.value_rowids`.\n",
    "4.  Use Python indexing to select values from the ragged tensor.\n"
   ]
  },
  {
   "cell_type": "code",
   "execution_count": 60,
   "metadata": {
    "execution": {
     "iopub.execute_input": "2021-09-22T20:36:54.035746Z",
     "iopub.status.busy": "2021-09-22T20:36:54.034580Z",
     "iopub.status.idle": "2021-09-22T20:36:54.041431Z",
     "shell.execute_reply": "2021-09-22T20:36:54.041866Z"
    },
    "id": "uMm1WMkc-PV_"
   },
   "outputs": [
    {
     "name": "stdout",
     "output_type": "stream",
     "text": [
      "Python list: [[1, 2], [3, 4, 5], [6], [], [7]]\n",
      "NumPy array: [array([1, 2], dtype=int32) array([3, 4, 5], dtype=int32)\n",
      " array([6], dtype=int32) array([], dtype=int32) array([7], dtype=int32)]\n",
      "Values: [1 2 3 4 5 6 7]\n",
      "Splits: [0 2 5 6 6 7]\n",
      "Indexed value: [3 4 5]\n"
     ]
    },
    {
     "name": "stderr",
     "output_type": "stream",
     "text": [
      "/tmpfs/src/tf_docs_env/lib/python3.7/site-packages/tensorflow/python/ops/ragged/ragged_tensor.py:2063: VisibleDeprecationWarning: Creating an ndarray from ragged nested sequences (which is a list-or-tuple of lists-or-tuples-or ndarrays with different lengths or shapes) is deprecated. If you meant to do this, you must specify 'dtype=object' when creating the ndarray\n",
      "  return np.array(rows)\n"
     ]
    }
   ],
   "source": [
    "rt = tf.ragged.constant([[1, 2], [3, 4, 5], [6], [], [7]])\n",
    "print(\"Python list:\", rt.to_list())\n",
    "print(\"NumPy array:\", rt.numpy())\n",
    "print(\"Values:\", rt.values.numpy())\n",
    "print(\"Splits:\", rt.row_splits.numpy())\n",
    "print(\"Indexed value:\", rt[1].numpy())"
   ]
  },
  {
   "cell_type": "markdown",
   "metadata": {
    "id": "EdljbNPq-PWS"
   },
   "source": [
    "## Broadcasting\n",
    "\n",
    "Broadcasting is the process of making tensors with different shapes have compatible shapes for elementwise operations. For more background on broadcasting, refer to:\n",
    "\n",
    "- [NumPy: Broadcasting](https://docs.scipy.org/doc/numpy/user/basics.broadcasting.html)\n",
    "- `tf.broadcast_dynamic_shape`\n",
    "- `tf.broadcast_to`\n",
    "\n",
    "The basic steps for broadcasting two inputs `x` and `y` to have compatible shapes are:\n",
    "\n",
    "1.  If `x` and `y` do not have the same number of dimensions, then add outer dimensions (with size 1) until they do.\n",
    "\n",
    "2.  For each dimension where `x` and `y` have different sizes:\n",
    "\n",
    "- If `x` or `y` have size `1` in dimension `d`, then repeat its values across dimension `d` to match the other input's size.\n",
    "- Otherwise, raise an exception (`x` and `y` are not broadcast compatible).\n",
    "\n",
    "Where the size of a tensor in a uniform dimension is a single number (the size of slices across that dimension); and the size of a tensor in a ragged dimension is a list of slice lengths (for all slices across that dimension)."
   ]
  },
  {
   "cell_type": "markdown",
   "metadata": {
    "id": "-S2hOUWx-PWU"
   },
   "source": [
    "### Broadcasting examples"
   ]
  },
  {
   "cell_type": "code",
   "execution_count": 61,
   "metadata": {
    "execution": {
     "iopub.execute_input": "2021-09-22T20:36:54.047525Z",
     "iopub.status.busy": "2021-09-22T20:36:54.046802Z",
     "iopub.status.idle": "2021-09-22T20:36:54.049531Z",
     "shell.execute_reply": "2021-09-22T20:36:54.049940Z"
    },
    "id": "0n095XdR-PWU"
   },
   "outputs": [
    {
     "name": "stdout",
     "output_type": "stream",
     "text": [
      "<tf.RaggedTensor [[4, 5], [6]]>\n"
     ]
    }
   ],
   "source": [
    "# x       (2D ragged):  2 x (num_rows)\n",
    "# y       (scalar)\n",
    "# result  (2D ragged):  2 x (num_rows)\n",
    "x = tf.ragged.constant([[1, 2], [3]])\n",
    "y = 3\n",
    "print(x + y)"
   ]
  },
  {
   "cell_type": "code",
   "execution_count": 62,
   "metadata": {
    "execution": {
     "iopub.execute_input": "2021-09-22T20:36:54.056263Z",
     "iopub.status.busy": "2021-09-22T20:36:54.055588Z",
     "iopub.status.idle": "2021-09-22T20:36:54.080486Z",
     "shell.execute_reply": "2021-09-22T20:36:54.079897Z"
    },
    "id": "0SVYk5AP-PWW"
   },
   "outputs": [
    {
     "name": "stdout",
     "output_type": "stream",
     "text": [
      "<tf.RaggedTensor [[1010, 1087, 1012], [2019, 2053], [3012, 3032]]>\n"
     ]
    }
   ],
   "source": [
    "# x         (2d ragged):  3 x (num_rows)\n",
    "# y         (2d tensor):  3 x          1\n",
    "# Result    (2d ragged):  3 x (num_rows)\n",
    "x = tf.ragged.constant(\n",
    "   [[10, 87, 12],\n",
    "    [19, 53],\n",
    "    [12, 32]])\n",
    "y = [[1000], [2000], [3000]]\n",
    "print(x + y)"
   ]
  },
  {
   "cell_type": "code",
   "execution_count": 63,
   "metadata": {
    "execution": {
     "iopub.execute_input": "2021-09-22T20:36:54.087488Z",
     "iopub.status.busy": "2021-09-22T20:36:54.086752Z",
     "iopub.status.idle": "2021-09-22T20:36:54.115493Z",
     "shell.execute_reply": "2021-09-22T20:36:54.115882Z"
    },
    "id": "MsfBMD80s8Ux"
   },
   "outputs": [
    {
     "name": "stdout",
     "output_type": "stream",
     "text": [
      "<tf.RaggedTensor [[[11, 12], [13, 14], [15, 16]], [[17, 18]]]>\n"
     ]
    }
   ],
   "source": [
    "# x      (3d ragged):  2 x (r1) x 2\n",
    "# y      (2d ragged):         1 x 1\n",
    "# Result (3d ragged):  2 x (r1) x 2\n",
    "x = tf.ragged.constant(\n",
    "    [[[1, 2], [3, 4], [5, 6]],\n",
    "     [[7, 8]]],\n",
    "    ragged_rank=1)\n",
    "y = tf.constant([[10]])\n",
    "print(x + y)"
   ]
  },
  {
   "cell_type": "code",
   "execution_count": 64,
   "metadata": {
    "execution": {
     "iopub.execute_input": "2021-09-22T20:36:54.123448Z",
     "iopub.status.busy": "2021-09-22T20:36:54.122665Z",
     "iopub.status.idle": "2021-09-22T20:36:54.125789Z",
     "shell.execute_reply": "2021-09-22T20:36:54.125203Z"
    },
    "id": "rEj5QVfnva0t"
   },
   "outputs": [
    {
     "name": "stdout",
     "output_type": "stream",
     "text": [
      "<tf.RaggedTensor [[[[11, 21, 31], [12, 22, 32]], [], [[13, 23, 33]], [[14, 24, 34]]], [[[15, 25, 35], [16, 26, 36]], [[17, 27, 37]]]]>\n"
     ]
    }
   ],
   "source": [
    "# x      (3d ragged):  2 x (r1) x (r2) x 1\n",
    "# y      (1d tensor):                    3\n",
    "# Result (3d ragged):  2 x (r1) x (r2) x 3\n",
    "x = tf.ragged.constant(\n",
    "    [\n",
    "        [\n",
    "            [[1], [2]],\n",
    "            [],\n",
    "            [[3]],\n",
    "            [[4]],\n",
    "        ],\n",
    "        [\n",
    "            [[5], [6]],\n",
    "            [[7]]\n",
    "        ]\n",
    "    ],\n",
    "    ragged_rank=2)\n",
    "y = tf.constant([10, 20, 30])\n",
    "print(x + y)"
   ]
  },
  {
   "cell_type": "markdown",
   "metadata": {
    "id": "uennZ64Aqftb"
   },
   "source": [
    "Here are some examples of shapes that do not broadcast:"
   ]
  },
  {
   "cell_type": "code",
   "execution_count": 65,
   "metadata": {
    "execution": {
     "iopub.execute_input": "2021-09-22T20:36:54.133654Z",
     "iopub.status.busy": "2021-09-22T20:36:54.132962Z",
     "iopub.status.idle": "2021-09-22T20:36:54.144092Z",
     "shell.execute_reply": "2021-09-22T20:36:54.143582Z"
    },
    "id": "UpI0FlfL4Eim"
   },
   "outputs": [
    {
     "name": "stdout",
     "output_type": "stream",
     "text": [
      "Expected 'tf.Tensor(False, shape=(), dtype=bool)' to be true. Summarized data: b'Unable to broadcast: dimension size mismatch in dimension'\n",
      "1\n",
      "b'lengths='\n",
      "4\n",
      "b'dim_size='\n",
      "2, 4, 1\n"
     ]
    }
   ],
   "source": [
    "# x      (2d ragged): 3 x (r1)\n",
    "# y      (2d tensor): 3 x    4  # trailing dimensions do not match\n",
    "x = tf.ragged.constant([[1, 2], [3, 4, 5, 6], [7]])\n",
    "y = tf.constant([[1, 2, 3, 4], [5, 6, 7, 8], [9, 10, 11, 12]])\n",
    "try:\n",
    "  x + y\n",
    "except tf.errors.InvalidArgumentError as exception:\n",
    "  print(exception)"
   ]
  },
  {
   "cell_type": "code",
   "execution_count": 66,
   "metadata": {
    "execution": {
     "iopub.execute_input": "2021-09-22T20:36:54.151099Z",
     "iopub.status.busy": "2021-09-22T20:36:54.150402Z",
     "iopub.status.idle": "2021-09-22T20:36:54.166345Z",
     "shell.execute_reply": "2021-09-22T20:36:54.165775Z"
    },
    "id": "qGq1zOT4zMoc"
   },
   "outputs": [
    {
     "name": "stdout",
     "output_type": "stream",
     "text": [
      "Expected 'tf.Tensor(False, shape=(), dtype=bool)' to be true. Summarized data: b'Unable to broadcast: dimension size mismatch in dimension'\n",
      "1\n",
      "b'lengths='\n",
      "2, 2, 1\n",
      "b'dim_size='\n",
      "3, 1, 2\n"
     ]
    }
   ],
   "source": [
    "# x      (2d ragged): 3 x (r1)\n",
    "# y      (2d ragged): 3 x (r2)  # ragged dimensions do not match.\n",
    "x = tf.ragged.constant([[1, 2, 3], [4], [5, 6]])\n",
    "y = tf.ragged.constant([[10, 20], [30, 40], [50]])\n",
    "try:\n",
    "  x + y\n",
    "except tf.errors.InvalidArgumentError as exception:\n",
    "  print(exception)"
   ]
  },
  {
   "cell_type": "code",
   "execution_count": 67,
   "metadata": {
    "execution": {
     "iopub.execute_input": "2021-09-22T20:36:54.174946Z",
     "iopub.status.busy": "2021-09-22T20:36:54.174252Z",
     "iopub.status.idle": "2021-09-22T20:36:54.198068Z",
     "shell.execute_reply": "2021-09-22T20:36:54.197548Z"
    },
    "id": "CvLae5vMqeji"
   },
   "outputs": [
    {
     "name": "stdout",
     "output_type": "stream",
     "text": [
      "Expected 'tf.Tensor(False, shape=(), dtype=bool)' to be true. Summarized data: b'Unable to broadcast: dimension size mismatch in dimension'\n",
      "2\n",
      "b'lengths='\n",
      "3, 3, 3, 3, 3\n",
      "b'dim_size='\n",
      "2, 2, 2, 2, 2\n"
     ]
    }
   ],
   "source": [
    "# x      (3d ragged): 3 x (r1) x 2\n",
    "# y      (3d ragged): 3 x (r1) x 3  # trailing dimensions do not match\n",
    "x = tf.ragged.constant([[[1, 2], [3, 4], [5, 6]],\n",
    "                        [[7, 8], [9, 10]]])\n",
    "y = tf.ragged.constant([[[1, 2, 0], [3, 4, 0], [5, 6, 0]],\n",
    "                        [[7, 8, 0], [9, 10, 0]]])\n",
    "try:\n",
    "  x + y\n",
    "except tf.errors.InvalidArgumentError as exception:\n",
    "  print(exception)"
   ]
  },
  {
   "cell_type": "markdown",
   "metadata": {
    "id": "m0wQkLfV-PWa"
   },
   "source": [
    "## RaggedTensor encoding\n",
    "\n",
    "Ragged tensors are encoded using the `RaggedTensor` class. Internally, each `RaggedTensor` consists of:\n",
    "\n",
    "- A `values` tensor, which concatenates the variable-length rows into a flattened list.\n",
    "- A `row_partition`, which indicates how those flattened values are divided into rows.\n",
    "\n",
    "![RaggedTensor encoding](https://www.tensorflow.org/images/ragged_tensors/ragged_encoding_2.png)\n",
    "\n",
    "The `row_partition` can be stored using four different encodings:\n",
    "\n",
    "- `row_splits` is an integer vector specifying the split points between rows.\n",
    "- `value_rowids` is an integer vector specifying the row index for each value.\n",
    "- `row_lengths` is an integer vector specifying the length of each row.\n",
    "- `uniform_row_length` is an integer scalar specifying a single length for all rows.\n",
    "\n",
    "![row_partition encodings](https://www.tensorflow.org/images/ragged_tensors/partition_encodings.png)\n",
    "\n",
    "An integer scalar `nrows` can also be included in the `row_partition` encoding to account for empty trailing rows with `value_rowids` or empty rows with `uniform_row_length`.\n"
   ]
  },
  {
   "cell_type": "code",
   "execution_count": 68,
   "metadata": {
    "execution": {
     "iopub.execute_input": "2021-09-22T20:36:54.203442Z",
     "iopub.status.busy": "2021-09-22T20:36:54.202818Z",
     "iopub.status.idle": "2021-09-22T20:36:54.208247Z",
     "shell.execute_reply": "2021-09-22T20:36:54.208668Z"
    },
    "id": "MrLgMu0gPuo-"
   },
   "outputs": [
    {
     "name": "stdout",
     "output_type": "stream",
     "text": [
      "<tf.RaggedTensor [[3, 1, 4, 1], [], [5, 9], [2]]>\n"
     ]
    }
   ],
   "source": [
    "rt = tf.RaggedTensor.from_row_splits(\n",
    "    values=[3, 1, 4, 1, 5, 9, 2],\n",
    "    row_splits=[0, 4, 4, 6, 7])\n",
    "print(rt)"
   ]
  },
  {
   "cell_type": "markdown",
   "metadata": {
    "id": "wEfZOKwN1Ra_"
   },
   "source": [
    "The choice of which encoding to use for row partitions is managed internally by ragged tensors to improve efficiency in some contexts. In particular, some of the advantages and disadvantages of the different row-partitioning schemes are:\n",
    "\n",
    "- **Efficient indexing**: The `row_splits` encoding enables constant-time indexing and slicing into ragged tensors.\n",
    "- **Efficient concatenation**: The `row_lengths` encoding is more efficient when concatenating ragged tensors, since row lengths do not change when two tensors are concatenated together.\n",
    "- **Small encoding size**: The `value_rowids` encoding is more efficient when storing ragged tensors that have a large number of empty rows, since the size of the tensor depends only on the total number of values. On the other hand, the `row_splits` and `row_lengths` encodings are more efficient when storing ragged tensors with longer rows, since they require only one scalar value for each row.\n",
    "- **Compatibility**: The `value_rowids` scheme matches the [segmentation](https://www.tensorflow.org/api_docs/python/tf/math#about_segmentation) format used by operations, such as `tf.segment_sum`. The `row_limits` scheme matches the format used by ops such as `tf.sequence_mask`.\n",
    "- **Uniform dimensions**: As discussed below, the `uniform_row_length` encoding is used to encode ragged tensors with uniform dimensions."
   ]
  },
  {
   "cell_type": "markdown",
   "metadata": {
    "id": "bpB7xKoUPtU6"
   },
   "source": [
    "### Multiple ragged dimensions\n",
    "\n",
    "A ragged tensor with multiple ragged dimensions is encoded by using a nested `RaggedTensor` for the `values` tensor. Each nested `RaggedTensor` adds a single ragged dimension.\n",
    "\n",
    "![Encoding of a ragged tensor with multiple ragged dimensions (rank 2)](https://www.tensorflow.org/images/ragged_tensors/ragged_rank_2.png)\n"
   ]
  },
  {
   "cell_type": "code",
   "execution_count": 69,
   "metadata": {
    "execution": {
     "iopub.execute_input": "2021-09-22T20:36:54.216151Z",
     "iopub.status.busy": "2021-09-22T20:36:54.215420Z",
     "iopub.status.idle": "2021-09-22T20:36:54.223468Z",
     "shell.execute_reply": "2021-09-22T20:36:54.222948Z"
    },
    "id": "yy3IGT2a-PWb"
   },
   "outputs": [
    {
     "name": "stdout",
     "output_type": "stream",
     "text": [
      "<tf.RaggedTensor [[[10, 11, 12]], [], [[], [13, 14], [15, 16, 17, 18], [19]]]>\n",
      "Shape: (3, None, None)\n",
      "Number of partitioned dimensions: 2\n"
     ]
    }
   ],
   "source": [
    "rt = tf.RaggedTensor.from_row_splits(\n",
    "    values=tf.RaggedTensor.from_row_splits(\n",
    "        values=[10, 11, 12, 13, 14, 15, 16, 17, 18, 19],\n",
    "        row_splits=[0, 3, 3, 5, 9, 10]),\n",
    "    row_splits=[0, 1, 1, 5])\n",
    "print(rt)\n",
    "print(\"Shape: {}\".format(rt.shape))\n",
    "print(\"Number of partitioned dimensions: {}\".format(rt.ragged_rank))"
   ]
  },
  {
   "cell_type": "markdown",
   "metadata": {
    "id": "5HqEEDzk-PWc"
   },
   "source": [
    "The factory function `tf.RaggedTensor.from_nested_row_splits` may be used to construct a RaggedTensor with multiple ragged dimensions directly by providing a list of `row_splits` tensors:"
   ]
  },
  {
   "cell_type": "code",
   "execution_count": 70,
   "metadata": {
    "execution": {
     "iopub.execute_input": "2021-09-22T20:36:54.229991Z",
     "iopub.status.busy": "2021-09-22T20:36:54.229263Z",
     "iopub.status.idle": "2021-09-22T20:36:54.237942Z",
     "shell.execute_reply": "2021-09-22T20:36:54.237437Z"
    },
    "id": "AKYhtFcT-PWd"
   },
   "outputs": [
    {
     "name": "stdout",
     "output_type": "stream",
     "text": [
      "<tf.RaggedTensor [[[10, 11, 12]], [], [[], [13, 14], [15, 16, 17, 18], [19]]]>\n"
     ]
    }
   ],
   "source": [
    "rt = tf.RaggedTensor.from_nested_row_splits(\n",
    "    flat_values=[10, 11, 12, 13, 14, 15, 16, 17, 18, 19],\n",
    "    nested_row_splits=([0, 1, 1, 5], [0, 3, 3, 5, 9, 10]))\n",
    "print(rt)"
   ]
  },
  {
   "cell_type": "markdown",
   "metadata": {
    "id": "BqAfbkAC56m0"
   },
   "source": [
    "### Ragged rank and flat values\n",
    "\n",
    "A ragged tensor's ***ragged rank*** is the number of times that the underlying `values` tensor has been partitioned (i.e. the nesting depth of  `RaggedTensor` objects). The innermost `values` tensor is known as its ***flat_values***.  In the following example, `conversations` has ragged_rank=3, and its `flat_values` is a 1D `Tensor` with 24 strings:\n"
   ]
  },
  {
   "cell_type": "code",
   "execution_count": 71,
   "metadata": {
    "execution": {
     "iopub.execute_input": "2021-09-22T20:36:54.246735Z",
     "iopub.status.busy": "2021-09-22T20:36:54.245883Z",
     "iopub.status.idle": "2021-09-22T20:36:54.249041Z",
     "shell.execute_reply": "2021-09-22T20:36:54.248488Z"
    },
    "id": "BXp-Tt2bClem"
   },
   "outputs": [
    {
     "data": {
      "text/plain": [
       "TensorShape([2, None, None, None])"
      ]
     },
     "execution_count": 71,
     "metadata": {},
     "output_type": "execute_result"
    }
   ],
   "source": [
    "# shape = [batch, (paragraph), (sentence), (word)]\n",
    "conversations = tf.ragged.constant(\n",
    "    [[[[\"I\", \"like\", \"ragged\", \"tensors.\"]],\n",
    "      [[\"Oh\", \"yeah?\"], [\"What\", \"can\", \"you\", \"use\", \"them\", \"for?\"]],\n",
    "      [[\"Processing\", \"variable\", \"length\", \"data!\"]]],\n",
    "     [[[\"I\", \"like\", \"cheese.\"], [\"Do\", \"you?\"]],\n",
    "      [[\"Yes.\"], [\"I\", \"do.\"]]]])\n",
    "conversations.shape"
   ]
  },
  {
   "cell_type": "code",
   "execution_count": 72,
   "metadata": {
    "execution": {
     "iopub.execute_input": "2021-09-22T20:36:54.254443Z",
     "iopub.status.busy": "2021-09-22T20:36:54.253758Z",
     "iopub.status.idle": "2021-09-22T20:36:54.256781Z",
     "shell.execute_reply": "2021-09-22T20:36:54.256195Z"
    },
    "id": "DZUMrgxXFd5s"
   },
   "outputs": [
    {
     "data": {
      "text/plain": [
       "3"
      ]
     },
     "execution_count": 72,
     "metadata": {},
     "output_type": "execute_result"
    }
   ],
   "source": [
    "assert conversations.ragged_rank == len(conversations.nested_row_splits)\n",
    "conversations.ragged_rank  # Number of partitioned dimensions."
   ]
  },
  {
   "cell_type": "code",
   "execution_count": 73,
   "metadata": {
    "execution": {
     "iopub.execute_input": "2021-09-22T20:36:54.262015Z",
     "iopub.status.busy": "2021-09-22T20:36:54.261280Z",
     "iopub.status.idle": "2021-09-22T20:36:54.264522Z",
     "shell.execute_reply": "2021-09-22T20:36:54.264019Z"
    },
    "id": "xXLSNpS0Fdvp"
   },
   "outputs": [
    {
     "data": {
      "text/plain": [
       "array([b'I', b'like', b'ragged', b'tensors.', b'Oh', b'yeah?', b'What',\n",
       "       b'can', b'you', b'use', b'them', b'for?', b'Processing',\n",
       "       b'variable', b'length', b'data!', b'I', b'like', b'cheese.', b'Do',\n",
       "       b'you?', b'Yes.', b'I', b'do.'], dtype=object)"
      ]
     },
     "execution_count": 73,
     "metadata": {},
     "output_type": "execute_result"
    }
   ],
   "source": [
    "conversations.flat_values.numpy()"
   ]
  },
  {
   "cell_type": "markdown",
   "metadata": {
    "id": "uba2EnAY-PWf"
   },
   "source": [
    "### Uniform inner dimensions\n",
    "\n",
    "Ragged tensors with uniform inner dimensions are encoded by using a\n",
    "multidimensional `tf.Tensor` for the flat_values (i.e., the innermost `values`).\n",
    "\n",
    "![Encoding of ragged tensors with uniform inner dimensions](https://www.tensorflow.org/images/ragged_tensors/uniform_inner.png)"
   ]
  },
  {
   "cell_type": "code",
   "execution_count": 74,
   "metadata": {
    "execution": {
     "iopub.execute_input": "2021-09-22T20:36:54.272045Z",
     "iopub.status.busy": "2021-09-22T20:36:54.271346Z",
     "iopub.status.idle": "2021-09-22T20:36:54.277750Z",
     "shell.execute_reply": "2021-09-22T20:36:54.277233Z"
    },
    "id": "z2sHwHdy-PWg"
   },
   "outputs": [
    {
     "name": "stdout",
     "output_type": "stream",
     "text": [
      "<tf.RaggedTensor [[[1, 3], [0, 0], [1, 3]], [[5, 3]], [[3, 3], [1, 2]]]>\n",
      "Shape: (3, None, 2)\n",
      "Number of partitioned dimensions: 1\n",
      "Flat values shape: (6, 2)\n",
      "Flat values:\n",
      "[[1 3]\n",
      " [0 0]\n",
      " [1 3]\n",
      " [5 3]\n",
      " [3 3]\n",
      " [1 2]]\n"
     ]
    }
   ],
   "source": [
    "rt = tf.RaggedTensor.from_row_splits(\n",
    "    values=[[1, 3], [0, 0], [1, 3], [5, 3], [3, 3], [1, 2]],\n",
    "    row_splits=[0, 3, 4, 6])\n",
    "print(rt)\n",
    "print(\"Shape: {}\".format(rt.shape))\n",
    "print(\"Number of partitioned dimensions: {}\".format(rt.ragged_rank))\n",
    "print(\"Flat values shape: {}\".format(rt.flat_values.shape))\n",
    "print(\"Flat values:\\n{}\".format(rt.flat_values))"
   ]
  },
  {
   "cell_type": "markdown",
   "metadata": {
    "id": "WoGRKd50x_qz"
   },
   "source": [
    "### Uniform non-inner dimensions\n",
    "\n",
    "Ragged tensors with uniform non-inner dimensions are encoded by partitioning rows with `uniform_row_length`.\n",
    "\n",
    "![Encoding of ragged tensors with uniform non-inner dimensions](https://www.tensorflow.org/images/ragged_tensors/uniform_outer.png)"
   ]
  },
  {
   "cell_type": "code",
   "execution_count": 75,
   "metadata": {
    "execution": {
     "iopub.execute_input": "2021-09-22T20:36:54.284475Z",
     "iopub.status.busy": "2021-09-22T20:36:54.283802Z",
     "iopub.status.idle": "2021-09-22T20:36:54.291581Z",
     "shell.execute_reply": "2021-09-22T20:36:54.291064Z"
    },
    "id": "70q1aCKwySgS"
   },
   "outputs": [
    {
     "name": "stdout",
     "output_type": "stream",
     "text": [
      "<tf.RaggedTensor [[[10, 11, 12], [13, 14]], [[15, 16, 17, 18], [19]]]>\n",
      "Shape: (2, 2, None)\n",
      "Number of partitioned dimensions: 2\n"
     ]
    }
   ],
   "source": [
    "rt = tf.RaggedTensor.from_uniform_row_length(\n",
    "    values=tf.RaggedTensor.from_row_splits(\n",
    "        values=[10, 11, 12, 13, 14, 15, 16, 17, 18, 19],\n",
    "        row_splits=[0, 3, 5, 9, 10]),\n",
    "    uniform_row_length=2)\n",
    "print(rt)\n",
    "print(\"Shape: {}\".format(rt.shape))\n",
    "print(\"Number of partitioned dimensions: {}\".format(rt.ragged_rank))"
   ]
  }
 ],
 "metadata": {
  "colab": {
   "collapsed_sections": [],
   "name": "ragged_tensor.ipynb",
   "toc_visible": true
  },
  "kernelspec": {
   "display_name": "Python 3 (ipykernel)",
   "language": "python",
   "name": "python3"
  },
  "language_info": {
   "codemirror_mode": {
    "name": "ipython",
    "version": 3
   },
   "file_extension": ".py",
   "mimetype": "text/x-python",
   "name": "python",
   "nbconvert_exporter": "python",
   "pygments_lexer": "ipython3",
   "version": "3.9.7"
  }
 },
 "nbformat": 4,
 "nbformat_minor": 4
}
